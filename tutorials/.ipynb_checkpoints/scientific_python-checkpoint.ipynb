{
 "cells": [
  {
   "cell_type": "markdown",
   "metadata": {},
   "source": [
    "# Scientifc Python"
   ]
  },
  {
   "cell_type": "markdown",
   "metadata": {},
   "source": [
    "In this section, we learn some basic scientific functions and packages.\n",
    "We use the [NumPy](http://www.numpy.org/), [SciPy](https://www.scipy.org/), [Matplotlib](https://matplotlib.org/), [Interpolation](https://github.com/econforge/interpolation.py), [AstroPy](http://www.astropy.org/) and [SunPy](http://sunpy.org/) packages.\n",
    "\n",
    "**Required packages**\n",
    "\n",
    "> * [Python](http://www.python.org)    v2.7 or 3.5 or 3.6    \n",
    "[![Python](https://www.python.org/static/img/python-logo.png)](http://www.python.org)\n",
    "* [NumPy](http://www.numpy.org/)    v1.7+     \n",
    "[![NumPy](http://www.numpy.org/_static/numpy_logo.png)](http://www.numpy.org/)\n",
    "* [SciPy](https://www.scipy.org/)    v1.0+    \n",
    "[![SciPy](https://www.scipy.org/_static/logo.gif)](https://www.scipy.org/)\n",
    "* [Matplotlib](https://matplotlib.org/)    v2.0+\n",
    "[![Matplotlib](https://matplotlib.org/_static/logo2.png)](https://matplotlib.org/)\n",
    "* [AstroPy](http://www.astropy.org/)    v2.0+\n",
    "[![AstroPy](http://www.astropy.org/images/astropy_banner.svg)](http://www.astropy.org/)\n",
    "* [SunPy](http://sunpy.org/)   v0.8+ (Warning ! : This package is developing package, so that some of functions can be depricated)\n",
    "[![SunPy](sample/sunpy.svg)](http://sunpy.org/)\n",
    "* [Interpolation](https://github.com/econforge/interpolation.py)  v0.18+\n",
    "\n",
    "\n",
    "Above requried packages can be downloaded by using conda command in your cmd prompt or terminal as below :\n",
    "\n",
    "    conda install -c condaforge sunpy astropy interpolation\n",
    "\n",
    "This tutorial is based on the [Scipy-Lecture notes](http://www.scipy-lectures.org).\n",
    "\n",
    "**You can download this tutorial file on the [fisspy-tutorials](https://github.com/SNU-sunday/fisspy-tutorials/tree/master/tutorials/scientific_python.ipynb) Github site below**\n",
    "\n",
    "https://github.com/SNU-sunday/fisspy-tutorials/tree/master/tutorials/scientific_python.ipynb\n",
    "\n",
    "and some examples files."
   ]
  },
  {
   "cell_type": "markdown",
   "metadata": {},
   "source": [
    "# 1. Compatibility"
   ]
  },
  {
   "cell_type": "markdown",
   "metadata": {},
   "source": [
    "Some of calling syntaxes are differen according to python version. The main differences are print statement and division operator. In python 2, division operator '**/**' is the floor division, but in python3 it isn't the floor division. In python3 floor division syntax is '**//**'\n",
    "To avoid this compatibility problem, we import the \"**future**\" method."
   ]
  },
  {
   "cell_type": "code",
   "execution_count": 1,
   "metadata": {
    "collapsed": true
   },
   "outputs": [],
   "source": [
    "from __future__ import division, print_function"
   ]
  },
  {
   "cell_type": "markdown",
   "metadata": {},
   "source": [
    "# 2. The NumPy array"
   ]
  },
  {
   "cell_type": "markdown",
   "metadata": {},
   "source": [
    "To call arrays in python, we have to import the **numpy** package at first."
   ]
  },
  {
   "cell_type": "code",
   "execution_count": 2,
   "metadata": {
    "collapsed": true
   },
   "outputs": [],
   "source": [
    "import numpy as np"
   ]
  },
  {
   "cell_type": "markdown",
   "metadata": {},
   "source": [
    "## 2.1. Manual construction of arrays"
   ]
  },
  {
   "cell_type": "code",
   "execution_count": 3,
   "metadata": {},
   "outputs": [
    {
     "data": {
      "text/plain": [
       "array([1, 5, 2, 4, 3, 0])"
      ]
     },
     "execution_count": 3,
     "metadata": {},
     "output_type": "execute_result"
    }
   ],
   "source": [
    "a = np.array([1,5,2,4,3,0])\n",
    "a"
   ]
  },
  {
   "cell_type": "markdown",
   "metadata": {},
   "source": [
    "This array can be sort by using **sort** function"
   ]
  },
  {
   "cell_type": "code",
   "execution_count": 4,
   "metadata": {},
   "outputs": [
    {
     "data": {
      "text/plain": [
       "array([0, 1, 2, 3, 4, 5])"
      ]
     },
     "execution_count": 4,
     "metadata": {},
     "output_type": "execute_result"
    }
   ],
   "source": [
    "a.sort()\n",
    "a"
   ]
  },
  {
   "cell_type": "code",
   "execution_count": 5,
   "metadata": {},
   "outputs": [
    {
     "data": {
      "text/plain": [
       "dtype('int32')"
      ]
     },
     "execution_count": 5,
     "metadata": {},
     "output_type": "execute_result"
    }
   ],
   "source": [
    "a.dtype"
   ]
  },
  {
   "cell_type": "code",
   "execution_count": 6,
   "metadata": {},
   "outputs": [
    {
     "data": {
      "text/plain": [
       "array([[ 0.,  1.,  2.],\n",
       "       [ 3.,  4.,  5.]])"
      ]
     },
     "execution_count": 6,
     "metadata": {},
     "output_type": "execute_result"
    }
   ],
   "source": [
    "b = np.array([[0,1,2],[3,4,5]],dtype = 'float')\n",
    "b"
   ]
  },
  {
   "cell_type": "code",
   "execution_count": 7,
   "metadata": {},
   "outputs": [
    {
     "data": {
      "text/plain": [
       "dtype('float64')"
      ]
     },
     "execution_count": 7,
     "metadata": {},
     "output_type": "execute_result"
    }
   ],
   "source": [
    "b.dtype"
   ]
  },
  {
   "cell_type": "code",
   "execution_count": 8,
   "metadata": {},
   "outputs": [
    {
     "data": {
      "text/plain": [
       "(2, 3)"
      ]
     },
     "execution_count": 8,
     "metadata": {},
     "output_type": "execute_result"
    }
   ],
   "source": [
    "b.shape          # Same with the size function in IDL"
   ]
  },
  {
   "cell_type": "code",
   "execution_count": 9,
   "metadata": {},
   "outputs": [
    {
     "data": {
      "text/plain": [
       "2"
      ]
     },
     "execution_count": 9,
     "metadata": {},
     "output_type": "execute_result"
    }
   ],
   "source": [
    "len(b)           # returns the size of the first dimension"
   ]
  },
  {
   "cell_type": "markdown",
   "metadata": {},
   "source": [
    "convert row array to column array"
   ]
  },
  {
   "cell_type": "code",
   "execution_count": 10,
   "metadata": {},
   "outputs": [
    {
     "data": {
      "text/plain": [
       "array([[0],\n",
       "       [1],\n",
       "       [2],\n",
       "       [3],\n",
       "       [4],\n",
       "       [5]])"
      ]
     },
     "execution_count": 10,
     "metadata": {},
     "output_type": "execute_result"
    }
   ],
   "source": [
    "c = a[:,None]\n",
    "c"
   ]
  },
  {
   "cell_type": "markdown",
   "metadata": {
    "collapsed": true
   },
   "source": [
    "## 2.2 Functions for creating arrays"
   ]
  },
  {
   "cell_type": "code",
   "execution_count": 11,
   "metadata": {},
   "outputs": [
    {
     "data": {
      "text/plain": [
       "array([0, 1, 2, 3, 4, 5])"
      ]
     },
     "execution_count": 11,
     "metadata": {},
     "output_type": "execute_result"
    }
   ],
   "source": [
    "a = np.arange(6)   # similar with the *indgen functions in IDL\n",
    "a"
   ]
  },
  {
   "cell_type": "code",
   "execution_count": 12,
   "metadata": {},
   "outputs": [
    {
     "data": {
      "text/plain": [
       "array([ 0. ,  0.1,  0.2,  0.3,  0.4,  0.5,  0.6,  0.7,  0.8,  0.9,  1. ,\n",
       "        1.1,  1.2,  1.3,  1.4,  1.5,  1.6,  1.7,  1.8,  1.9,  2. ,  2.1,\n",
       "        2.2,  2.3,  2.4,  2.5,  2.6,  2.7,  2.8,  2.9,  3. ,  3.1,  3.2,\n",
       "        3.3,  3.4,  3.5,  3.6,  3.7,  3.8,  3.9,  4. ,  4.1,  4.2,  4.3,\n",
       "        4.4,  4.5,  4.6,  4.7,  4.8,  4.9,  5. ,  5.1,  5.2,  5.3,  5.4,\n",
       "        5.5,  5.6,  5.7,  5.8,  5.9,  6. ,  6.1,  6.2,  6.3,  6.4,  6.5,\n",
       "        6.6,  6.7,  6.8,  6.9,  7. ,  7.1,  7.2,  7.3,  7.4,  7.5,  7.6,\n",
       "        7.7,  7.8,  7.9,  8. ,  8.1,  8.2,  8.3,  8.4,  8.5,  8.6,  8.7,\n",
       "        8.8,  8.9,  9. ,  9.1,  9.2,  9.3,  9.4,  9.5,  9.6,  9.7,  9.8,\n",
       "        9.9])"
      ]
     },
     "execution_count": 12,
     "metadata": {},
     "output_type": "execute_result"
    }
   ],
   "source": [
    "b = np.arange(0,10,0.1)\n",
    "b"
   ]
  },
  {
   "cell_type": "code",
   "execution_count": 13,
   "metadata": {
    "collapsed": true
   },
   "outputs": [],
   "source": [
    "np.arange?"
   ]
  },
  {
   "cell_type": "code",
   "execution_count": 14,
   "metadata": {},
   "outputs": [
    {
     "data": {
      "text/plain": [
       "array([  0. ,   0.1,   0.2,   0.3,   0.4,   0.5,   0.6,   0.7,   0.8,\n",
       "         0.9,   1. ,   1.1,   1.2,   1.3,   1.4,   1.5,   1.6,   1.7,\n",
       "         1.8,   1.9,   2. ,   2.1,   2.2,   2.3,   2.4,   2.5,   2.6,\n",
       "         2.7,   2.8,   2.9,   3. ,   3.1,   3.2,   3.3,   3.4,   3.5,\n",
       "         3.6,   3.7,   3.8,   3.9,   4. ,   4.1,   4.2,   4.3,   4.4,\n",
       "         4.5,   4.6,   4.7,   4.8,   4.9,   5. ,   5.1,   5.2,   5.3,\n",
       "         5.4,   5.5,   5.6,   5.7,   5.8,   5.9,   6. ,   6.1,   6.2,\n",
       "         6.3,   6.4,   6.5,   6.6,   6.7,   6.8,   6.9,   7. ,   7.1,\n",
       "         7.2,   7.3,   7.4,   7.5,   7.6,   7.7,   7.8,   7.9,   8. ,\n",
       "         8.1,   8.2,   8.3,   8.4,   8.5,   8.6,   8.7,   8.8,   8.9,\n",
       "         9. ,   9.1,   9.2,   9.3,   9.4,   9.5,   9.6,   9.7,   9.8,\n",
       "         9.9,  10. ])"
      ]
     },
     "execution_count": 14,
     "metadata": {},
     "output_type": "execute_result"
    }
   ],
   "source": [
    "c = np.linspace(0,10,101)\n",
    "c"
   ]
  },
  {
   "cell_type": "code",
   "execution_count": 15,
   "metadata": {
    "collapsed": true
   },
   "outputs": [],
   "source": [
    "np.linspace?"
   ]
  },
  {
   "cell_type": "code",
   "execution_count": 16,
   "metadata": {
    "collapsed": true
   },
   "outputs": [],
   "source": [
    "one = np.ones((3,3))"
   ]
  },
  {
   "cell_type": "code",
   "execution_count": 17,
   "metadata": {},
   "outputs": [
    {
     "data": {
      "text/plain": [
       "array([[ 1.,  1.,  1.],\n",
       "       [ 1.,  1.,  1.],\n",
       "       [ 1.,  1.,  1.]])"
      ]
     },
     "execution_count": 17,
     "metadata": {},
     "output_type": "execute_result"
    }
   ],
   "source": [
    "one"
   ]
  },
  {
   "cell_type": "code",
   "execution_count": 18,
   "metadata": {
    "collapsed": true
   },
   "outputs": [],
   "source": [
    "zero = np.zeros((2,3))"
   ]
  },
  {
   "cell_type": "code",
   "execution_count": 19,
   "metadata": {},
   "outputs": [
    {
     "data": {
      "text/plain": [
       "array([[ 0.,  0.,  0.],\n",
       "       [ 0.,  0.,  0.]])"
      ]
     },
     "execution_count": 19,
     "metadata": {},
     "output_type": "execute_result"
    }
   ],
   "source": [
    "zero"
   ]
  },
  {
   "cell_type": "code",
   "execution_count": 20,
   "metadata": {
    "collapsed": true
   },
   "outputs": [],
   "source": [
    "np.random.seed(2018)"
   ]
  },
  {
   "cell_type": "code",
   "execution_count": 21,
   "metadata": {},
   "outputs": [
    {
     "data": {
      "text/plain": [
       "array([ 0.88234931,  0.10432774,  0.90700933,  0.3063989 ])"
      ]
     },
     "execution_count": 21,
     "metadata": {},
     "output_type": "execute_result"
    }
   ],
   "source": [
    "randu = np.random.rand(4)   #uniform random number generator\n",
    "randu"
   ]
  },
  {
   "cell_type": "code",
   "execution_count": 22,
   "metadata": {},
   "outputs": [
    {
     "data": {
      "text/plain": [
       "array([ 2.14839926, -1.279487  ,  0.50227689,  0.8560293 , -0.14279008])"
      ]
     },
     "execution_count": 22,
     "metadata": {},
     "output_type": "execute_result"
    }
   ],
   "source": [
    "randg = np.random.randn(5) #gaussian random number generator\n",
    "randg"
   ]
  },
  {
   "cell_type": "markdown",
   "metadata": {},
   "source": [
    "#### Exercise 1)  Create an array which has equaily spaced elements from 5 to 100 with step size = 5 ."
   ]
  },
  {
   "cell_type": "code",
   "execution_count": null,
   "metadata": {
    "collapsed": true
   },
   "outputs": [],
   "source": []
  },
  {
   "cell_type": "markdown",
   "metadata": {},
   "source": [
    "#### Exercise 2) Create an array which has 100 equaily spaced elements from 0 to 2"
   ]
  },
  {
   "cell_type": "code",
   "execution_count": null,
   "metadata": {
    "collapsed": true
   },
   "outputs": [],
   "source": []
  },
  {
   "cell_type": "markdown",
   "metadata": {},
   "source": [
    "## 2.3. Indexing and slicing"
   ]
  },
  {
   "cell_type": "code",
   "execution_count": 23,
   "metadata": {
    "collapsed": true
   },
   "outputs": [],
   "source": [
    "a = np.arange(10)"
   ]
  },
  {
   "cell_type": "code",
   "execution_count": 24,
   "metadata": {},
   "outputs": [
    {
     "data": {
      "text/plain": [
       "0"
      ]
     },
     "execution_count": 24,
     "metadata": {},
     "output_type": "execute_result"
    }
   ],
   "source": [
    "a[0]"
   ]
  },
  {
   "cell_type": "code",
   "execution_count": 25,
   "metadata": {},
   "outputs": [
    {
     "data": {
      "text/plain": [
       "array([0, 1, 2, 3, 4, 5, 6, 7, 8, 9])"
      ]
     },
     "execution_count": 25,
     "metadata": {},
     "output_type": "execute_result"
    }
   ],
   "source": [
    "a[:]"
   ]
  },
  {
   "cell_type": "code",
   "execution_count": 26,
   "metadata": {},
   "outputs": [
    {
     "data": {
      "text/plain": [
       "array([3, 4, 5])"
      ]
     },
     "execution_count": 26,
     "metadata": {},
     "output_type": "execute_result"
    }
   ],
   "source": [
    "a[3:6]"
   ]
  },
  {
   "cell_type": "code",
   "execution_count": 27,
   "metadata": {},
   "outputs": [
    {
     "data": {
      "text/plain": [
       "array([3, 5, 7])"
      ]
     },
     "execution_count": 27,
     "metadata": {},
     "output_type": "execute_result"
    }
   ],
   "source": [
    "a[3:8:2]"
   ]
  },
  {
   "cell_type": "code",
   "execution_count": 28,
   "metadata": {},
   "outputs": [
    {
     "data": {
      "text/plain": [
       "array([3, 4, 5, 6, 7, 8, 9])"
      ]
     },
     "execution_count": 28,
     "metadata": {},
     "output_type": "execute_result"
    }
   ],
   "source": [
    "a[3:]"
   ]
  },
  {
   "cell_type": "markdown",
   "metadata": {},
   "source": [
    "#### Array reshaping"
   ]
  },
  {
   "cell_type": "code",
   "execution_count": 52,
   "metadata": {
    "collapsed": true
   },
   "outputs": [],
   "source": [
    "d=np.arange(25)"
   ]
  },
  {
   "cell_type": "code",
   "execution_count": 53,
   "metadata": {
    "collapsed": true
   },
   "outputs": [],
   "source": [
    "d = d.reshape((5,5))"
   ]
  },
  {
   "cell_type": "code",
   "execution_count": 54,
   "metadata": {},
   "outputs": [
    {
     "data": {
      "text/plain": [
       "array([[ 0,  1,  2,  3,  4],\n",
       "       [ 5,  6,  7,  8,  9],\n",
       "       [10, 11, 12, 13, 14],\n",
       "       [15, 16, 17, 18, 19],\n",
       "       [20, 21, 22, 23, 24]])"
      ]
     },
     "execution_count": 54,
     "metadata": {},
     "output_type": "execute_result"
    }
   ],
   "source": [
    "d"
   ]
  },
  {
   "cell_type": "code",
   "execution_count": 55,
   "metadata": {},
   "outputs": [
    {
     "data": {
      "text/plain": [
       "array([15, 16, 17, 18, 19])"
      ]
     },
     "execution_count": 55,
     "metadata": {},
     "output_type": "execute_result"
    }
   ],
   "source": [
    "d[3]"
   ]
  },
  {
   "cell_type": "code",
   "execution_count": 56,
   "metadata": {},
   "outputs": [
    {
     "data": {
      "text/plain": [
       "array([ 3,  8, 13, 18, 23])"
      ]
     },
     "execution_count": 56,
     "metadata": {},
     "output_type": "execute_result"
    }
   ],
   "source": [
    "d[:,3]"
   ]
  },
  {
   "cell_type": "code",
   "execution_count": 57,
   "metadata": {
    "collapsed": true
   },
   "outputs": [],
   "source": [
    "b = d.transpose()"
   ]
  },
  {
   "cell_type": "code",
   "execution_count": 58,
   "metadata": {},
   "outputs": [
    {
     "data": {
      "text/plain": [
       "array([ 3,  8, 13, 18, 23])"
      ]
     },
     "execution_count": 58,
     "metadata": {},
     "output_type": "execute_result"
    }
   ],
   "source": [
    "b[3]"
   ]
  },
  {
   "cell_type": "code",
   "execution_count": 59,
   "metadata": {},
   "outputs": [
    {
     "data": {
      "text/plain": [
       "array([[0, 1, 2, 3, 4],\n",
       "       [5, 6, 7, 8, 9]])"
      ]
     },
     "execution_count": 59,
     "metadata": {},
     "output_type": "execute_result"
    }
   ],
   "source": [
    "d[:2]"
   ]
  },
  {
   "cell_type": "markdown",
   "metadata": {},
   "source": [
    "## 2.4. Broadcasting"
   ]
  },
  {
   "cell_type": "code",
   "execution_count": 60,
   "metadata": {
    "collapsed": true
   },
   "outputs": [],
   "source": [
    "a = np.arange(5)"
   ]
  },
  {
   "cell_type": "code",
   "execution_count": 61,
   "metadata": {
    "collapsed": true
   },
   "outputs": [],
   "source": [
    "b = np.ones(5, dtype=int)"
   ]
  },
  {
   "cell_type": "code",
   "execution_count": 62,
   "metadata": {},
   "outputs": [
    {
     "data": {
      "text/plain": [
       "array([0, 1, 2, 3, 4])"
      ]
     },
     "execution_count": 62,
     "metadata": {},
     "output_type": "execute_result"
    }
   ],
   "source": [
    "a"
   ]
  },
  {
   "cell_type": "code",
   "execution_count": 63,
   "metadata": {},
   "outputs": [
    {
     "data": {
      "text/plain": [
       "array([1, 1, 1, 1, 1])"
      ]
     },
     "execution_count": 63,
     "metadata": {},
     "output_type": "execute_result"
    }
   ],
   "source": [
    "b"
   ]
  },
  {
   "cell_type": "code",
   "execution_count": 64,
   "metadata": {
    "collapsed": true,
    "scrolled": false
   },
   "outputs": [],
   "source": [
    "c = a+b[:,None]"
   ]
  },
  {
   "cell_type": "code",
   "execution_count": 65,
   "metadata": {},
   "outputs": [
    {
     "data": {
      "text/plain": [
       "array([[1, 2, 3, 4, 5],\n",
       "       [1, 2, 3, 4, 5],\n",
       "       [1, 2, 3, 4, 5],\n",
       "       [1, 2, 3, 4, 5],\n",
       "       [1, 2, 3, 4, 5]])"
      ]
     },
     "execution_count": 65,
     "metadata": {},
     "output_type": "execute_result"
    }
   ],
   "source": [
    "c"
   ]
  },
  {
   "cell_type": "code",
   "execution_count": 66,
   "metadata": {},
   "outputs": [
    {
     "data": {
      "text/plain": [
       "array([[1, 3, 5, 7, 9],\n",
       "       [1, 3, 5, 7, 9],\n",
       "       [1, 3, 5, 7, 9],\n",
       "       [1, 3, 5, 7, 9],\n",
       "       [1, 3, 5, 7, 9]])"
      ]
     },
     "execution_count": 66,
     "metadata": {},
     "output_type": "execute_result"
    }
   ],
   "source": [
    "c + a"
   ]
  },
  {
   "cell_type": "code",
   "execution_count": 67,
   "metadata": {
    "scrolled": true
   },
   "outputs": [
    {
     "data": {
      "text/plain": [
       "array([[1, 2, 3, 4, 5],\n",
       "       [2, 3, 4, 5, 6],\n",
       "       [3, 4, 5, 6, 7],\n",
       "       [4, 5, 6, 7, 8],\n",
       "       [5, 6, 7, 8, 9]])"
      ]
     },
     "execution_count": 67,
     "metadata": {},
     "output_type": "execute_result"
    }
   ],
   "source": [
    "c + a[:,None]"
   ]
  },
  {
   "cell_type": "markdown",
   "metadata": {},
   "source": [
    "**Exercise 3) Create the $10 \\times 10$ multiplication table. (Do not use 'for' loop.)**\n",
    "\n",
    "![Multiplication](sample/multiplication-table-10x10.gif)"
   ]
  },
  {
   "cell_type": "code",
   "execution_count": null,
   "metadata": {
    "collapsed": true
   },
   "outputs": [],
   "source": []
  },
  {
   "cell_type": "code",
   "execution_count": null,
   "metadata": {
    "collapsed": true
   },
   "outputs": [],
   "source": []
  },
  {
   "cell_type": "markdown",
   "metadata": {},
   "source": [
    "## 2.5. Boolean operation"
   ]
  },
  {
   "cell_type": "code",
   "execution_count": 68,
   "metadata": {},
   "outputs": [
    {
     "data": {
      "text/plain": [
       "array([[1, 2, 3, 4, 5],\n",
       "       [1, 2, 3, 4, 5],\n",
       "       [1, 2, 3, 4, 5],\n",
       "       [1, 2, 3, 4, 5],\n",
       "       [1, 2, 3, 4, 5]])"
      ]
     },
     "execution_count": 68,
     "metadata": {},
     "output_type": "execute_result"
    }
   ],
   "source": [
    "c"
   ]
  },
  {
   "cell_type": "code",
   "execution_count": 69,
   "metadata": {},
   "outputs": [
    {
     "data": {
      "text/plain": [
       "array([[ True, False, False, False, False],\n",
       "       [ True, False, False, False, False],\n",
       "       [ True, False, False, False, False],\n",
       "       [ True, False, False, False, False],\n",
       "       [ True, False, False, False, False]], dtype=bool)"
      ]
     },
     "execution_count": 69,
     "metadata": {},
     "output_type": "execute_result"
    }
   ],
   "source": [
    "c == 1"
   ]
  },
  {
   "cell_type": "code",
   "execution_count": 70,
   "metadata": {},
   "outputs": [
    {
     "data": {
      "text/plain": [
       "array([1, 1, 1, 1, 1])"
      ]
     },
     "execution_count": 70,
     "metadata": {},
     "output_type": "execute_result"
    }
   ],
   "source": [
    "b"
   ]
  },
  {
   "cell_type": "code",
   "execution_count": 74,
   "metadata": {
    "collapsed": true
   },
   "outputs": [],
   "source": [
    "mask = c <= b"
   ]
  },
  {
   "cell_type": "code",
   "execution_count": 75,
   "metadata": {},
   "outputs": [
    {
     "data": {
      "text/plain": [
       "array([[ True, False, False, False, False],\n",
       "       [ True, False, False, False, False],\n",
       "       [ True, False, False, False, False],\n",
       "       [ True, False, False, False, False],\n",
       "       [ True, False, False, False, False]], dtype=bool)"
      ]
     },
     "execution_count": 75,
     "metadata": {},
     "output_type": "execute_result"
    }
   ],
   "source": [
    "mask"
   ]
  },
  {
   "cell_type": "code",
   "execution_count": 76,
   "metadata": {
    "scrolled": true
   },
   "outputs": [
    {
     "data": {
      "text/plain": [
       "array([[ 0,  1,  2,  3,  4],\n",
       "       [ 5,  6,  7,  8,  9],\n",
       "       [10, 11, 12, 13, 14],\n",
       "       [15, 16, 17, 18, 19],\n",
       "       [20, 21, 22, 23, 24]])"
      ]
     },
     "execution_count": 76,
     "metadata": {},
     "output_type": "execute_result"
    }
   ],
   "source": [
    "d"
   ]
  },
  {
   "cell_type": "code",
   "execution_count": 77,
   "metadata": {},
   "outputs": [
    {
     "data": {
      "text/plain": [
       "array([ 0,  5, 10, 15, 20])"
      ]
     },
     "execution_count": 77,
     "metadata": {},
     "output_type": "execute_result"
    }
   ],
   "source": [
    "d[mask]"
   ]
  },
  {
   "cell_type": "code",
   "execution_count": 93,
   "metadata": {},
   "outputs": [
    {
     "data": {
      "text/plain": [
       "(array([0, 1, 2, 3, 4], dtype=int64), array([0, 0, 0, 0, 0], dtype=int64))"
      ]
     },
     "execution_count": 93,
     "metadata": {},
     "output_type": "execute_result"
    }
   ],
   "source": [
    "np.where(mask)"
   ]
  },
  {
   "cell_type": "code",
   "execution_count": 50,
   "metadata": {},
   "outputs": [
    {
     "data": {
      "text/plain": [
       "True"
      ]
     },
     "execution_count": 50,
     "metadata": {},
     "output_type": "execute_result"
    }
   ],
   "source": [
    "True or False"
   ]
  },
  {
   "cell_type": "code",
   "execution_count": 78,
   "metadata": {},
   "outputs": [
    {
     "data": {
      "text/plain": [
       "False"
      ]
     },
     "execution_count": 78,
     "metadata": {},
     "output_type": "execute_result"
    }
   ],
   "source": [
    "True and False"
   ]
  },
  {
   "cell_type": "code",
   "execution_count": 79,
   "metadata": {
    "collapsed": true
   },
   "outputs": [],
   "source": [
    "mask1 = np.array([True,False,False,True,False])\n",
    "mask2 = np.array([True,True,False,True,False])"
   ]
  },
  {
   "cell_type": "code",
   "execution_count": 80,
   "metadata": {},
   "outputs": [
    {
     "ename": "ValueError",
     "evalue": "The truth value of an array with more than one element is ambiguous. Use a.any() or a.all()",
     "output_type": "error",
     "traceback": [
      "\u001b[1;31m---------------------------------------------------------------------------\u001b[0m",
      "\u001b[1;31mValueError\u001b[0m                                Traceback (most recent call last)",
      "\u001b[1;32m<ipython-input-80-df0b0dad315b>\u001b[0m in \u001b[0;36m<module>\u001b[1;34m()\u001b[0m\n\u001b[1;32m----> 1\u001b[1;33m \u001b[0mmask1\u001b[0m \u001b[1;32mor\u001b[0m \u001b[0mmask\u001b[0m\u001b[1;33m\u001b[0m\u001b[0m\n\u001b[0m",
      "\u001b[1;31mValueError\u001b[0m: The truth value of an array with more than one element is ambiguous. Use a.any() or a.all()"
     ]
    }
   ],
   "source": [
    "mask1 or mask"
   ]
  },
  {
   "cell_type": "code",
   "execution_count": 81,
   "metadata": {},
   "outputs": [
    {
     "ename": "ValueError",
     "evalue": "The truth value of an array with more than one element is ambiguous. Use a.any() or a.all()",
     "output_type": "error",
     "traceback": [
      "\u001b[1;31m---------------------------------------------------------------------------\u001b[0m",
      "\u001b[1;31mValueError\u001b[0m                                Traceback (most recent call last)",
      "\u001b[1;32m<ipython-input-81-d93ac612a2e9>\u001b[0m in \u001b[0;36m<module>\u001b[1;34m()\u001b[0m\n\u001b[1;32m----> 1\u001b[1;33m \u001b[0mmask1\u001b[0m \u001b[1;32mand\u001b[0m \u001b[0mmask2\u001b[0m\u001b[1;33m\u001b[0m\u001b[0m\n\u001b[0m",
      "\u001b[1;31mValueError\u001b[0m: The truth value of an array with more than one element is ambiguous. Use a.any() or a.all()"
     ]
    }
   ],
   "source": [
    "mask1 and mask2"
   ]
  },
  {
   "cell_type": "code",
   "execution_count": 83,
   "metadata": {},
   "outputs": [
    {
     "data": {
      "text/plain": [
       "array([ True, False, False,  True, False], dtype=bool)"
      ]
     },
     "execution_count": 83,
     "metadata": {},
     "output_type": "execute_result"
    }
   ],
   "source": [
    "np.logical_and(mask1, mask2)"
   ]
  },
  {
   "cell_type": "code",
   "execution_count": 84,
   "metadata": {},
   "outputs": [
    {
     "data": {
      "text/plain": [
       "array([ True,  True, False,  True, False], dtype=bool)"
      ]
     },
     "execution_count": 84,
     "metadata": {},
     "output_type": "execute_result"
    }
   ],
   "source": [
    "np.logical_or(mask1, mask2)"
   ]
  },
  {
   "cell_type": "markdown",
   "metadata": {},
   "source": [
    "## 2.6. Basic Reduction"
   ]
  },
  {
   "cell_type": "markdown",
   "metadata": {},
   "source": [
    "![Basic Reduction](sample/basic_reduction.png)"
   ]
  },
  {
   "cell_type": "code",
   "execution_count": 94,
   "metadata": {
    "collapsed": true
   },
   "outputs": [],
   "source": [
    "d[0,3]=-1\n",
    "d[2,2]=-10"
   ]
  },
  {
   "cell_type": "code",
   "execution_count": 95,
   "metadata": {},
   "outputs": [
    {
     "data": {
      "text/plain": [
       "array([[  0,   1,   2,  -1,   4],\n",
       "       [  5,   6,   7,   8,   9],\n",
       "       [ 10,  11, -10,  13,  14],\n",
       "       [ 15,  16,  17,  18,  19],\n",
       "       [ 20,  21,  22,  23,  24]])"
      ]
     },
     "execution_count": 95,
     "metadata": {},
     "output_type": "execute_result"
    }
   ],
   "source": [
    "d"
   ]
  },
  {
   "cell_type": "code",
   "execution_count": 96,
   "metadata": {},
   "outputs": [
    {
     "data": {
      "text/plain": [
       "274"
      ]
     },
     "execution_count": 96,
     "metadata": {},
     "output_type": "execute_result"
    }
   ],
   "source": [
    "d.sum()"
   ]
  },
  {
   "cell_type": "code",
   "execution_count": 98,
   "metadata": {},
   "outputs": [
    {
     "data": {
      "text/plain": [
       "array([50, 55, 38, 61, 70])"
      ]
     },
     "execution_count": 98,
     "metadata": {},
     "output_type": "execute_result"
    }
   ],
   "source": [
    "d.sum(0)"
   ]
  },
  {
   "cell_type": "code",
   "execution_count": 99,
   "metadata": {},
   "outputs": [
    {
     "data": {
      "text/plain": [
       "array([  1.2,   7. ,   7.6,  17. ,  22. ])"
      ]
     },
     "execution_count": 99,
     "metadata": {},
     "output_type": "execute_result"
    }
   ],
   "source": [
    "d.mean(1)"
   ]
  },
  {
   "cell_type": "code",
   "execution_count": 102,
   "metadata": {},
   "outputs": [
    {
     "data": {
      "text/plain": [
       "array([ -1,   5, -10,  15,  20])"
      ]
     },
     "execution_count": 102,
     "metadata": {},
     "output_type": "execute_result"
    }
   ],
   "source": [
    "d.min(1)"
   ]
  },
  {
   "cell_type": "code",
   "execution_count": 103,
   "metadata": {},
   "outputs": [
    {
     "data": {
      "text/plain": [
       "array([3, 0, 2, 0, 0], dtype=int64)"
      ]
     },
     "execution_count": 103,
     "metadata": {},
     "output_type": "execute_result"
    }
   ],
   "source": [
    "d.argmin(1)"
   ]
  },
  {
   "cell_type": "markdown",
   "metadata": {},
   "source": [
    "**Exercise 4) Create the 10x10 gaussian random number, and find the minimum value along the axis 0**"
   ]
  },
  {
   "cell_type": "code",
   "execution_count": null,
   "metadata": {
    "collapsed": true
   },
   "outputs": [],
   "source": []
  },
  {
   "cell_type": "markdown",
   "metadata": {},
   "source": [
    "# 3. Plotting (Using Matplotlib)"
   ]
  },
  {
   "cell_type": "markdown",
   "metadata": {},
   "source": [
    "In this section, we are going to learn a simple way to visualize data in interactive mode by using the matplotlib package.\n",
    "matplotlib package is based on the Matlab plot device.\n",
    "\n",
    "First we change the default backend mode to interactive mode in the IPython console."
   ]
  },
  {
   "cell_type": "code",
   "execution_count": 110,
   "metadata": {},
   "outputs": [
    {
     "name": "stdout",
     "output_type": "stream",
     "text": [
      "Using matplotlib backend: Qt5Agg\n"
     ]
    }
   ],
   "source": [
    "%matplotlib"
   ]
  },
  {
   "cell_type": "markdown",
   "metadata": {},
   "source": [
    "If you use the Jupyter notebook like this manual, type the magic funcition like below:"
   ]
  },
  {
   "cell_type": "code",
   "execution_count": 3,
   "metadata": {
    "collapsed": true
   },
   "outputs": [],
   "source": [
    "%matplotlib notebook"
   ]
  },
  {
   "cell_type": "markdown",
   "metadata": {},
   "source": [
    "or :"
   ]
  },
  {
   "cell_type": "code",
   "execution_count": 3,
   "metadata": {
    "collapsed": true
   },
   "outputs": [],
   "source": [
    "%matplotlib inline"
   ]
  },
  {
   "cell_type": "markdown",
   "metadata": {},
   "source": [
    "Then import the pyplot module in matplotlib package."
   ]
  },
  {
   "cell_type": "code",
   "execution_count": 4,
   "metadata": {
    "collapsed": true
   },
   "outputs": [],
   "source": [
    "import matplotlib.pyplot as plt"
   ]
  },
  {
   "cell_type": "markdown",
   "metadata": {},
   "source": [
    "Now we draw the cosine and sine functiuons on the same plot from $0$ to $2\\pi$."
   ]
  },
  {
   "cell_type": "code",
   "execution_count": 14,
   "metadata": {
    "collapsed": true
   },
   "outputs": [],
   "source": [
    "theta = np.linspace(0, 2*np.pi,151)\n",
    "c = np.cos(theta)\n",
    "s = np.sin(theta)"
   ]
  },
  {
   "cell_type": "code",
   "execution_count": 15,
   "metadata": {},
   "outputs": [
    {
     "data": {
      "application/javascript": [
       "/* Put everything inside the global mpl namespace */\n",
       "window.mpl = {};\n",
       "\n",
       "\n",
       "mpl.get_websocket_type = function() {\n",
       "    if (typeof(WebSocket) !== 'undefined') {\n",
       "        return WebSocket;\n",
       "    } else if (typeof(MozWebSocket) !== 'undefined') {\n",
       "        return MozWebSocket;\n",
       "    } else {\n",
       "        alert('Your browser does not have WebSocket support.' +\n",
       "              'Please try Chrome, Safari or Firefox ≥ 6. ' +\n",
       "              'Firefox 4 and 5 are also supported but you ' +\n",
       "              'have to enable WebSockets in about:config.');\n",
       "    };\n",
       "}\n",
       "\n",
       "mpl.figure = function(figure_id, websocket, ondownload, parent_element) {\n",
       "    this.id = figure_id;\n",
       "\n",
       "    this.ws = websocket;\n",
       "\n",
       "    this.supports_binary = (this.ws.binaryType != undefined);\n",
       "\n",
       "    if (!this.supports_binary) {\n",
       "        var warnings = document.getElementById(\"mpl-warnings\");\n",
       "        if (warnings) {\n",
       "            warnings.style.display = 'block';\n",
       "            warnings.textContent = (\n",
       "                \"This browser does not support binary websocket messages. \" +\n",
       "                    \"Performance may be slow.\");\n",
       "        }\n",
       "    }\n",
       "\n",
       "    this.imageObj = new Image();\n",
       "\n",
       "    this.context = undefined;\n",
       "    this.message = undefined;\n",
       "    this.canvas = undefined;\n",
       "    this.rubberband_canvas = undefined;\n",
       "    this.rubberband_context = undefined;\n",
       "    this.format_dropdown = undefined;\n",
       "\n",
       "    this.image_mode = 'full';\n",
       "\n",
       "    this.root = $('<div/>');\n",
       "    this._root_extra_style(this.root)\n",
       "    this.root.attr('style', 'display: inline-block');\n",
       "\n",
       "    $(parent_element).append(this.root);\n",
       "\n",
       "    this._init_header(this);\n",
       "    this._init_canvas(this);\n",
       "    this._init_toolbar(this);\n",
       "\n",
       "    var fig = this;\n",
       "\n",
       "    this.waiting = false;\n",
       "\n",
       "    this.ws.onopen =  function () {\n",
       "            fig.send_message(\"supports_binary\", {value: fig.supports_binary});\n",
       "            fig.send_message(\"send_image_mode\", {});\n",
       "            if (mpl.ratio != 1) {\n",
       "                fig.send_message(\"set_dpi_ratio\", {'dpi_ratio': mpl.ratio});\n",
       "            }\n",
       "            fig.send_message(\"refresh\", {});\n",
       "        }\n",
       "\n",
       "    this.imageObj.onload = function() {\n",
       "            if (fig.image_mode == 'full') {\n",
       "                // Full images could contain transparency (where diff images\n",
       "                // almost always do), so we need to clear the canvas so that\n",
       "                // there is no ghosting.\n",
       "                fig.context.clearRect(0, 0, fig.canvas.width, fig.canvas.height);\n",
       "            }\n",
       "            fig.context.drawImage(fig.imageObj, 0, 0);\n",
       "        };\n",
       "\n",
       "    this.imageObj.onunload = function() {\n",
       "        fig.ws.close();\n",
       "    }\n",
       "\n",
       "    this.ws.onmessage = this._make_on_message_function(this);\n",
       "\n",
       "    this.ondownload = ondownload;\n",
       "}\n",
       "\n",
       "mpl.figure.prototype._init_header = function() {\n",
       "    var titlebar = $(\n",
       "        '<div class=\"ui-dialog-titlebar ui-widget-header ui-corner-all ' +\n",
       "        'ui-helper-clearfix\"/>');\n",
       "    var titletext = $(\n",
       "        '<div class=\"ui-dialog-title\" style=\"width: 100%; ' +\n",
       "        'text-align: center; padding: 3px;\"/>');\n",
       "    titlebar.append(titletext)\n",
       "    this.root.append(titlebar);\n",
       "    this.header = titletext[0];\n",
       "}\n",
       "\n",
       "\n",
       "\n",
       "mpl.figure.prototype._canvas_extra_style = function(canvas_div) {\n",
       "\n",
       "}\n",
       "\n",
       "\n",
       "mpl.figure.prototype._root_extra_style = function(canvas_div) {\n",
       "\n",
       "}\n",
       "\n",
       "mpl.figure.prototype._init_canvas = function() {\n",
       "    var fig = this;\n",
       "\n",
       "    var canvas_div = $('<div/>');\n",
       "\n",
       "    canvas_div.attr('style', 'position: relative; clear: both; outline: 0');\n",
       "\n",
       "    function canvas_keyboard_event(event) {\n",
       "        return fig.key_event(event, event['data']);\n",
       "    }\n",
       "\n",
       "    canvas_div.keydown('key_press', canvas_keyboard_event);\n",
       "    canvas_div.keyup('key_release', canvas_keyboard_event);\n",
       "    this.canvas_div = canvas_div\n",
       "    this._canvas_extra_style(canvas_div)\n",
       "    this.root.append(canvas_div);\n",
       "\n",
       "    var canvas = $('<canvas/>');\n",
       "    canvas.addClass('mpl-canvas');\n",
       "    canvas.attr('style', \"left: 0; top: 0; z-index: 0; outline: 0\")\n",
       "\n",
       "    this.canvas = canvas[0];\n",
       "    this.context = canvas[0].getContext(\"2d\");\n",
       "\n",
       "    var backingStore = this.context.backingStorePixelRatio ||\n",
       "\tthis.context.webkitBackingStorePixelRatio ||\n",
       "\tthis.context.mozBackingStorePixelRatio ||\n",
       "\tthis.context.msBackingStorePixelRatio ||\n",
       "\tthis.context.oBackingStorePixelRatio ||\n",
       "\tthis.context.backingStorePixelRatio || 1;\n",
       "\n",
       "    mpl.ratio = (window.devicePixelRatio || 1) / backingStore;\n",
       "\n",
       "    var rubberband = $('<canvas/>');\n",
       "    rubberband.attr('style', \"position: absolute; left: 0; top: 0; z-index: 1;\")\n",
       "\n",
       "    var pass_mouse_events = true;\n",
       "\n",
       "    canvas_div.resizable({\n",
       "        start: function(event, ui) {\n",
       "            pass_mouse_events = false;\n",
       "        },\n",
       "        resize: function(event, ui) {\n",
       "            fig.request_resize(ui.size.width, ui.size.height);\n",
       "        },\n",
       "        stop: function(event, ui) {\n",
       "            pass_mouse_events = true;\n",
       "            fig.request_resize(ui.size.width, ui.size.height);\n",
       "        },\n",
       "    });\n",
       "\n",
       "    function mouse_event_fn(event) {\n",
       "        if (pass_mouse_events)\n",
       "            return fig.mouse_event(event, event['data']);\n",
       "    }\n",
       "\n",
       "    rubberband.mousedown('button_press', mouse_event_fn);\n",
       "    rubberband.mouseup('button_release', mouse_event_fn);\n",
       "    // Throttle sequential mouse events to 1 every 20ms.\n",
       "    rubberband.mousemove('motion_notify', mouse_event_fn);\n",
       "\n",
       "    rubberband.mouseenter('figure_enter', mouse_event_fn);\n",
       "    rubberband.mouseleave('figure_leave', mouse_event_fn);\n",
       "\n",
       "    canvas_div.on(\"wheel\", function (event) {\n",
       "        event = event.originalEvent;\n",
       "        event['data'] = 'scroll'\n",
       "        if (event.deltaY < 0) {\n",
       "            event.step = 1;\n",
       "        } else {\n",
       "            event.step = -1;\n",
       "        }\n",
       "        mouse_event_fn(event);\n",
       "    });\n",
       "\n",
       "    canvas_div.append(canvas);\n",
       "    canvas_div.append(rubberband);\n",
       "\n",
       "    this.rubberband = rubberband;\n",
       "    this.rubberband_canvas = rubberband[0];\n",
       "    this.rubberband_context = rubberband[0].getContext(\"2d\");\n",
       "    this.rubberband_context.strokeStyle = \"#000000\";\n",
       "\n",
       "    this._resize_canvas = function(width, height) {\n",
       "        // Keep the size of the canvas, canvas container, and rubber band\n",
       "        // canvas in synch.\n",
       "        canvas_div.css('width', width)\n",
       "        canvas_div.css('height', height)\n",
       "\n",
       "        canvas.attr('width', width * mpl.ratio);\n",
       "        canvas.attr('height', height * mpl.ratio);\n",
       "        canvas.attr('style', 'width: ' + width + 'px; height: ' + height + 'px;');\n",
       "\n",
       "        rubberband.attr('width', width);\n",
       "        rubberband.attr('height', height);\n",
       "    }\n",
       "\n",
       "    // Set the figure to an initial 600x600px, this will subsequently be updated\n",
       "    // upon first draw.\n",
       "    this._resize_canvas(600, 600);\n",
       "\n",
       "    // Disable right mouse context menu.\n",
       "    $(this.rubberband_canvas).bind(\"contextmenu\",function(e){\n",
       "        return false;\n",
       "    });\n",
       "\n",
       "    function set_focus () {\n",
       "        canvas.focus();\n",
       "        canvas_div.focus();\n",
       "    }\n",
       "\n",
       "    window.setTimeout(set_focus, 100);\n",
       "}\n",
       "\n",
       "mpl.figure.prototype._init_toolbar = function() {\n",
       "    var fig = this;\n",
       "\n",
       "    var nav_element = $('<div/>')\n",
       "    nav_element.attr('style', 'width: 100%');\n",
       "    this.root.append(nav_element);\n",
       "\n",
       "    // Define a callback function for later on.\n",
       "    function toolbar_event(event) {\n",
       "        return fig.toolbar_button_onclick(event['data']);\n",
       "    }\n",
       "    function toolbar_mouse_event(event) {\n",
       "        return fig.toolbar_button_onmouseover(event['data']);\n",
       "    }\n",
       "\n",
       "    for(var toolbar_ind in mpl.toolbar_items) {\n",
       "        var name = mpl.toolbar_items[toolbar_ind][0];\n",
       "        var tooltip = mpl.toolbar_items[toolbar_ind][1];\n",
       "        var image = mpl.toolbar_items[toolbar_ind][2];\n",
       "        var method_name = mpl.toolbar_items[toolbar_ind][3];\n",
       "\n",
       "        if (!name) {\n",
       "            // put a spacer in here.\n",
       "            continue;\n",
       "        }\n",
       "        var button = $('<button/>');\n",
       "        button.addClass('ui-button ui-widget ui-state-default ui-corner-all ' +\n",
       "                        'ui-button-icon-only');\n",
       "        button.attr('role', 'button');\n",
       "        button.attr('aria-disabled', 'false');\n",
       "        button.click(method_name, toolbar_event);\n",
       "        button.mouseover(tooltip, toolbar_mouse_event);\n",
       "\n",
       "        var icon_img = $('<span/>');\n",
       "        icon_img.addClass('ui-button-icon-primary ui-icon');\n",
       "        icon_img.addClass(image);\n",
       "        icon_img.addClass('ui-corner-all');\n",
       "\n",
       "        var tooltip_span = $('<span/>');\n",
       "        tooltip_span.addClass('ui-button-text');\n",
       "        tooltip_span.html(tooltip);\n",
       "\n",
       "        button.append(icon_img);\n",
       "        button.append(tooltip_span);\n",
       "\n",
       "        nav_element.append(button);\n",
       "    }\n",
       "\n",
       "    var fmt_picker_span = $('<span/>');\n",
       "\n",
       "    var fmt_picker = $('<select/>');\n",
       "    fmt_picker.addClass('mpl-toolbar-option ui-widget ui-widget-content');\n",
       "    fmt_picker_span.append(fmt_picker);\n",
       "    nav_element.append(fmt_picker_span);\n",
       "    this.format_dropdown = fmt_picker[0];\n",
       "\n",
       "    for (var ind in mpl.extensions) {\n",
       "        var fmt = mpl.extensions[ind];\n",
       "        var option = $(\n",
       "            '<option/>', {selected: fmt === mpl.default_extension}).html(fmt);\n",
       "        fmt_picker.append(option)\n",
       "    }\n",
       "\n",
       "    // Add hover states to the ui-buttons\n",
       "    $( \".ui-button\" ).hover(\n",
       "        function() { $(this).addClass(\"ui-state-hover\");},\n",
       "        function() { $(this).removeClass(\"ui-state-hover\");}\n",
       "    );\n",
       "\n",
       "    var status_bar = $('<span class=\"mpl-message\"/>');\n",
       "    nav_element.append(status_bar);\n",
       "    this.message = status_bar[0];\n",
       "}\n",
       "\n",
       "mpl.figure.prototype.request_resize = function(x_pixels, y_pixels) {\n",
       "    // Request matplotlib to resize the figure. Matplotlib will then trigger a resize in the client,\n",
       "    // which will in turn request a refresh of the image.\n",
       "    this.send_message('resize', {'width': x_pixels, 'height': y_pixels});\n",
       "}\n",
       "\n",
       "mpl.figure.prototype.send_message = function(type, properties) {\n",
       "    properties['type'] = type;\n",
       "    properties['figure_id'] = this.id;\n",
       "    this.ws.send(JSON.stringify(properties));\n",
       "}\n",
       "\n",
       "mpl.figure.prototype.send_draw_message = function() {\n",
       "    if (!this.waiting) {\n",
       "        this.waiting = true;\n",
       "        this.ws.send(JSON.stringify({type: \"draw\", figure_id: this.id}));\n",
       "    }\n",
       "}\n",
       "\n",
       "\n",
       "mpl.figure.prototype.handle_save = function(fig, msg) {\n",
       "    var format_dropdown = fig.format_dropdown;\n",
       "    var format = format_dropdown.options[format_dropdown.selectedIndex].value;\n",
       "    fig.ondownload(fig, format);\n",
       "}\n",
       "\n",
       "\n",
       "mpl.figure.prototype.handle_resize = function(fig, msg) {\n",
       "    var size = msg['size'];\n",
       "    if (size[0] != fig.canvas.width || size[1] != fig.canvas.height) {\n",
       "        fig._resize_canvas(size[0], size[1]);\n",
       "        fig.send_message(\"refresh\", {});\n",
       "    };\n",
       "}\n",
       "\n",
       "mpl.figure.prototype.handle_rubberband = function(fig, msg) {\n",
       "    var x0 = msg['x0'] / mpl.ratio;\n",
       "    var y0 = (fig.canvas.height - msg['y0']) / mpl.ratio;\n",
       "    var x1 = msg['x1'] / mpl.ratio;\n",
       "    var y1 = (fig.canvas.height - msg['y1']) / mpl.ratio;\n",
       "    x0 = Math.floor(x0) + 0.5;\n",
       "    y0 = Math.floor(y0) + 0.5;\n",
       "    x1 = Math.floor(x1) + 0.5;\n",
       "    y1 = Math.floor(y1) + 0.5;\n",
       "    var min_x = Math.min(x0, x1);\n",
       "    var min_y = Math.min(y0, y1);\n",
       "    var width = Math.abs(x1 - x0);\n",
       "    var height = Math.abs(y1 - y0);\n",
       "\n",
       "    fig.rubberband_context.clearRect(\n",
       "        0, 0, fig.canvas.width, fig.canvas.height);\n",
       "\n",
       "    fig.rubberband_context.strokeRect(min_x, min_y, width, height);\n",
       "}\n",
       "\n",
       "mpl.figure.prototype.handle_figure_label = function(fig, msg) {\n",
       "    // Updates the figure title.\n",
       "    fig.header.textContent = msg['label'];\n",
       "}\n",
       "\n",
       "mpl.figure.prototype.handle_cursor = function(fig, msg) {\n",
       "    var cursor = msg['cursor'];\n",
       "    switch(cursor)\n",
       "    {\n",
       "    case 0:\n",
       "        cursor = 'pointer';\n",
       "        break;\n",
       "    case 1:\n",
       "        cursor = 'default';\n",
       "        break;\n",
       "    case 2:\n",
       "        cursor = 'crosshair';\n",
       "        break;\n",
       "    case 3:\n",
       "        cursor = 'move';\n",
       "        break;\n",
       "    }\n",
       "    fig.rubberband_canvas.style.cursor = cursor;\n",
       "}\n",
       "\n",
       "mpl.figure.prototype.handle_message = function(fig, msg) {\n",
       "    fig.message.textContent = msg['message'];\n",
       "}\n",
       "\n",
       "mpl.figure.prototype.handle_draw = function(fig, msg) {\n",
       "    // Request the server to send over a new figure.\n",
       "    fig.send_draw_message();\n",
       "}\n",
       "\n",
       "mpl.figure.prototype.handle_image_mode = function(fig, msg) {\n",
       "    fig.image_mode = msg['mode'];\n",
       "}\n",
       "\n",
       "mpl.figure.prototype.updated_canvas_event = function() {\n",
       "    // Called whenever the canvas gets updated.\n",
       "    this.send_message(\"ack\", {});\n",
       "}\n",
       "\n",
       "// A function to construct a web socket function for onmessage handling.\n",
       "// Called in the figure constructor.\n",
       "mpl.figure.prototype._make_on_message_function = function(fig) {\n",
       "    return function socket_on_message(evt) {\n",
       "        if (evt.data instanceof Blob) {\n",
       "            /* FIXME: We get \"Resource interpreted as Image but\n",
       "             * transferred with MIME type text/plain:\" errors on\n",
       "             * Chrome.  But how to set the MIME type?  It doesn't seem\n",
       "             * to be part of the websocket stream */\n",
       "            evt.data.type = \"image/png\";\n",
       "\n",
       "            /* Free the memory for the previous frames */\n",
       "            if (fig.imageObj.src) {\n",
       "                (window.URL || window.webkitURL).revokeObjectURL(\n",
       "                    fig.imageObj.src);\n",
       "            }\n",
       "\n",
       "            fig.imageObj.src = (window.URL || window.webkitURL).createObjectURL(\n",
       "                evt.data);\n",
       "            fig.updated_canvas_event();\n",
       "            fig.waiting = false;\n",
       "            return;\n",
       "        }\n",
       "        else if (typeof evt.data === 'string' && evt.data.slice(0, 21) == \"data:image/png;base64\") {\n",
       "            fig.imageObj.src = evt.data;\n",
       "            fig.updated_canvas_event();\n",
       "            fig.waiting = false;\n",
       "            return;\n",
       "        }\n",
       "\n",
       "        var msg = JSON.parse(evt.data);\n",
       "        var msg_type = msg['type'];\n",
       "\n",
       "        // Call the  \"handle_{type}\" callback, which takes\n",
       "        // the figure and JSON message as its only arguments.\n",
       "        try {\n",
       "            var callback = fig[\"handle_\" + msg_type];\n",
       "        } catch (e) {\n",
       "            console.log(\"No handler for the '\" + msg_type + \"' message type: \", msg);\n",
       "            return;\n",
       "        }\n",
       "\n",
       "        if (callback) {\n",
       "            try {\n",
       "                // console.log(\"Handling '\" + msg_type + \"' message: \", msg);\n",
       "                callback(fig, msg);\n",
       "            } catch (e) {\n",
       "                console.log(\"Exception inside the 'handler_\" + msg_type + \"' callback:\", e, e.stack, msg);\n",
       "            }\n",
       "        }\n",
       "    };\n",
       "}\n",
       "\n",
       "// from http://stackoverflow.com/questions/1114465/getting-mouse-location-in-canvas\n",
       "mpl.findpos = function(e) {\n",
       "    //this section is from http://www.quirksmode.org/js/events_properties.html\n",
       "    var targ;\n",
       "    if (!e)\n",
       "        e = window.event;\n",
       "    if (e.target)\n",
       "        targ = e.target;\n",
       "    else if (e.srcElement)\n",
       "        targ = e.srcElement;\n",
       "    if (targ.nodeType == 3) // defeat Safari bug\n",
       "        targ = targ.parentNode;\n",
       "\n",
       "    // jQuery normalizes the pageX and pageY\n",
       "    // pageX,Y are the mouse positions relative to the document\n",
       "    // offset() returns the position of the element relative to the document\n",
       "    var x = e.pageX - $(targ).offset().left;\n",
       "    var y = e.pageY - $(targ).offset().top;\n",
       "\n",
       "    return {\"x\": x, \"y\": y};\n",
       "};\n",
       "\n",
       "/*\n",
       " * return a copy of an object with only non-object keys\n",
       " * we need this to avoid circular references\n",
       " * http://stackoverflow.com/a/24161582/3208463\n",
       " */\n",
       "function simpleKeys (original) {\n",
       "  return Object.keys(original).reduce(function (obj, key) {\n",
       "    if (typeof original[key] !== 'object')\n",
       "        obj[key] = original[key]\n",
       "    return obj;\n",
       "  }, {});\n",
       "}\n",
       "\n",
       "mpl.figure.prototype.mouse_event = function(event, name) {\n",
       "    var canvas_pos = mpl.findpos(event)\n",
       "\n",
       "    if (name === 'button_press')\n",
       "    {\n",
       "        this.canvas.focus();\n",
       "        this.canvas_div.focus();\n",
       "    }\n",
       "\n",
       "    var x = canvas_pos.x * mpl.ratio;\n",
       "    var y = canvas_pos.y * mpl.ratio;\n",
       "\n",
       "    this.send_message(name, {x: x, y: y, button: event.button,\n",
       "                             step: event.step,\n",
       "                             guiEvent: simpleKeys(event)});\n",
       "\n",
       "    /* This prevents the web browser from automatically changing to\n",
       "     * the text insertion cursor when the button is pressed.  We want\n",
       "     * to control all of the cursor setting manually through the\n",
       "     * 'cursor' event from matplotlib */\n",
       "    event.preventDefault();\n",
       "    return false;\n",
       "}\n",
       "\n",
       "mpl.figure.prototype._key_event_extra = function(event, name) {\n",
       "    // Handle any extra behaviour associated with a key event\n",
       "}\n",
       "\n",
       "mpl.figure.prototype.key_event = function(event, name) {\n",
       "\n",
       "    // Prevent repeat events\n",
       "    if (name == 'key_press')\n",
       "    {\n",
       "        if (event.which === this._key)\n",
       "            return;\n",
       "        else\n",
       "            this._key = event.which;\n",
       "    }\n",
       "    if (name == 'key_release')\n",
       "        this._key = null;\n",
       "\n",
       "    var value = '';\n",
       "    if (event.ctrlKey && event.which != 17)\n",
       "        value += \"ctrl+\";\n",
       "    if (event.altKey && event.which != 18)\n",
       "        value += \"alt+\";\n",
       "    if (event.shiftKey && event.which != 16)\n",
       "        value += \"shift+\";\n",
       "\n",
       "    value += 'k';\n",
       "    value += event.which.toString();\n",
       "\n",
       "    this._key_event_extra(event, name);\n",
       "\n",
       "    this.send_message(name, {key: value,\n",
       "                             guiEvent: simpleKeys(event)});\n",
       "    return false;\n",
       "}\n",
       "\n",
       "mpl.figure.prototype.toolbar_button_onclick = function(name) {\n",
       "    if (name == 'download') {\n",
       "        this.handle_save(this, null);\n",
       "    } else {\n",
       "        this.send_message(\"toolbar_button\", {name: name});\n",
       "    }\n",
       "};\n",
       "\n",
       "mpl.figure.prototype.toolbar_button_onmouseover = function(tooltip) {\n",
       "    this.message.textContent = tooltip;\n",
       "};\n",
       "mpl.toolbar_items = [[\"Home\", \"Reset original view\", \"fa fa-home icon-home\", \"home\"], [\"Back\", \"Back to  previous view\", \"fa fa-arrow-left icon-arrow-left\", \"back\"], [\"Forward\", \"Forward to next view\", \"fa fa-arrow-right icon-arrow-right\", \"forward\"], [\"\", \"\", \"\", \"\"], [\"Pan\", \"Pan axes with left mouse, zoom with right\", \"fa fa-arrows icon-move\", \"pan\"], [\"Zoom\", \"Zoom to rectangle\", \"fa fa-square-o icon-check-empty\", \"zoom\"], [\"\", \"\", \"\", \"\"], [\"Download\", \"Download plot\", \"fa fa-floppy-o icon-save\", \"download\"]];\n",
       "\n",
       "mpl.extensions = [\"eps\", \"pdf\", \"png\", \"ps\", \"raw\", \"svg\"];\n",
       "\n",
       "mpl.default_extension = \"png\";var comm_websocket_adapter = function(comm) {\n",
       "    // Create a \"websocket\"-like object which calls the given IPython comm\n",
       "    // object with the appropriate methods. Currently this is a non binary\n",
       "    // socket, so there is still some room for performance tuning.\n",
       "    var ws = {};\n",
       "\n",
       "    ws.close = function() {\n",
       "        comm.close()\n",
       "    };\n",
       "    ws.send = function(m) {\n",
       "        //console.log('sending', m);\n",
       "        comm.send(m);\n",
       "    };\n",
       "    // Register the callback with on_msg.\n",
       "    comm.on_msg(function(msg) {\n",
       "        //console.log('receiving', msg['content']['data'], msg);\n",
       "        // Pass the mpl event to the overriden (by mpl) onmessage function.\n",
       "        ws.onmessage(msg['content']['data'])\n",
       "    });\n",
       "    return ws;\n",
       "}\n",
       "\n",
       "mpl.mpl_figure_comm = function(comm, msg) {\n",
       "    // This is the function which gets called when the mpl process\n",
       "    // starts-up an IPython Comm through the \"matplotlib\" channel.\n",
       "\n",
       "    var id = msg.content.data.id;\n",
       "    // Get hold of the div created by the display call when the Comm\n",
       "    // socket was opened in Python.\n",
       "    var element = $(\"#\" + id);\n",
       "    var ws_proxy = comm_websocket_adapter(comm)\n",
       "\n",
       "    function ondownload(figure, format) {\n",
       "        window.open(figure.imageObj.src);\n",
       "    }\n",
       "\n",
       "    var fig = new mpl.figure(id, ws_proxy,\n",
       "                           ondownload,\n",
       "                           element.get(0));\n",
       "\n",
       "    // Call onopen now - mpl needs it, as it is assuming we've passed it a real\n",
       "    // web socket which is closed, not our websocket->open comm proxy.\n",
       "    ws_proxy.onopen();\n",
       "\n",
       "    fig.parent_element = element.get(0);\n",
       "    fig.cell_info = mpl.find_output_cell(\"<div id='\" + id + \"'></div>\");\n",
       "    if (!fig.cell_info) {\n",
       "        console.error(\"Failed to find cell for figure\", id, fig);\n",
       "        return;\n",
       "    }\n",
       "\n",
       "    var output_index = fig.cell_info[2]\n",
       "    var cell = fig.cell_info[0];\n",
       "\n",
       "};\n",
       "\n",
       "mpl.figure.prototype.handle_close = function(fig, msg) {\n",
       "    var width = fig.canvas.width/mpl.ratio\n",
       "    fig.root.unbind('remove')\n",
       "\n",
       "    // Update the output cell to use the data from the current canvas.\n",
       "    fig.push_to_output();\n",
       "    var dataURL = fig.canvas.toDataURL();\n",
       "    // Re-enable the keyboard manager in IPython - without this line, in FF,\n",
       "    // the notebook keyboard shortcuts fail.\n",
       "    IPython.keyboard_manager.enable()\n",
       "    $(fig.parent_element).html('<img src=\"' + dataURL + '\" width=\"' + width + '\">');\n",
       "    fig.close_ws(fig, msg);\n",
       "}\n",
       "\n",
       "mpl.figure.prototype.close_ws = function(fig, msg){\n",
       "    fig.send_message('closing', msg);\n",
       "    // fig.ws.close()\n",
       "}\n",
       "\n",
       "mpl.figure.prototype.push_to_output = function(remove_interactive) {\n",
       "    // Turn the data on the canvas into data in the output cell.\n",
       "    var width = this.canvas.width/mpl.ratio\n",
       "    var dataURL = this.canvas.toDataURL();\n",
       "    this.cell_info[1]['text/html'] = '<img src=\"' + dataURL + '\" width=\"' + width + '\">';\n",
       "}\n",
       "\n",
       "mpl.figure.prototype.updated_canvas_event = function() {\n",
       "    // Tell IPython that the notebook contents must change.\n",
       "    IPython.notebook.set_dirty(true);\n",
       "    this.send_message(\"ack\", {});\n",
       "    var fig = this;\n",
       "    // Wait a second, then push the new image to the DOM so\n",
       "    // that it is saved nicely (might be nice to debounce this).\n",
       "    setTimeout(function () { fig.push_to_output() }, 1000);\n",
       "}\n",
       "\n",
       "mpl.figure.prototype._init_toolbar = function() {\n",
       "    var fig = this;\n",
       "\n",
       "    var nav_element = $('<div/>')\n",
       "    nav_element.attr('style', 'width: 100%');\n",
       "    this.root.append(nav_element);\n",
       "\n",
       "    // Define a callback function for later on.\n",
       "    function toolbar_event(event) {\n",
       "        return fig.toolbar_button_onclick(event['data']);\n",
       "    }\n",
       "    function toolbar_mouse_event(event) {\n",
       "        return fig.toolbar_button_onmouseover(event['data']);\n",
       "    }\n",
       "\n",
       "    for(var toolbar_ind in mpl.toolbar_items){\n",
       "        var name = mpl.toolbar_items[toolbar_ind][0];\n",
       "        var tooltip = mpl.toolbar_items[toolbar_ind][1];\n",
       "        var image = mpl.toolbar_items[toolbar_ind][2];\n",
       "        var method_name = mpl.toolbar_items[toolbar_ind][3];\n",
       "\n",
       "        if (!name) { continue; };\n",
       "\n",
       "        var button = $('<button class=\"btn btn-default\" href=\"#\" title=\"' + name + '\"><i class=\"fa ' + image + ' fa-lg\"></i></button>');\n",
       "        button.click(method_name, toolbar_event);\n",
       "        button.mouseover(tooltip, toolbar_mouse_event);\n",
       "        nav_element.append(button);\n",
       "    }\n",
       "\n",
       "    // Add the status bar.\n",
       "    var status_bar = $('<span class=\"mpl-message\" style=\"text-align:right; float: right;\"/>');\n",
       "    nav_element.append(status_bar);\n",
       "    this.message = status_bar[0];\n",
       "\n",
       "    // Add the close button to the window.\n",
       "    var buttongrp = $('<div class=\"btn-group inline pull-right\"></div>');\n",
       "    var button = $('<button class=\"btn btn-mini btn-primary\" href=\"#\" title=\"Stop Interaction\"><i class=\"fa fa-power-off icon-remove icon-large\"></i></button>');\n",
       "    button.click(function (evt) { fig.handle_close(fig, {}); } );\n",
       "    button.mouseover('Stop Interaction', toolbar_mouse_event);\n",
       "    buttongrp.append(button);\n",
       "    var titlebar = this.root.find($('.ui-dialog-titlebar'));\n",
       "    titlebar.prepend(buttongrp);\n",
       "}\n",
       "\n",
       "mpl.figure.prototype._root_extra_style = function(el){\n",
       "    var fig = this\n",
       "    el.on(\"remove\", function(){\n",
       "\tfig.close_ws(fig, {});\n",
       "    });\n",
       "}\n",
       "\n",
       "mpl.figure.prototype._canvas_extra_style = function(el){\n",
       "    // this is important to make the div 'focusable\n",
       "    el.attr('tabindex', 0)\n",
       "    // reach out to IPython and tell the keyboard manager to turn it's self\n",
       "    // off when our div gets focus\n",
       "\n",
       "    // location in version 3\n",
       "    if (IPython.notebook.keyboard_manager) {\n",
       "        IPython.notebook.keyboard_manager.register_events(el);\n",
       "    }\n",
       "    else {\n",
       "        // location in version 2\n",
       "        IPython.keyboard_manager.register_events(el);\n",
       "    }\n",
       "\n",
       "}\n",
       "\n",
       "mpl.figure.prototype._key_event_extra = function(event, name) {\n",
       "    var manager = IPython.notebook.keyboard_manager;\n",
       "    if (!manager)\n",
       "        manager = IPython.keyboard_manager;\n",
       "\n",
       "    // Check for shift+enter\n",
       "    if (event.shiftKey && event.which == 13) {\n",
       "        this.canvas_div.blur();\n",
       "        event.shiftKey = false;\n",
       "        // Send a \"J\" for go to next cell\n",
       "        event.which = 74;\n",
       "        event.keyCode = 74;\n",
       "        manager.command_mode();\n",
       "        manager.handle_keydown(event);\n",
       "    }\n",
       "}\n",
       "\n",
       "mpl.figure.prototype.handle_save = function(fig, msg) {\n",
       "    fig.ondownload(fig, null);\n",
       "}\n",
       "\n",
       "\n",
       "mpl.find_output_cell = function(html_output) {\n",
       "    // Return the cell and output element which can be found *uniquely* in the notebook.\n",
       "    // Note - this is a bit hacky, but it is done because the \"notebook_saving.Notebook\"\n",
       "    // IPython event is triggered only after the cells have been serialised, which for\n",
       "    // our purposes (turning an active figure into a static one), is too late.\n",
       "    var cells = IPython.notebook.get_cells();\n",
       "    var ncells = cells.length;\n",
       "    for (var i=0; i<ncells; i++) {\n",
       "        var cell = cells[i];\n",
       "        if (cell.cell_type === 'code'){\n",
       "            for (var j=0; j<cell.output_area.outputs.length; j++) {\n",
       "                var data = cell.output_area.outputs[j];\n",
       "                if (data.data) {\n",
       "                    // IPython >= 3 moved mimebundle to data attribute of output\n",
       "                    data = data.data;\n",
       "                }\n",
       "                if (data['text/html'] == html_output) {\n",
       "                    return [cell, data, j];\n",
       "                }\n",
       "            }\n",
       "        }\n",
       "    }\n",
       "}\n",
       "\n",
       "// Register the function which deals with the matplotlib target/channel.\n",
       "// The kernel may be null if the page has been refreshed.\n",
       "if (IPython.notebook.kernel != null) {\n",
       "    IPython.notebook.kernel.comm_manager.register_target('matplotlib', mpl.mpl_figure_comm);\n",
       "}\n"
      ],
      "text/plain": [
       "<IPython.core.display.Javascript object>"
      ]
     },
     "metadata": {},
     "output_type": "display_data"
    },
    {
     "data": {
      "text/html": [
       "<img src=\"data:image/png;base64,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\" width=\"640\">"
      ],
      "text/plain": [
       "<IPython.core.display.HTML object>"
      ]
     },
     "metadata": {},
     "output_type": "display_data"
    },
    {
     "data": {
      "text/plain": [
       "[<matplotlib.lines.Line2D at 0x2cc07bac18>]"
      ]
     },
     "execution_count": 15,
     "metadata": {},
     "output_type": "execute_result"
    }
   ],
   "source": [
    "plt.plot(theta, c, lw = 2.5, label= r'cos($\\theta$)')\n",
    "plt.plot(theta, s, label= r'sin($\\theta$)')"
   ]
  },
  {
   "cell_type": "code",
   "execution_count": 18,
   "metadata": {},
   "outputs": [
    {
     "data": {
      "text/plain": [
       "(0, 6.283185307179586)"
      ]
     },
     "execution_count": 18,
     "metadata": {},
     "output_type": "execute_result"
    }
   ],
   "source": [
    "plt.xlim(0,2*np.pi)    # set the x limit. Same with the xrange keyward in IDL plot processor"
   ]
  },
  {
   "cell_type": "code",
   "execution_count": 16,
   "metadata": {},
   "outputs": [
    {
     "data": {
      "text/plain": [
       "(-1, 1)"
      ]
     },
     "execution_count": 16,
     "metadata": {},
     "output_type": "execute_result"
    }
   ],
   "source": [
    "plt.ylim(-1,1)"
   ]
  },
  {
   "cell_type": "code",
   "execution_count": 17,
   "metadata": {},
   "outputs": [
    {
     "data": {
      "text/plain": [
       "<matplotlib.legend.Legend at 0x2cc09cb588>"
      ]
     },
     "execution_count": 17,
     "metadata": {},
     "output_type": "execute_result"
    }
   ],
   "source": [
    "plt.title('Trigonometric Function')\n",
    "plt.xlabel(r'$\\theta$')\n",
    "plt.ylabel('y', fontsize=12)\n",
    "plt.legend()            # Insert the legendary box, and automatically locate the appropriate postion if there is now keyward."
   ]
  },
  {
   "cell_type": "code",
   "execution_count": 40,
   "metadata": {},
   "outputs": [
    {
     "data": {
      "text/plain": [
       "<matplotlib.legend.Legend at 0xe6da63d668>"
      ]
     },
     "execution_count": 40,
     "metadata": {},
     "output_type": "execute_result"
    }
   ],
   "source": [
    "plt.legend(loc=1)"
   ]
  },
  {
   "cell_type": "markdown",
   "metadata": {},
   "source": [
    "Let's check the plot keywards."
   ]
  },
  {
   "cell_type": "code",
   "execution_count": 25,
   "metadata": {
    "collapsed": true
   },
   "outputs": [],
   "source": [
    "plt.plot?"
   ]
  },
  {
   "cell_type": "markdown",
   "metadata": {},
   "source": [
    "**Exercise 5) Plot the tan function in red dashed line in $\\theta$ range from $-2\\pi\\over{5}$ to $2\\pi\\over{5}$, and insert the legendary.**"
   ]
  },
  {
   "cell_type": "code",
   "execution_count": null,
   "metadata": {
    "collapsed": true
   },
   "outputs": [],
   "source": []
  },
  {
   "cell_type": "markdown",
   "metadata": {},
   "source": [
    "Subplot, inset plot, tick, imshow & colorbar, contour"
   ]
  },
  {
   "cell_type": "markdown",
   "metadata": {},
   "source": [
    "Scipy, fft, fftconvolve, polyfit, fitting, interpolation, optimization, savgol_filter"
   ]
  },
  {
   "cell_type": "markdown",
   "metadata": {},
   "source": [
    "Astropy, fits & header"
   ]
  },
  {
   "cell_type": "markdown",
   "metadata": {},
   "source": [
    "Sunpy, VSO, map"
   ]
  }
 ],
 "metadata": {
  "kernelspec": {
   "display_name": "Python 3",
   "language": "python",
   "name": "python3"
  },
  "language_info": {
   "codemirror_mode": {
    "name": "ipython",
    "version": 3
   },
   "file_extension": ".py",
   "mimetype": "text/x-python",
   "name": "python",
   "nbconvert_exporter": "python",
   "pygments_lexer": "ipython3",
   "version": "3.6.3"
  }
 },
 "nbformat": 4,
 "nbformat_minor": 2
}
