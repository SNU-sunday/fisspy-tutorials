{
 "cells": [
  {
   "cell_type": "markdown",
   "metadata": {},
   "source": [
    "# Scientifc Python"
   ]
  },
  {
   "cell_type": "markdown",
   "metadata": {},
   "source": [
    "In this section, we learn some basic scientific functions and packages.\n",
    "We use the [NumPy](http://www.numpy.org/), [SciPy](https://www.scipy.org/), [Matplotlib](https://matplotlib.org/), [Interpolation](https://github.com/econforge/interpolation.py), [AstroPy](http://www.astropy.org/) and [SunPy](http://sunpy.org/) packages.\n",
    "\n",
    "**Required packages**\n",
    "\n",
    "> * [Python](http://www.python.org)    v2.7 or 3.5 or 3.6    \n",
    "[![Python](https://www.python.org/static/img/python-logo.png)](http://www.python.org)\n",
    "* [NumPy](http://www.numpy.org/)    v1.7+     \n",
    "[![NumPy](http://www.numpy.org/_static/numpy_logo.png)](http://www.numpy.org/)\n",
    "* [SciPy](https://www.scipy.org/)    v1.0+    \n",
    "[![SciPy](https://www.scipy.org/_static/logo.gif)](https://www.scipy.org/)\n",
    "* [Matplotlib](https://matplotlib.org/)    v2.0+\n",
    "[![Matplotlib](https://matplotlib.org/_static/logo2.png)](https://matplotlib.org/)\n",
    "* [AstroPy](http://www.astropy.org/)    v2.0+\n",
    "[![AstroPy](http://www.astropy.org/images/astropy_banner.svg)](http://www.astropy.org/)\n",
    "* [SunPy](http://sunpy.org/)   v0.8+ (Warning ! : This package is developing package, so that some of functions can be depricated)\n",
    "[![SunPy](sample/sunpy.svg)](http://sunpy.org/)\n",
    "* [Interpolation](https://github.com/econforge/interpolation.py)  v0.18+\n",
    "\n",
    "\n",
    "Above requried packages can be downloaded by using conda command in your cmd prompt or terminal as below :\n",
    "\n",
    "    conda install -c condaforge sunpy astropy interpolation\n",
    "\n",
    "This tutorial is based on the [Scipy-Lecture notes](http://www.scipy-lectures.org).\n",
    "\n",
    "**You can download this tutorial file on the [fisspy-tutorials](https://github.com/SNU-sunday/fisspy-tutorials/tree/master/tutorials/scientific_python.ipynb) Github site below**\n",
    "\n",
    "https://github.com/SNU-sunday/fisspy-tutorials/tree/master/tutorials/scientific_python.ipynb\n",
    "\n",
    "and some examples files."
   ]
  },
  {
   "cell_type": "markdown",
   "metadata": {},
   "source": [
    "# 1. Compatibility"
   ]
  },
  {
   "cell_type": "markdown",
   "metadata": {},
   "source": [
    "Some of calling syntaxes are differen according to python version. The main differences are print statement and division operator. In python 2, division operator '**/**' is the floor division, but in python3 it isn't the floor division. In python3 floor division syntax is '**//**'\n",
    "To avoid this compatibility problem, we import the \"**future**\" method."
   ]
  },
  {
   "cell_type": "code",
   "execution_count": 1,
   "metadata": {
    "collapsed": true
   },
   "outputs": [],
   "source": [
    "from __future__ import division, print_function"
   ]
  },
  {
   "cell_type": "markdown",
   "metadata": {},
   "source": [
    "# 2. The NumPy array"
   ]
  },
  {
   "cell_type": "markdown",
   "metadata": {},
   "source": [
    "To call arrays in python, we have to import the **numpy** package at first."
   ]
  },
  {
   "cell_type": "code",
   "execution_count": 2,
   "metadata": {
    "collapsed": true
   },
   "outputs": [],
   "source": [
    "import numpy as np"
   ]
  },
  {
   "cell_type": "markdown",
   "metadata": {},
   "source": [
    "## 2.1. Manual construction of arrays"
   ]
  },
  {
   "cell_type": "code",
   "execution_count": 3,
   "metadata": {},
   "outputs": [
    {
     "data": {
      "text/plain": [
       "array([1, 5, 2, 4, 3, 0])"
      ]
     },
     "execution_count": 3,
     "metadata": {},
     "output_type": "execute_result"
    }
   ],
   "source": [
    "a = np.array([1,5,2,4,3,0])\n",
    "a"
   ]
  },
  {
   "cell_type": "markdown",
   "metadata": {},
   "source": [
    "This array can be sort by using **sort** function"
   ]
  },
  {
   "cell_type": "code",
   "execution_count": 4,
   "metadata": {},
   "outputs": [
    {
     "data": {
      "text/plain": [
       "array([0, 1, 2, 3, 4, 5])"
      ]
     },
     "execution_count": 4,
     "metadata": {},
     "output_type": "execute_result"
    }
   ],
   "source": [
    "a.sort()\n",
    "a"
   ]
  },
  {
   "cell_type": "code",
   "execution_count": 5,
   "metadata": {},
   "outputs": [
    {
     "data": {
      "text/plain": [
       "dtype('int32')"
      ]
     },
     "execution_count": 5,
     "metadata": {},
     "output_type": "execute_result"
    }
   ],
   "source": [
    "a.dtype"
   ]
  },
  {
   "cell_type": "code",
   "execution_count": 6,
   "metadata": {},
   "outputs": [
    {
     "data": {
      "text/plain": [
       "array([[ 0.,  1.,  2.],\n",
       "       [ 3.,  4.,  5.]])"
      ]
     },
     "execution_count": 6,
     "metadata": {},
     "output_type": "execute_result"
    }
   ],
   "source": [
    "b = np.array([[0,1,2],[3,4,5]],dtype = 'float')\n",
    "b"
   ]
  },
  {
   "cell_type": "code",
   "execution_count": 7,
   "metadata": {},
   "outputs": [
    {
     "data": {
      "text/plain": [
       "dtype('float64')"
      ]
     },
     "execution_count": 7,
     "metadata": {},
     "output_type": "execute_result"
    }
   ],
   "source": [
    "b.dtype"
   ]
  },
  {
   "cell_type": "code",
   "execution_count": 8,
   "metadata": {},
   "outputs": [
    {
     "data": {
      "text/plain": [
       "(2, 3)"
      ]
     },
     "execution_count": 8,
     "metadata": {},
     "output_type": "execute_result"
    }
   ],
   "source": [
    "b.shape          # Same with the size function in IDL"
   ]
  },
  {
   "cell_type": "code",
   "execution_count": 9,
   "metadata": {},
   "outputs": [
    {
     "data": {
      "text/plain": [
       "2"
      ]
     },
     "execution_count": 9,
     "metadata": {},
     "output_type": "execute_result"
    }
   ],
   "source": [
    "len(b)           # returns the size of the first dimension"
   ]
  },
  {
   "cell_type": "markdown",
   "metadata": {},
   "source": [
    "convert row array to column array"
   ]
  },
  {
   "cell_type": "code",
   "execution_count": 10,
   "metadata": {},
   "outputs": [
    {
     "data": {
      "text/plain": [
       "array([[0],\n",
       "       [1],\n",
       "       [2],\n",
       "       [3],\n",
       "       [4],\n",
       "       [5]])"
      ]
     },
     "execution_count": 10,
     "metadata": {},
     "output_type": "execute_result"
    }
   ],
   "source": [
    "c = a[:,None]\n",
    "c"
   ]
  },
  {
   "cell_type": "markdown",
   "metadata": {
    "collapsed": true
   },
   "source": [
    "## 2.2 Functions for creating arrays"
   ]
  },
  {
   "cell_type": "code",
   "execution_count": 11,
   "metadata": {},
   "outputs": [
    {
     "data": {
      "text/plain": [
       "array([0, 1, 2, 3, 4, 5])"
      ]
     },
     "execution_count": 11,
     "metadata": {},
     "output_type": "execute_result"
    }
   ],
   "source": [
    "a = np.arange(6)   # similar with the *indgen functions in IDL\n",
    "a"
   ]
  },
  {
   "cell_type": "code",
   "execution_count": 12,
   "metadata": {},
   "outputs": [
    {
     "data": {
      "text/plain": [
       "array([ 0. ,  0.1,  0.2,  0.3,  0.4,  0.5,  0.6,  0.7,  0.8,  0.9,  1. ,\n",
       "        1.1,  1.2,  1.3,  1.4,  1.5,  1.6,  1.7,  1.8,  1.9,  2. ,  2.1,\n",
       "        2.2,  2.3,  2.4,  2.5,  2.6,  2.7,  2.8,  2.9,  3. ,  3.1,  3.2,\n",
       "        3.3,  3.4,  3.5,  3.6,  3.7,  3.8,  3.9,  4. ,  4.1,  4.2,  4.3,\n",
       "        4.4,  4.5,  4.6,  4.7,  4.8,  4.9,  5. ,  5.1,  5.2,  5.3,  5.4,\n",
       "        5.5,  5.6,  5.7,  5.8,  5.9,  6. ,  6.1,  6.2,  6.3,  6.4,  6.5,\n",
       "        6.6,  6.7,  6.8,  6.9,  7. ,  7.1,  7.2,  7.3,  7.4,  7.5,  7.6,\n",
       "        7.7,  7.8,  7.9,  8. ,  8.1,  8.2,  8.3,  8.4,  8.5,  8.6,  8.7,\n",
       "        8.8,  8.9,  9. ,  9.1,  9.2,  9.3,  9.4,  9.5,  9.6,  9.7,  9.8,\n",
       "        9.9])"
      ]
     },
     "execution_count": 12,
     "metadata": {},
     "output_type": "execute_result"
    }
   ],
   "source": [
    "b = np.arange(0,10,0.1)\n",
    "b"
   ]
  },
  {
   "cell_type": "code",
   "execution_count": 13,
   "metadata": {
    "collapsed": true
   },
   "outputs": [],
   "source": [
    "np.arange?"
   ]
  },
  {
   "cell_type": "code",
   "execution_count": 14,
   "metadata": {},
   "outputs": [
    {
     "data": {
      "text/plain": [
       "array([  0. ,   0.1,   0.2,   0.3,   0.4,   0.5,   0.6,   0.7,   0.8,\n",
       "         0.9,   1. ,   1.1,   1.2,   1.3,   1.4,   1.5,   1.6,   1.7,\n",
       "         1.8,   1.9,   2. ,   2.1,   2.2,   2.3,   2.4,   2.5,   2.6,\n",
       "         2.7,   2.8,   2.9,   3. ,   3.1,   3.2,   3.3,   3.4,   3.5,\n",
       "         3.6,   3.7,   3.8,   3.9,   4. ,   4.1,   4.2,   4.3,   4.4,\n",
       "         4.5,   4.6,   4.7,   4.8,   4.9,   5. ,   5.1,   5.2,   5.3,\n",
       "         5.4,   5.5,   5.6,   5.7,   5.8,   5.9,   6. ,   6.1,   6.2,\n",
       "         6.3,   6.4,   6.5,   6.6,   6.7,   6.8,   6.9,   7. ,   7.1,\n",
       "         7.2,   7.3,   7.4,   7.5,   7.6,   7.7,   7.8,   7.9,   8. ,\n",
       "         8.1,   8.2,   8.3,   8.4,   8.5,   8.6,   8.7,   8.8,   8.9,\n",
       "         9. ,   9.1,   9.2,   9.3,   9.4,   9.5,   9.6,   9.7,   9.8,\n",
       "         9.9,  10. ])"
      ]
     },
     "execution_count": 14,
     "metadata": {},
     "output_type": "execute_result"
    }
   ],
   "source": [
    "c = np.linspace(0,10,101)\n",
    "c"
   ]
  },
  {
   "cell_type": "code",
   "execution_count": 15,
   "metadata": {
    "collapsed": true
   },
   "outputs": [],
   "source": [
    "np.linspace?"
   ]
  },
  {
   "cell_type": "code",
   "execution_count": 16,
   "metadata": {
    "collapsed": true
   },
   "outputs": [],
   "source": [
    "one = np.ones((3,3))"
   ]
  },
  {
   "cell_type": "code",
   "execution_count": 17,
   "metadata": {},
   "outputs": [
    {
     "data": {
      "text/plain": [
       "array([[ 1.,  1.,  1.],\n",
       "       [ 1.,  1.,  1.],\n",
       "       [ 1.,  1.,  1.]])"
      ]
     },
     "execution_count": 17,
     "metadata": {},
     "output_type": "execute_result"
    }
   ],
   "source": [
    "one"
   ]
  },
  {
   "cell_type": "code",
   "execution_count": 18,
   "metadata": {
    "collapsed": true
   },
   "outputs": [],
   "source": [
    "zero = np.zeros((2,3))"
   ]
  },
  {
   "cell_type": "code",
   "execution_count": 19,
   "metadata": {},
   "outputs": [
    {
     "data": {
      "text/plain": [
       "array([[ 0.,  0.,  0.],\n",
       "       [ 0.,  0.,  0.]])"
      ]
     },
     "execution_count": 19,
     "metadata": {},
     "output_type": "execute_result"
    }
   ],
   "source": [
    "zero"
   ]
  },
  {
   "cell_type": "code",
   "execution_count": 20,
   "metadata": {
    "collapsed": true
   },
   "outputs": [],
   "source": [
    "np.random.seed(2018)"
   ]
  },
  {
   "cell_type": "code",
   "execution_count": 21,
   "metadata": {},
   "outputs": [
    {
     "data": {
      "text/plain": [
       "array([ 0.88234931,  0.10432774,  0.90700933,  0.3063989 ])"
      ]
     },
     "execution_count": 21,
     "metadata": {},
     "output_type": "execute_result"
    }
   ],
   "source": [
    "randu = np.random.rand(4)   #uniform random number generator\n",
    "randu"
   ]
  },
  {
   "cell_type": "code",
   "execution_count": 22,
   "metadata": {},
   "outputs": [
    {
     "data": {
      "text/plain": [
       "array([ 2.14839926, -1.279487  ,  0.50227689,  0.8560293 , -0.14279008])"
      ]
     },
     "execution_count": 22,
     "metadata": {},
     "output_type": "execute_result"
    }
   ],
   "source": [
    "randg = np.random.randn(5) #gaussian random number generator\n",
    "randg"
   ]
  },
  {
   "cell_type": "markdown",
   "metadata": {},
   "source": [
    "#### Exercise 1)  Create an array which has equaily spaced elements from 5 to 100 with step size = 5 ."
   ]
  },
  {
   "cell_type": "code",
   "execution_count": null,
   "metadata": {
    "collapsed": true
   },
   "outputs": [],
   "source": []
  },
  {
   "cell_type": "markdown",
   "metadata": {},
   "source": [
    "#### Exercise 2) Create an array which has 100 equaily spaced elements from 0 to 2"
   ]
  },
  {
   "cell_type": "code",
   "execution_count": null,
   "metadata": {
    "collapsed": true
   },
   "outputs": [],
   "source": []
  },
  {
   "cell_type": "markdown",
   "metadata": {},
   "source": [
    "## 2.3. Indexing and slicing"
   ]
  },
  {
   "cell_type": "code",
   "execution_count": 23,
   "metadata": {
    "collapsed": true
   },
   "outputs": [],
   "source": [
    "a = np.arange(10)"
   ]
  },
  {
   "cell_type": "code",
   "execution_count": 24,
   "metadata": {},
   "outputs": [
    {
     "data": {
      "text/plain": [
       "0"
      ]
     },
     "execution_count": 24,
     "metadata": {},
     "output_type": "execute_result"
    }
   ],
   "source": [
    "a[0]"
   ]
  },
  {
   "cell_type": "code",
   "execution_count": 25,
   "metadata": {},
   "outputs": [
    {
     "data": {
      "text/plain": [
       "array([0, 1, 2, 3, 4, 5, 6, 7, 8, 9])"
      ]
     },
     "execution_count": 25,
     "metadata": {},
     "output_type": "execute_result"
    }
   ],
   "source": [
    "a[:]"
   ]
  },
  {
   "cell_type": "code",
   "execution_count": 26,
   "metadata": {},
   "outputs": [
    {
     "data": {
      "text/plain": [
       "array([3, 4, 5])"
      ]
     },
     "execution_count": 26,
     "metadata": {},
     "output_type": "execute_result"
    }
   ],
   "source": [
    "a[3:6]"
   ]
  },
  {
   "cell_type": "code",
   "execution_count": 27,
   "metadata": {},
   "outputs": [
    {
     "data": {
      "text/plain": [
       "array([3, 5, 7])"
      ]
     },
     "execution_count": 27,
     "metadata": {},
     "output_type": "execute_result"
    }
   ],
   "source": [
    "a[3:8:2]"
   ]
  },
  {
   "cell_type": "code",
   "execution_count": 28,
   "metadata": {},
   "outputs": [
    {
     "data": {
      "text/plain": [
       "array([3, 4, 5, 6, 7, 8, 9])"
      ]
     },
     "execution_count": 28,
     "metadata": {},
     "output_type": "execute_result"
    }
   ],
   "source": [
    "a[3:]"
   ]
  },
  {
   "cell_type": "markdown",
   "metadata": {},
   "source": [
    "#### Array reshaping"
   ]
  },
  {
   "cell_type": "code",
   "execution_count": 52,
   "metadata": {
    "collapsed": true
   },
   "outputs": [],
   "source": [
    "d=np.arange(25)"
   ]
  },
  {
   "cell_type": "code",
   "execution_count": 53,
   "metadata": {
    "collapsed": true
   },
   "outputs": [],
   "source": [
    "d = d.reshape((5,5))"
   ]
  },
  {
   "cell_type": "code",
   "execution_count": 54,
   "metadata": {},
   "outputs": [
    {
     "data": {
      "text/plain": [
       "array([[ 0,  1,  2,  3,  4],\n",
       "       [ 5,  6,  7,  8,  9],\n",
       "       [10, 11, 12, 13, 14],\n",
       "       [15, 16, 17, 18, 19],\n",
       "       [20, 21, 22, 23, 24]])"
      ]
     },
     "execution_count": 54,
     "metadata": {},
     "output_type": "execute_result"
    }
   ],
   "source": [
    "d"
   ]
  },
  {
   "cell_type": "code",
   "execution_count": 55,
   "metadata": {},
   "outputs": [
    {
     "data": {
      "text/plain": [
       "array([15, 16, 17, 18, 19])"
      ]
     },
     "execution_count": 55,
     "metadata": {},
     "output_type": "execute_result"
    }
   ],
   "source": [
    "d[3]"
   ]
  },
  {
   "cell_type": "code",
   "execution_count": 56,
   "metadata": {},
   "outputs": [
    {
     "data": {
      "text/plain": [
       "array([ 3,  8, 13, 18, 23])"
      ]
     },
     "execution_count": 56,
     "metadata": {},
     "output_type": "execute_result"
    }
   ],
   "source": [
    "d[:,3]"
   ]
  },
  {
   "cell_type": "code",
   "execution_count": 57,
   "metadata": {
    "collapsed": true
   },
   "outputs": [],
   "source": [
    "b = d.transpose()"
   ]
  },
  {
   "cell_type": "code",
   "execution_count": 58,
   "metadata": {},
   "outputs": [
    {
     "data": {
      "text/plain": [
       "array([ 3,  8, 13, 18, 23])"
      ]
     },
     "execution_count": 58,
     "metadata": {},
     "output_type": "execute_result"
    }
   ],
   "source": [
    "b[3]"
   ]
  },
  {
   "cell_type": "code",
   "execution_count": 59,
   "metadata": {},
   "outputs": [
    {
     "data": {
      "text/plain": [
       "array([[0, 1, 2, 3, 4],\n",
       "       [5, 6, 7, 8, 9]])"
      ]
     },
     "execution_count": 59,
     "metadata": {},
     "output_type": "execute_result"
    }
   ],
   "source": [
    "d[:2]"
   ]
  },
  {
   "cell_type": "markdown",
   "metadata": {},
   "source": [
    "## 2.4. Broadcasting"
   ]
  },
  {
   "cell_type": "code",
   "execution_count": 60,
   "metadata": {
    "collapsed": true
   },
   "outputs": [],
   "source": [
    "a = np.arange(5)"
   ]
  },
  {
   "cell_type": "code",
   "execution_count": 61,
   "metadata": {
    "collapsed": true
   },
   "outputs": [],
   "source": [
    "b = np.ones(5, dtype=int)"
   ]
  },
  {
   "cell_type": "code",
   "execution_count": 62,
   "metadata": {},
   "outputs": [
    {
     "data": {
      "text/plain": [
       "array([0, 1, 2, 3, 4])"
      ]
     },
     "execution_count": 62,
     "metadata": {},
     "output_type": "execute_result"
    }
   ],
   "source": [
    "a"
   ]
  },
  {
   "cell_type": "code",
   "execution_count": 63,
   "metadata": {},
   "outputs": [
    {
     "data": {
      "text/plain": [
       "array([1, 1, 1, 1, 1])"
      ]
     },
     "execution_count": 63,
     "metadata": {},
     "output_type": "execute_result"
    }
   ],
   "source": [
    "b"
   ]
  },
  {
   "cell_type": "code",
   "execution_count": 64,
   "metadata": {
    "collapsed": true,
    "scrolled": false
   },
   "outputs": [],
   "source": [
    "c = a+b[:,None]"
   ]
  },
  {
   "cell_type": "code",
   "execution_count": 65,
   "metadata": {},
   "outputs": [
    {
     "data": {
      "text/plain": [
       "array([[1, 2, 3, 4, 5],\n",
       "       [1, 2, 3, 4, 5],\n",
       "       [1, 2, 3, 4, 5],\n",
       "       [1, 2, 3, 4, 5],\n",
       "       [1, 2, 3, 4, 5]])"
      ]
     },
     "execution_count": 65,
     "metadata": {},
     "output_type": "execute_result"
    }
   ],
   "source": [
    "c"
   ]
  },
  {
   "cell_type": "code",
   "execution_count": 66,
   "metadata": {},
   "outputs": [
    {
     "data": {
      "text/plain": [
       "array([[1, 3, 5, 7, 9],\n",
       "       [1, 3, 5, 7, 9],\n",
       "       [1, 3, 5, 7, 9],\n",
       "       [1, 3, 5, 7, 9],\n",
       "       [1, 3, 5, 7, 9]])"
      ]
     },
     "execution_count": 66,
     "metadata": {},
     "output_type": "execute_result"
    }
   ],
   "source": [
    "c + a"
   ]
  },
  {
   "cell_type": "code",
   "execution_count": 67,
   "metadata": {
    "scrolled": true
   },
   "outputs": [
    {
     "data": {
      "text/plain": [
       "array([[1, 2, 3, 4, 5],\n",
       "       [2, 3, 4, 5, 6],\n",
       "       [3, 4, 5, 6, 7],\n",
       "       [4, 5, 6, 7, 8],\n",
       "       [5, 6, 7, 8, 9]])"
      ]
     },
     "execution_count": 67,
     "metadata": {},
     "output_type": "execute_result"
    }
   ],
   "source": [
    "c + a[:,None]"
   ]
  },
  {
   "cell_type": "markdown",
   "metadata": {},
   "source": [
    "**Exercise 3) Create the $10 \\times 10$ multiplication table. (Do not use 'for' loop.)**\n",
    "\n",
    "![Multiplication](sample/multiplication-table-10x10.gif)"
   ]
  },
  {
   "cell_type": "code",
   "execution_count": null,
   "metadata": {
    "collapsed": true
   },
   "outputs": [],
   "source": []
  },
  {
   "cell_type": "code",
   "execution_count": null,
   "metadata": {
    "collapsed": true
   },
   "outputs": [],
   "source": []
  },
  {
   "cell_type": "markdown",
   "metadata": {},
   "source": [
    "## 2.5. Boolean operation"
   ]
  },
  {
   "cell_type": "code",
   "execution_count": 68,
   "metadata": {},
   "outputs": [
    {
     "data": {
      "text/plain": [
       "array([[1, 2, 3, 4, 5],\n",
       "       [1, 2, 3, 4, 5],\n",
       "       [1, 2, 3, 4, 5],\n",
       "       [1, 2, 3, 4, 5],\n",
       "       [1, 2, 3, 4, 5]])"
      ]
     },
     "execution_count": 68,
     "metadata": {},
     "output_type": "execute_result"
    }
   ],
   "source": [
    "c"
   ]
  },
  {
   "cell_type": "code",
   "execution_count": 69,
   "metadata": {},
   "outputs": [
    {
     "data": {
      "text/plain": [
       "array([[ True, False, False, False, False],\n",
       "       [ True, False, False, False, False],\n",
       "       [ True, False, False, False, False],\n",
       "       [ True, False, False, False, False],\n",
       "       [ True, False, False, False, False]], dtype=bool)"
      ]
     },
     "execution_count": 69,
     "metadata": {},
     "output_type": "execute_result"
    }
   ],
   "source": [
    "c == 1"
   ]
  },
  {
   "cell_type": "code",
   "execution_count": 70,
   "metadata": {},
   "outputs": [
    {
     "data": {
      "text/plain": [
       "array([1, 1, 1, 1, 1])"
      ]
     },
     "execution_count": 70,
     "metadata": {},
     "output_type": "execute_result"
    }
   ],
   "source": [
    "b"
   ]
  },
  {
   "cell_type": "code",
   "execution_count": 74,
   "metadata": {},
   "outputs": [],
   "source": [
    "mask = c <= b"
   ]
  },
  {
   "cell_type": "code",
   "execution_count": 75,
   "metadata": {},
   "outputs": [
    {
     "data": {
      "text/plain": [
       "array([[ True, False, False, False, False],\n",
       "       [ True, False, False, False, False],\n",
       "       [ True, False, False, False, False],\n",
       "       [ True, False, False, False, False],\n",
       "       [ True, False, False, False, False]], dtype=bool)"
      ]
     },
     "execution_count": 75,
     "metadata": {},
     "output_type": "execute_result"
    }
   ],
   "source": [
    "mask"
   ]
  },
  {
   "cell_type": "code",
   "execution_count": 76,
   "metadata": {
    "scrolled": true
   },
   "outputs": [
    {
     "data": {
      "text/plain": [
       "array([[ 0,  1,  2,  3,  4],\n",
       "       [ 5,  6,  7,  8,  9],\n",
       "       [10, 11, 12, 13, 14],\n",
       "       [15, 16, 17, 18, 19],\n",
       "       [20, 21, 22, 23, 24]])"
      ]
     },
     "execution_count": 76,
     "metadata": {},
     "output_type": "execute_result"
    }
   ],
   "source": [
    "d"
   ]
  },
  {
   "cell_type": "code",
   "execution_count": 77,
   "metadata": {},
   "outputs": [
    {
     "data": {
      "text/plain": [
       "array([ 0,  5, 10, 15, 20])"
      ]
     },
     "execution_count": 77,
     "metadata": {},
     "output_type": "execute_result"
    }
   ],
   "source": [
    "d[mask]"
   ]
  },
  {
   "cell_type": "code",
   "execution_count": 93,
   "metadata": {},
   "outputs": [
    {
     "data": {
      "text/plain": [
       "(array([0, 1, 2, 3, 4], dtype=int64), array([0, 0, 0, 0, 0], dtype=int64))"
      ]
     },
     "execution_count": 93,
     "metadata": {},
     "output_type": "execute_result"
    }
   ],
   "source": [
    "np.where(mask)"
   ]
  },
  {
   "cell_type": "code",
   "execution_count": 50,
   "metadata": {},
   "outputs": [
    {
     "data": {
      "text/plain": [
       "True"
      ]
     },
     "execution_count": 50,
     "metadata": {},
     "output_type": "execute_result"
    }
   ],
   "source": [
    "True or False"
   ]
  },
  {
   "cell_type": "code",
   "execution_count": 78,
   "metadata": {},
   "outputs": [
    {
     "data": {
      "text/plain": [
       "False"
      ]
     },
     "execution_count": 78,
     "metadata": {},
     "output_type": "execute_result"
    }
   ],
   "source": [
    "True and False"
   ]
  },
  {
   "cell_type": "code",
   "execution_count": 79,
   "metadata": {
    "collapsed": true
   },
   "outputs": [],
   "source": [
    "mask1 = np.array([True,False,False,True,False])\n",
    "mask2 = np.array([True,True,False,True,False])"
   ]
  },
  {
   "cell_type": "code",
   "execution_count": 80,
   "metadata": {},
   "outputs": [
    {
     "ename": "ValueError",
     "evalue": "The truth value of an array with more than one element is ambiguous. Use a.any() or a.all()",
     "output_type": "error",
     "traceback": [
      "\u001b[1;31m---------------------------------------------------------------------------\u001b[0m",
      "\u001b[1;31mValueError\u001b[0m                                Traceback (most recent call last)",
      "\u001b[1;32m<ipython-input-80-df0b0dad315b>\u001b[0m in \u001b[0;36m<module>\u001b[1;34m()\u001b[0m\n\u001b[1;32m----> 1\u001b[1;33m \u001b[0mmask1\u001b[0m \u001b[1;32mor\u001b[0m \u001b[0mmask\u001b[0m\u001b[1;33m\u001b[0m\u001b[0m\n\u001b[0m",
      "\u001b[1;31mValueError\u001b[0m: The truth value of an array with more than one element is ambiguous. Use a.any() or a.all()"
     ]
    }
   ],
   "source": [
    "mask1 or mask"
   ]
  },
  {
   "cell_type": "code",
   "execution_count": 81,
   "metadata": {},
   "outputs": [
    {
     "ename": "ValueError",
     "evalue": "The truth value of an array with more than one element is ambiguous. Use a.any() or a.all()",
     "output_type": "error",
     "traceback": [
      "\u001b[1;31m---------------------------------------------------------------------------\u001b[0m",
      "\u001b[1;31mValueError\u001b[0m                                Traceback (most recent call last)",
      "\u001b[1;32m<ipython-input-81-d93ac612a2e9>\u001b[0m in \u001b[0;36m<module>\u001b[1;34m()\u001b[0m\n\u001b[1;32m----> 1\u001b[1;33m \u001b[0mmask1\u001b[0m \u001b[1;32mand\u001b[0m \u001b[0mmask2\u001b[0m\u001b[1;33m\u001b[0m\u001b[0m\n\u001b[0m",
      "\u001b[1;31mValueError\u001b[0m: The truth value of an array with more than one element is ambiguous. Use a.any() or a.all()"
     ]
    }
   ],
   "source": [
    "mask1 and mask2"
   ]
  },
  {
   "cell_type": "code",
   "execution_count": 83,
   "metadata": {},
   "outputs": [
    {
     "data": {
      "text/plain": [
       "array([ True, False, False,  True, False], dtype=bool)"
      ]
     },
     "execution_count": 83,
     "metadata": {},
     "output_type": "execute_result"
    }
   ],
   "source": [
    "np.logical_and(mask1, mask2)"
   ]
  },
  {
   "cell_type": "code",
   "execution_count": 84,
   "metadata": {},
   "outputs": [
    {
     "data": {
      "text/plain": [
       "array([ True,  True, False,  True, False], dtype=bool)"
      ]
     },
     "execution_count": 84,
     "metadata": {},
     "output_type": "execute_result"
    }
   ],
   "source": [
    "np.logical_or(mask1, mask2)"
   ]
  },
  {
   "cell_type": "markdown",
   "metadata": {},
   "source": [
    "## 2.6. Basic Reduction"
   ]
  },
  {
   "cell_type": "markdown",
   "metadata": {},
   "source": [
    "![Basic Reduction](sample/basic_reduction.png)"
   ]
  },
  {
   "cell_type": "code",
   "execution_count": 94,
   "metadata": {},
   "outputs": [],
   "source": [
    "d[0,3]=-1\n",
    "d[2,2]=-10"
   ]
  },
  {
   "cell_type": "code",
   "execution_count": 95,
   "metadata": {},
   "outputs": [
    {
     "data": {
      "text/plain": [
       "array([[  0,   1,   2,  -1,   4],\n",
       "       [  5,   6,   7,   8,   9],\n",
       "       [ 10,  11, -10,  13,  14],\n",
       "       [ 15,  16,  17,  18,  19],\n",
       "       [ 20,  21,  22,  23,  24]])"
      ]
     },
     "execution_count": 95,
     "metadata": {},
     "output_type": "execute_result"
    }
   ],
   "source": [
    "d"
   ]
  },
  {
   "cell_type": "code",
   "execution_count": 96,
   "metadata": {},
   "outputs": [
    {
     "data": {
      "text/plain": [
       "274"
      ]
     },
     "execution_count": 96,
     "metadata": {},
     "output_type": "execute_result"
    }
   ],
   "source": [
    "d.sum()"
   ]
  },
  {
   "cell_type": "code",
   "execution_count": 98,
   "metadata": {},
   "outputs": [
    {
     "data": {
      "text/plain": [
       "array([50, 55, 38, 61, 70])"
      ]
     },
     "execution_count": 98,
     "metadata": {},
     "output_type": "execute_result"
    }
   ],
   "source": [
    "d.sum(0)"
   ]
  },
  {
   "cell_type": "code",
   "execution_count": 99,
   "metadata": {},
   "outputs": [
    {
     "data": {
      "text/plain": [
       "array([  1.2,   7. ,   7.6,  17. ,  22. ])"
      ]
     },
     "execution_count": 99,
     "metadata": {},
     "output_type": "execute_result"
    }
   ],
   "source": [
    "d.mean(1)"
   ]
  },
  {
   "cell_type": "code",
   "execution_count": 102,
   "metadata": {},
   "outputs": [
    {
     "data": {
      "text/plain": [
       "array([ -1,   5, -10,  15,  20])"
      ]
     },
     "execution_count": 102,
     "metadata": {},
     "output_type": "execute_result"
    }
   ],
   "source": [
    "d.min(1)"
   ]
  },
  {
   "cell_type": "code",
   "execution_count": 103,
   "metadata": {},
   "outputs": [
    {
     "data": {
      "text/plain": [
       "array([3, 0, 2, 0, 0], dtype=int64)"
      ]
     },
     "execution_count": 103,
     "metadata": {},
     "output_type": "execute_result"
    }
   ],
   "source": [
    "d.argmin(1)"
   ]
  },
  {
   "cell_type": "markdown",
   "metadata": {},
   "source": [
    "**Exercise 4) Create the 10x10 gaussian random number, and find the minimum value along the axis 0**"
   ]
  },
  {
   "cell_type": "code",
   "execution_count": null,
   "metadata": {
    "collapsed": true
   },
   "outputs": [],
   "source": []
  },
  {
   "cell_type": "markdown",
   "metadata": {},
   "source": [
    "# 3. Plotting (Using Matplotlib)"
   ]
  },
  {
   "cell_type": "markdown",
   "metadata": {},
   "source": [
    "In this section, we are going to learn a simple way to visualize data in interactive mode by using the matplotlib package.\n",
    "matplotlib package is based on the Matlab plot device.\n",
    "\n",
    "First we change the default backend mode to interactive mode in the IPython console."
   ]
  },
  {
   "cell_type": "code",
   "execution_count": 110,
   "metadata": {},
   "outputs": [
    {
     "name": "stdout",
     "output_type": "stream",
     "text": [
      "Using matplotlib backend: Qt5Agg\n"
     ]
    }
   ],
   "source": [
    "%matplotlib"
   ]
  },
  {
   "cell_type": "markdown",
   "metadata": {},
   "source": [
    "If you use the Jupyter notebook like this manual, type the magic funcition like below:"
   ]
  },
  {
   "cell_type": "code",
   "execution_count": 111,
   "metadata": {
    "collapsed": true
   },
   "outputs": [],
   "source": [
    "%matplotlib notebook"
   ]
  },
  {
   "cell_type": "markdown",
   "metadata": {},
   "source": [
    "or :"
   ]
  },
  {
   "cell_type": "code",
   "execution_count": 3,
   "metadata": {},
   "outputs": [],
   "source": [
    "%matplotlib inline"
   ]
  },
  {
   "cell_type": "markdown",
   "metadata": {},
   "source": [
    "Then import the pyplot module in matplotlib package."
   ]
  },
  {
   "cell_type": "code",
   "execution_count": 4,
   "metadata": {
    "collapsed": true
   },
   "outputs": [],
   "source": [
    "import matplotlib.pyplot as plt"
   ]
  },
  {
   "cell_type": "markdown",
   "metadata": {},
   "source": [
    "Now we draw the cosine and sine functiuons on the same plot from $0$ to $2\\pi$."
   ]
  },
  {
   "cell_type": "code",
   "execution_count": 5,
   "metadata": {
    "collapsed": true
   },
   "outputs": [],
   "source": [
    "theta = np.linspace(0, 2*np.pi,151)\n",
    "c = np.cos(theta)\n",
    "s = np.sin(theta)"
   ]
  },
  {
   "cell_type": "code",
   "execution_count": 36,
   "metadata": {},
   "outputs": [
    {
     "data": {
      "application/javascript": [
       "/* Put everything inside the global mpl namespace */\n",
       "window.mpl = {};\n",
       "\n",
       "\n",
       "mpl.get_websocket_type = function() {\n",
       "    if (typeof(WebSocket) !== 'undefined') {\n",
       "        return WebSocket;\n",
       "    } else if (typeof(MozWebSocket) !== 'undefined') {\n",
       "        return MozWebSocket;\n",
       "    } else {\n",
       "        alert('Your browser does not have WebSocket support.' +\n",
       "              'Please try Chrome, Safari or Firefox ≥ 6. ' +\n",
       "              'Firefox 4 and 5 are also supported but you ' +\n",
       "              'have to enable WebSockets in about:config.');\n",
       "    };\n",
       "}\n",
       "\n",
       "mpl.figure = function(figure_id, websocket, ondownload, parent_element) {\n",
       "    this.id = figure_id;\n",
       "\n",
       "    this.ws = websocket;\n",
       "\n",
       "    this.supports_binary = (this.ws.binaryType != undefined);\n",
       "\n",
       "    if (!this.supports_binary) {\n",
       "        var warnings = document.getElementById(\"mpl-warnings\");\n",
       "        if (warnings) {\n",
       "            warnings.style.display = 'block';\n",
       "            warnings.textContent = (\n",
       "                \"This browser does not support binary websocket messages. \" +\n",
       "                    \"Performance may be slow.\");\n",
       "        }\n",
       "    }\n",
       "\n",
       "    this.imageObj = new Image();\n",
       "\n",
       "    this.context = undefined;\n",
       "    this.message = undefined;\n",
       "    this.canvas = undefined;\n",
       "    this.rubberband_canvas = undefined;\n",
       "    this.rubberband_context = undefined;\n",
       "    this.format_dropdown = undefined;\n",
       "\n",
       "    this.image_mode = 'full';\n",
       "\n",
       "    this.root = $('<div/>');\n",
       "    this._root_extra_style(this.root)\n",
       "    this.root.attr('style', 'display: inline-block');\n",
       "\n",
       "    $(parent_element).append(this.root);\n",
       "\n",
       "    this._init_header(this);\n",
       "    this._init_canvas(this);\n",
       "    this._init_toolbar(this);\n",
       "\n",
       "    var fig = this;\n",
       "\n",
       "    this.waiting = false;\n",
       "\n",
       "    this.ws.onopen =  function () {\n",
       "            fig.send_message(\"supports_binary\", {value: fig.supports_binary});\n",
       "            fig.send_message(\"send_image_mode\", {});\n",
       "            if (mpl.ratio != 1) {\n",
       "                fig.send_message(\"set_dpi_ratio\", {'dpi_ratio': mpl.ratio});\n",
       "            }\n",
       "            fig.send_message(\"refresh\", {});\n",
       "        }\n",
       "\n",
       "    this.imageObj.onload = function() {\n",
       "            if (fig.image_mode == 'full') {\n",
       "                // Full images could contain transparency (where diff images\n",
       "                // almost always do), so we need to clear the canvas so that\n",
       "                // there is no ghosting.\n",
       "                fig.context.clearRect(0, 0, fig.canvas.width, fig.canvas.height);\n",
       "            }\n",
       "            fig.context.drawImage(fig.imageObj, 0, 0);\n",
       "        };\n",
       "\n",
       "    this.imageObj.onunload = function() {\n",
       "        this.ws.close();\n",
       "    }\n",
       "\n",
       "    this.ws.onmessage = this._make_on_message_function(this);\n",
       "\n",
       "    this.ondownload = ondownload;\n",
       "}\n",
       "\n",
       "mpl.figure.prototype._init_header = function() {\n",
       "    var titlebar = $(\n",
       "        '<div class=\"ui-dialog-titlebar ui-widget-header ui-corner-all ' +\n",
       "        'ui-helper-clearfix\"/>');\n",
       "    var titletext = $(\n",
       "        '<div class=\"ui-dialog-title\" style=\"width: 100%; ' +\n",
       "        'text-align: center; padding: 3px;\"/>');\n",
       "    titlebar.append(titletext)\n",
       "    this.root.append(titlebar);\n",
       "    this.header = titletext[0];\n",
       "}\n",
       "\n",
       "\n",
       "\n",
       "mpl.figure.prototype._canvas_extra_style = function(canvas_div) {\n",
       "\n",
       "}\n",
       "\n",
       "\n",
       "mpl.figure.prototype._root_extra_style = function(canvas_div) {\n",
       "\n",
       "}\n",
       "\n",
       "mpl.figure.prototype._init_canvas = function() {\n",
       "    var fig = this;\n",
       "\n",
       "    var canvas_div = $('<div/>');\n",
       "\n",
       "    canvas_div.attr('style', 'position: relative; clear: both; outline: 0');\n",
       "\n",
       "    function canvas_keyboard_event(event) {\n",
       "        return fig.key_event(event, event['data']);\n",
       "    }\n",
       "\n",
       "    canvas_div.keydown('key_press', canvas_keyboard_event);\n",
       "    canvas_div.keyup('key_release', canvas_keyboard_event);\n",
       "    this.canvas_div = canvas_div\n",
       "    this._canvas_extra_style(canvas_div)\n",
       "    this.root.append(canvas_div);\n",
       "\n",
       "    var canvas = $('<canvas/>');\n",
       "    canvas.addClass('mpl-canvas');\n",
       "    canvas.attr('style', \"left: 0; top: 0; z-index: 0; outline: 0\")\n",
       "\n",
       "    this.canvas = canvas[0];\n",
       "    this.context = canvas[0].getContext(\"2d\");\n",
       "\n",
       "    var backingStore = this.context.backingStorePixelRatio ||\n",
       "\tthis.context.webkitBackingStorePixelRatio ||\n",
       "\tthis.context.mozBackingStorePixelRatio ||\n",
       "\tthis.context.msBackingStorePixelRatio ||\n",
       "\tthis.context.oBackingStorePixelRatio ||\n",
       "\tthis.context.backingStorePixelRatio || 1;\n",
       "\n",
       "    mpl.ratio = (window.devicePixelRatio || 1) / backingStore;\n",
       "\n",
       "    var rubberband = $('<canvas/>');\n",
       "    rubberband.attr('style', \"position: absolute; left: 0; top: 0; z-index: 1;\")\n",
       "\n",
       "    var pass_mouse_events = true;\n",
       "\n",
       "    canvas_div.resizable({\n",
       "        start: function(event, ui) {\n",
       "            pass_mouse_events = false;\n",
       "        },\n",
       "        resize: function(event, ui) {\n",
       "            fig.request_resize(ui.size.width, ui.size.height);\n",
       "        },\n",
       "        stop: function(event, ui) {\n",
       "            pass_mouse_events = true;\n",
       "            fig.request_resize(ui.size.width, ui.size.height);\n",
       "        },\n",
       "    });\n",
       "\n",
       "    function mouse_event_fn(event) {\n",
       "        if (pass_mouse_events)\n",
       "            return fig.mouse_event(event, event['data']);\n",
       "    }\n",
       "\n",
       "    rubberband.mousedown('button_press', mouse_event_fn);\n",
       "    rubberband.mouseup('button_release', mouse_event_fn);\n",
       "    // Throttle sequential mouse events to 1 every 20ms.\n",
       "    rubberband.mousemove('motion_notify', mouse_event_fn);\n",
       "\n",
       "    rubberband.mouseenter('figure_enter', mouse_event_fn);\n",
       "    rubberband.mouseleave('figure_leave', mouse_event_fn);\n",
       "\n",
       "    canvas_div.on(\"wheel\", function (event) {\n",
       "        event = event.originalEvent;\n",
       "        event['data'] = 'scroll'\n",
       "        if (event.deltaY < 0) {\n",
       "            event.step = 1;\n",
       "        } else {\n",
       "            event.step = -1;\n",
       "        }\n",
       "        mouse_event_fn(event);\n",
       "    });\n",
       "\n",
       "    canvas_div.append(canvas);\n",
       "    canvas_div.append(rubberband);\n",
       "\n",
       "    this.rubberband = rubberband;\n",
       "    this.rubberband_canvas = rubberband[0];\n",
       "    this.rubberband_context = rubberband[0].getContext(\"2d\");\n",
       "    this.rubberband_context.strokeStyle = \"#000000\";\n",
       "\n",
       "    this._resize_canvas = function(width, height) {\n",
       "        // Keep the size of the canvas, canvas container, and rubber band\n",
       "        // canvas in synch.\n",
       "        canvas_div.css('width', width)\n",
       "        canvas_div.css('height', height)\n",
       "\n",
       "        canvas.attr('width', width * mpl.ratio);\n",
       "        canvas.attr('height', height * mpl.ratio);\n",
       "        canvas.attr('style', 'width: ' + width + 'px; height: ' + height + 'px;');\n",
       "\n",
       "        rubberband.attr('width', width);\n",
       "        rubberband.attr('height', height);\n",
       "    }\n",
       "\n",
       "    // Set the figure to an initial 600x600px, this will subsequently be updated\n",
       "    // upon first draw.\n",
       "    this._resize_canvas(600, 600);\n",
       "\n",
       "    // Disable right mouse context menu.\n",
       "    $(this.rubberband_canvas).bind(\"contextmenu\",function(e){\n",
       "        return false;\n",
       "    });\n",
       "\n",
       "    function set_focus () {\n",
       "        canvas.focus();\n",
       "        canvas_div.focus();\n",
       "    }\n",
       "\n",
       "    window.setTimeout(set_focus, 100);\n",
       "}\n",
       "\n",
       "mpl.figure.prototype._init_toolbar = function() {\n",
       "    var fig = this;\n",
       "\n",
       "    var nav_element = $('<div/>')\n",
       "    nav_element.attr('style', 'width: 100%');\n",
       "    this.root.append(nav_element);\n",
       "\n",
       "    // Define a callback function for later on.\n",
       "    function toolbar_event(event) {\n",
       "        return fig.toolbar_button_onclick(event['data']);\n",
       "    }\n",
       "    function toolbar_mouse_event(event) {\n",
       "        return fig.toolbar_button_onmouseover(event['data']);\n",
       "    }\n",
       "\n",
       "    for(var toolbar_ind in mpl.toolbar_items) {\n",
       "        var name = mpl.toolbar_items[toolbar_ind][0];\n",
       "        var tooltip = mpl.toolbar_items[toolbar_ind][1];\n",
       "        var image = mpl.toolbar_items[toolbar_ind][2];\n",
       "        var method_name = mpl.toolbar_items[toolbar_ind][3];\n",
       "\n",
       "        if (!name) {\n",
       "            // put a spacer in here.\n",
       "            continue;\n",
       "        }\n",
       "        var button = $('<button/>');\n",
       "        button.addClass('ui-button ui-widget ui-state-default ui-corner-all ' +\n",
       "                        'ui-button-icon-only');\n",
       "        button.attr('role', 'button');\n",
       "        button.attr('aria-disabled', 'false');\n",
       "        button.click(method_name, toolbar_event);\n",
       "        button.mouseover(tooltip, toolbar_mouse_event);\n",
       "\n",
       "        var icon_img = $('<span/>');\n",
       "        icon_img.addClass('ui-button-icon-primary ui-icon');\n",
       "        icon_img.addClass(image);\n",
       "        icon_img.addClass('ui-corner-all');\n",
       "\n",
       "        var tooltip_span = $('<span/>');\n",
       "        tooltip_span.addClass('ui-button-text');\n",
       "        tooltip_span.html(tooltip);\n",
       "\n",
       "        button.append(icon_img);\n",
       "        button.append(tooltip_span);\n",
       "\n",
       "        nav_element.append(button);\n",
       "    }\n",
       "\n",
       "    var fmt_picker_span = $('<span/>');\n",
       "\n",
       "    var fmt_picker = $('<select/>');\n",
       "    fmt_picker.addClass('mpl-toolbar-option ui-widget ui-widget-content');\n",
       "    fmt_picker_span.append(fmt_picker);\n",
       "    nav_element.append(fmt_picker_span);\n",
       "    this.format_dropdown = fmt_picker[0];\n",
       "\n",
       "    for (var ind in mpl.extensions) {\n",
       "        var fmt = mpl.extensions[ind];\n",
       "        var option = $(\n",
       "            '<option/>', {selected: fmt === mpl.default_extension}).html(fmt);\n",
       "        fmt_picker.append(option)\n",
       "    }\n",
       "\n",
       "    // Add hover states to the ui-buttons\n",
       "    $( \".ui-button\" ).hover(\n",
       "        function() { $(this).addClass(\"ui-state-hover\");},\n",
       "        function() { $(this).removeClass(\"ui-state-hover\");}\n",
       "    );\n",
       "\n",
       "    var status_bar = $('<span class=\"mpl-message\"/>');\n",
       "    nav_element.append(status_bar);\n",
       "    this.message = status_bar[0];\n",
       "}\n",
       "\n",
       "mpl.figure.prototype.request_resize = function(x_pixels, y_pixels) {\n",
       "    // Request matplotlib to resize the figure. Matplotlib will then trigger a resize in the client,\n",
       "    // which will in turn request a refresh of the image.\n",
       "    this.send_message('resize', {'width': x_pixels, 'height': y_pixels});\n",
       "}\n",
       "\n",
       "mpl.figure.prototype.send_message = function(type, properties) {\n",
       "    properties['type'] = type;\n",
       "    properties['figure_id'] = this.id;\n",
       "    this.ws.send(JSON.stringify(properties));\n",
       "}\n",
       "\n",
       "mpl.figure.prototype.send_draw_message = function() {\n",
       "    if (!this.waiting) {\n",
       "        this.waiting = true;\n",
       "        this.ws.send(JSON.stringify({type: \"draw\", figure_id: this.id}));\n",
       "    }\n",
       "}\n",
       "\n",
       "\n",
       "mpl.figure.prototype.handle_save = function(fig, msg) {\n",
       "    var format_dropdown = fig.format_dropdown;\n",
       "    var format = format_dropdown.options[format_dropdown.selectedIndex].value;\n",
       "    fig.ondownload(fig, format);\n",
       "}\n",
       "\n",
       "\n",
       "mpl.figure.prototype.handle_resize = function(fig, msg) {\n",
       "    var size = msg['size'];\n",
       "    if (size[0] != fig.canvas.width || size[1] != fig.canvas.height) {\n",
       "        fig._resize_canvas(size[0], size[1]);\n",
       "        fig.send_message(\"refresh\", {});\n",
       "    };\n",
       "}\n",
       "\n",
       "mpl.figure.prototype.handle_rubberband = function(fig, msg) {\n",
       "    var x0 = msg['x0'] / mpl.ratio;\n",
       "    var y0 = (fig.canvas.height - msg['y0']) / mpl.ratio;\n",
       "    var x1 = msg['x1'] / mpl.ratio;\n",
       "    var y1 = (fig.canvas.height - msg['y1']) / mpl.ratio;\n",
       "    x0 = Math.floor(x0) + 0.5;\n",
       "    y0 = Math.floor(y0) + 0.5;\n",
       "    x1 = Math.floor(x1) + 0.5;\n",
       "    y1 = Math.floor(y1) + 0.5;\n",
       "    var min_x = Math.min(x0, x1);\n",
       "    var min_y = Math.min(y0, y1);\n",
       "    var width = Math.abs(x1 - x0);\n",
       "    var height = Math.abs(y1 - y0);\n",
       "\n",
       "    fig.rubberband_context.clearRect(\n",
       "        0, 0, fig.canvas.width, fig.canvas.height);\n",
       "\n",
       "    fig.rubberband_context.strokeRect(min_x, min_y, width, height);\n",
       "}\n",
       "\n",
       "mpl.figure.prototype.handle_figure_label = function(fig, msg) {\n",
       "    // Updates the figure title.\n",
       "    fig.header.textContent = msg['label'];\n",
       "}\n",
       "\n",
       "mpl.figure.prototype.handle_cursor = function(fig, msg) {\n",
       "    var cursor = msg['cursor'];\n",
       "    switch(cursor)\n",
       "    {\n",
       "    case 0:\n",
       "        cursor = 'pointer';\n",
       "        break;\n",
       "    case 1:\n",
       "        cursor = 'default';\n",
       "        break;\n",
       "    case 2:\n",
       "        cursor = 'crosshair';\n",
       "        break;\n",
       "    case 3:\n",
       "        cursor = 'move';\n",
       "        break;\n",
       "    }\n",
       "    fig.rubberband_canvas.style.cursor = cursor;\n",
       "}\n",
       "\n",
       "mpl.figure.prototype.handle_message = function(fig, msg) {\n",
       "    fig.message.textContent = msg['message'];\n",
       "}\n",
       "\n",
       "mpl.figure.prototype.handle_draw = function(fig, msg) {\n",
       "    // Request the server to send over a new figure.\n",
       "    fig.send_draw_message();\n",
       "}\n",
       "\n",
       "mpl.figure.prototype.handle_image_mode = function(fig, msg) {\n",
       "    fig.image_mode = msg['mode'];\n",
       "}\n",
       "\n",
       "mpl.figure.prototype.updated_canvas_event = function() {\n",
       "    // Called whenever the canvas gets updated.\n",
       "    this.send_message(\"ack\", {});\n",
       "}\n",
       "\n",
       "// A function to construct a web socket function for onmessage handling.\n",
       "// Called in the figure constructor.\n",
       "mpl.figure.prototype._make_on_message_function = function(fig) {\n",
       "    return function socket_on_message(evt) {\n",
       "        if (evt.data instanceof Blob) {\n",
       "            /* FIXME: We get \"Resource interpreted as Image but\n",
       "             * transferred with MIME type text/plain:\" errors on\n",
       "             * Chrome.  But how to set the MIME type?  It doesn't seem\n",
       "             * to be part of the websocket stream */\n",
       "            evt.data.type = \"image/png\";\n",
       "\n",
       "            /* Free the memory for the previous frames */\n",
       "            if (fig.imageObj.src) {\n",
       "                (window.URL || window.webkitURL).revokeObjectURL(\n",
       "                    fig.imageObj.src);\n",
       "            }\n",
       "\n",
       "            fig.imageObj.src = (window.URL || window.webkitURL).createObjectURL(\n",
       "                evt.data);\n",
       "            fig.updated_canvas_event();\n",
       "            fig.waiting = false;\n",
       "            return;\n",
       "        }\n",
       "        else if (typeof evt.data === 'string' && evt.data.slice(0, 21) == \"data:image/png;base64\") {\n",
       "            fig.imageObj.src = evt.data;\n",
       "            fig.updated_canvas_event();\n",
       "            fig.waiting = false;\n",
       "            return;\n",
       "        }\n",
       "\n",
       "        var msg = JSON.parse(evt.data);\n",
       "        var msg_type = msg['type'];\n",
       "\n",
       "        // Call the  \"handle_{type}\" callback, which takes\n",
       "        // the figure and JSON message as its only arguments.\n",
       "        try {\n",
       "            var callback = fig[\"handle_\" + msg_type];\n",
       "        } catch (e) {\n",
       "            console.log(\"No handler for the '\" + msg_type + \"' message type: \", msg);\n",
       "            return;\n",
       "        }\n",
       "\n",
       "        if (callback) {\n",
       "            try {\n",
       "                // console.log(\"Handling '\" + msg_type + \"' message: \", msg);\n",
       "                callback(fig, msg);\n",
       "            } catch (e) {\n",
       "                console.log(\"Exception inside the 'handler_\" + msg_type + \"' callback:\", e, e.stack, msg);\n",
       "            }\n",
       "        }\n",
       "    };\n",
       "}\n",
       "\n",
       "// from http://stackoverflow.com/questions/1114465/getting-mouse-location-in-canvas\n",
       "mpl.findpos = function(e) {\n",
       "    //this section is from http://www.quirksmode.org/js/events_properties.html\n",
       "    var targ;\n",
       "    if (!e)\n",
       "        e = window.event;\n",
       "    if (e.target)\n",
       "        targ = e.target;\n",
       "    else if (e.srcElement)\n",
       "        targ = e.srcElement;\n",
       "    if (targ.nodeType == 3) // defeat Safari bug\n",
       "        targ = targ.parentNode;\n",
       "\n",
       "    // jQuery normalizes the pageX and pageY\n",
       "    // pageX,Y are the mouse positions relative to the document\n",
       "    // offset() returns the position of the element relative to the document\n",
       "    var x = e.pageX - $(targ).offset().left;\n",
       "    var y = e.pageY - $(targ).offset().top;\n",
       "\n",
       "    return {\"x\": x, \"y\": y};\n",
       "};\n",
       "\n",
       "/*\n",
       " * return a copy of an object with only non-object keys\n",
       " * we need this to avoid circular references\n",
       " * http://stackoverflow.com/a/24161582/3208463\n",
       " */\n",
       "function simpleKeys (original) {\n",
       "  return Object.keys(original).reduce(function (obj, key) {\n",
       "    if (typeof original[key] !== 'object')\n",
       "        obj[key] = original[key]\n",
       "    return obj;\n",
       "  }, {});\n",
       "}\n",
       "\n",
       "mpl.figure.prototype.mouse_event = function(event, name) {\n",
       "    var canvas_pos = mpl.findpos(event)\n",
       "\n",
       "    if (name === 'button_press')\n",
       "    {\n",
       "        this.canvas.focus();\n",
       "        this.canvas_div.focus();\n",
       "    }\n",
       "\n",
       "    var x = canvas_pos.x * mpl.ratio;\n",
       "    var y = canvas_pos.y * mpl.ratio;\n",
       "\n",
       "    this.send_message(name, {x: x, y: y, button: event.button,\n",
       "                             step: event.step,\n",
       "                             guiEvent: simpleKeys(event)});\n",
       "\n",
       "    /* This prevents the web browser from automatically changing to\n",
       "     * the text insertion cursor when the button is pressed.  We want\n",
       "     * to control all of the cursor setting manually through the\n",
       "     * 'cursor' event from matplotlib */\n",
       "    event.preventDefault();\n",
       "    return false;\n",
       "}\n",
       "\n",
       "mpl.figure.prototype._key_event_extra = function(event, name) {\n",
       "    // Handle any extra behaviour associated with a key event\n",
       "}\n",
       "\n",
       "mpl.figure.prototype.key_event = function(event, name) {\n",
       "\n",
       "    // Prevent repeat events\n",
       "    if (name == 'key_press')\n",
       "    {\n",
       "        if (event.which === this._key)\n",
       "            return;\n",
       "        else\n",
       "            this._key = event.which;\n",
       "    }\n",
       "    if (name == 'key_release')\n",
       "        this._key = null;\n",
       "\n",
       "    var value = '';\n",
       "    if (event.ctrlKey && event.which != 17)\n",
       "        value += \"ctrl+\";\n",
       "    if (event.altKey && event.which != 18)\n",
       "        value += \"alt+\";\n",
       "    if (event.shiftKey && event.which != 16)\n",
       "        value += \"shift+\";\n",
       "\n",
       "    value += 'k';\n",
       "    value += event.which.toString();\n",
       "\n",
       "    this._key_event_extra(event, name);\n",
       "\n",
       "    this.send_message(name, {key: value,\n",
       "                             guiEvent: simpleKeys(event)});\n",
       "    return false;\n",
       "}\n",
       "\n",
       "mpl.figure.prototype.toolbar_button_onclick = function(name) {\n",
       "    if (name == 'download') {\n",
       "        this.handle_save(this, null);\n",
       "    } else {\n",
       "        this.send_message(\"toolbar_button\", {name: name});\n",
       "    }\n",
       "};\n",
       "\n",
       "mpl.figure.prototype.toolbar_button_onmouseover = function(tooltip) {\n",
       "    this.message.textContent = tooltip;\n",
       "};\n",
       "mpl.toolbar_items = [[\"Home\", \"Reset original view\", \"fa fa-home icon-home\", \"home\"], [\"Back\", \"Back to  previous view\", \"fa fa-arrow-left icon-arrow-left\", \"back\"], [\"Forward\", \"Forward to next view\", \"fa fa-arrow-right icon-arrow-right\", \"forward\"], [\"\", \"\", \"\", \"\"], [\"Pan\", \"Pan axes with left mouse, zoom with right\", \"fa fa-arrows icon-move\", \"pan\"], [\"Zoom\", \"Zoom to rectangle\", \"fa fa-square-o icon-check-empty\", \"zoom\"], [\"\", \"\", \"\", \"\"], [\"Download\", \"Download plot\", \"fa fa-floppy-o icon-save\", \"download\"]];\n",
       "\n",
       "mpl.extensions = [\"eps\", \"jpeg\", \"pdf\", \"png\", \"ps\", \"raw\", \"svg\", \"tif\"];\n",
       "\n",
       "mpl.default_extension = \"png\";var comm_websocket_adapter = function(comm) {\n",
       "    // Create a \"websocket\"-like object which calls the given IPython comm\n",
       "    // object with the appropriate methods. Currently this is a non binary\n",
       "    // socket, so there is still some room for performance tuning.\n",
       "    var ws = {};\n",
       "\n",
       "    ws.close = function() {\n",
       "        comm.close()\n",
       "    };\n",
       "    ws.send = function(m) {\n",
       "        //console.log('sending', m);\n",
       "        comm.send(m);\n",
       "    };\n",
       "    // Register the callback with on_msg.\n",
       "    comm.on_msg(function(msg) {\n",
       "        //console.log('receiving', msg['content']['data'], msg);\n",
       "        // Pass the mpl event to the overriden (by mpl) onmessage function.\n",
       "        ws.onmessage(msg['content']['data'])\n",
       "    });\n",
       "    return ws;\n",
       "}\n",
       "\n",
       "mpl.mpl_figure_comm = function(comm, msg) {\n",
       "    // This is the function which gets called when the mpl process\n",
       "    // starts-up an IPython Comm through the \"matplotlib\" channel.\n",
       "\n",
       "    var id = msg.content.data.id;\n",
       "    // Get hold of the div created by the display call when the Comm\n",
       "    // socket was opened in Python.\n",
       "    var element = $(\"#\" + id);\n",
       "    var ws_proxy = comm_websocket_adapter(comm)\n",
       "\n",
       "    function ondownload(figure, format) {\n",
       "        window.open(figure.imageObj.src);\n",
       "    }\n",
       "\n",
       "    var fig = new mpl.figure(id, ws_proxy,\n",
       "                           ondownload,\n",
       "                           element.get(0));\n",
       "\n",
       "    // Call onopen now - mpl needs it, as it is assuming we've passed it a real\n",
       "    // web socket which is closed, not our websocket->open comm proxy.\n",
       "    ws_proxy.onopen();\n",
       "\n",
       "    fig.parent_element = element.get(0);\n",
       "    fig.cell_info = mpl.find_output_cell(\"<div id='\" + id + \"'></div>\");\n",
       "    if (!fig.cell_info) {\n",
       "        console.error(\"Failed to find cell for figure\", id, fig);\n",
       "        return;\n",
       "    }\n",
       "\n",
       "    var output_index = fig.cell_info[2]\n",
       "    var cell = fig.cell_info[0];\n",
       "\n",
       "};\n",
       "\n",
       "mpl.figure.prototype.handle_close = function(fig, msg) {\n",
       "    var width = fig.canvas.width/mpl.ratio\n",
       "    fig.root.unbind('remove')\n",
       "\n",
       "    // Update the output cell to use the data from the current canvas.\n",
       "    fig.push_to_output();\n",
       "    var dataURL = fig.canvas.toDataURL();\n",
       "    // Re-enable the keyboard manager in IPython - without this line, in FF,\n",
       "    // the notebook keyboard shortcuts fail.\n",
       "    IPython.keyboard_manager.enable()\n",
       "    $(fig.parent_element).html('<img src=\"' + dataURL + '\" width=\"' + width + '\">');\n",
       "    fig.close_ws(fig, msg);\n",
       "}\n",
       "\n",
       "mpl.figure.prototype.close_ws = function(fig, msg){\n",
       "    fig.send_message('closing', msg);\n",
       "    // fig.ws.close()\n",
       "}\n",
       "\n",
       "mpl.figure.prototype.push_to_output = function(remove_interactive) {\n",
       "    // Turn the data on the canvas into data in the output cell.\n",
       "    var width = this.canvas.width/mpl.ratio\n",
       "    var dataURL = this.canvas.toDataURL();\n",
       "    this.cell_info[1]['text/html'] = '<img src=\"' + dataURL + '\" width=\"' + width + '\">';\n",
       "}\n",
       "\n",
       "mpl.figure.prototype.updated_canvas_event = function() {\n",
       "    // Tell IPython that the notebook contents must change.\n",
       "    IPython.notebook.set_dirty(true);\n",
       "    this.send_message(\"ack\", {});\n",
       "    var fig = this;\n",
       "    // Wait a second, then push the new image to the DOM so\n",
       "    // that it is saved nicely (might be nice to debounce this).\n",
       "    setTimeout(function () { fig.push_to_output() }, 1000);\n",
       "}\n",
       "\n",
       "mpl.figure.prototype._init_toolbar = function() {\n",
       "    var fig = this;\n",
       "\n",
       "    var nav_element = $('<div/>')\n",
       "    nav_element.attr('style', 'width: 100%');\n",
       "    this.root.append(nav_element);\n",
       "\n",
       "    // Define a callback function for later on.\n",
       "    function toolbar_event(event) {\n",
       "        return fig.toolbar_button_onclick(event['data']);\n",
       "    }\n",
       "    function toolbar_mouse_event(event) {\n",
       "        return fig.toolbar_button_onmouseover(event['data']);\n",
       "    }\n",
       "\n",
       "    for(var toolbar_ind in mpl.toolbar_items){\n",
       "        var name = mpl.toolbar_items[toolbar_ind][0];\n",
       "        var tooltip = mpl.toolbar_items[toolbar_ind][1];\n",
       "        var image = mpl.toolbar_items[toolbar_ind][2];\n",
       "        var method_name = mpl.toolbar_items[toolbar_ind][3];\n",
       "\n",
       "        if (!name) { continue; };\n",
       "\n",
       "        var button = $('<button class=\"btn btn-default\" href=\"#\" title=\"' + name + '\"><i class=\"fa ' + image + ' fa-lg\"></i></button>');\n",
       "        button.click(method_name, toolbar_event);\n",
       "        button.mouseover(tooltip, toolbar_mouse_event);\n",
       "        nav_element.append(button);\n",
       "    }\n",
       "\n",
       "    // Add the status bar.\n",
       "    var status_bar = $('<span class=\"mpl-message\" style=\"text-align:right; float: right;\"/>');\n",
       "    nav_element.append(status_bar);\n",
       "    this.message = status_bar[0];\n",
       "\n",
       "    // Add the close button to the window.\n",
       "    var buttongrp = $('<div class=\"btn-group inline pull-right\"></div>');\n",
       "    var button = $('<button class=\"btn btn-mini btn-primary\" href=\"#\" title=\"Stop Interaction\"><i class=\"fa fa-power-off icon-remove icon-large\"></i></button>');\n",
       "    button.click(function (evt) { fig.handle_close(fig, {}); } );\n",
       "    button.mouseover('Stop Interaction', toolbar_mouse_event);\n",
       "    buttongrp.append(button);\n",
       "    var titlebar = this.root.find($('.ui-dialog-titlebar'));\n",
       "    titlebar.prepend(buttongrp);\n",
       "}\n",
       "\n",
       "mpl.figure.prototype._root_extra_style = function(el){\n",
       "    var fig = this\n",
       "    el.on(\"remove\", function(){\n",
       "\tfig.close_ws(fig, {});\n",
       "    });\n",
       "}\n",
       "\n",
       "mpl.figure.prototype._canvas_extra_style = function(el){\n",
       "    // this is important to make the div 'focusable\n",
       "    el.attr('tabindex', 0)\n",
       "    // reach out to IPython and tell the keyboard manager to turn it's self\n",
       "    // off when our div gets focus\n",
       "\n",
       "    // location in version 3\n",
       "    if (IPython.notebook.keyboard_manager) {\n",
       "        IPython.notebook.keyboard_manager.register_events(el);\n",
       "    }\n",
       "    else {\n",
       "        // location in version 2\n",
       "        IPython.keyboard_manager.register_events(el);\n",
       "    }\n",
       "\n",
       "}\n",
       "\n",
       "mpl.figure.prototype._key_event_extra = function(event, name) {\n",
       "    var manager = IPython.notebook.keyboard_manager;\n",
       "    if (!manager)\n",
       "        manager = IPython.keyboard_manager;\n",
       "\n",
       "    // Check for shift+enter\n",
       "    if (event.shiftKey && event.which == 13) {\n",
       "        this.canvas_div.blur();\n",
       "        // select the cell after this one\n",
       "        var index = IPython.notebook.find_cell_index(this.cell_info[0]);\n",
       "        IPython.notebook.select(index + 1);\n",
       "    }\n",
       "}\n",
       "\n",
       "mpl.figure.prototype.handle_save = function(fig, msg) {\n",
       "    fig.ondownload(fig, null);\n",
       "}\n",
       "\n",
       "\n",
       "mpl.find_output_cell = function(html_output) {\n",
       "    // Return the cell and output element which can be found *uniquely* in the notebook.\n",
       "    // Note - this is a bit hacky, but it is done because the \"notebook_saving.Notebook\"\n",
       "    // IPython event is triggered only after the cells have been serialised, which for\n",
       "    // our purposes (turning an active figure into a static one), is too late.\n",
       "    var cells = IPython.notebook.get_cells();\n",
       "    var ncells = cells.length;\n",
       "    for (var i=0; i<ncells; i++) {\n",
       "        var cell = cells[i];\n",
       "        if (cell.cell_type === 'code'){\n",
       "            for (var j=0; j<cell.output_area.outputs.length; j++) {\n",
       "                var data = cell.output_area.outputs[j];\n",
       "                if (data.data) {\n",
       "                    // IPython >= 3 moved mimebundle to data attribute of output\n",
       "                    data = data.data;\n",
       "                }\n",
       "                if (data['text/html'] == html_output) {\n",
       "                    return [cell, data, j];\n",
       "                }\n",
       "            }\n",
       "        }\n",
       "    }\n",
       "}\n",
       "\n",
       "// Register the function which deals with the matplotlib target/channel.\n",
       "// The kernel may be null if the page has been refreshed.\n",
       "if (IPython.notebook.kernel != null) {\n",
       "    IPython.notebook.kernel.comm_manager.register_target('matplotlib', mpl.mpl_figure_comm);\n",
       "}\n"
      ],
      "text/plain": [
       "<IPython.core.display.Javascript object>"
      ]
     },
     "metadata": {},
     "output_type": "display_data"
    },
    {
     "data": {
      "text/html": [
       "<img src=\"data:image/png;base64,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\" width=\"640\">"
      ],
      "text/plain": [
       "<IPython.core.display.HTML object>"
      ]
     },
     "metadata": {},
     "output_type": "display_data"
    },
    {
     "data": {
      "text/plain": [
       "[<matplotlib.lines.Line2D at 0xe6da6c7ac8>]"
      ]
     },
     "execution_count": 36,
     "metadata": {},
     "output_type": "execute_result"
    }
   ],
   "source": [
    "plt.plot(theta, c, label= r'cos($\\theta$)')\n",
    "plt.plot(theta, s, label= r'sin($\\theta$)')"
   ]
  },
  {
   "cell_type": "code",
   "execution_count": 37,
   "metadata": {},
   "outputs": [
    {
     "data": {
      "text/plain": [
       "(0, 6.283185307179586)"
      ]
     },
     "execution_count": 37,
     "metadata": {},
     "output_type": "execute_result"
    }
   ],
   "source": [
    "plt.xlim(0,2*np.pi)    # set the x limit. Same with the xrange keyward in IDL plot processor"
   ]
  },
  {
   "cell_type": "code",
   "execution_count": 38,
   "metadata": {},
   "outputs": [
    {
     "data": {
      "text/plain": [
       "(-1, 1)"
      ]
     },
     "execution_count": 38,
     "metadata": {},
     "output_type": "execute_result"
    }
   ],
   "source": [
    "plt.ylim(-1,1)"
   ]
  },
  {
   "cell_type": "code",
   "execution_count": 39,
   "metadata": {},
   "outputs": [
    {
     "data": {
      "text/plain": [
       "<matplotlib.legend.Legend at 0xe6da967668>"
      ]
     },
     "execution_count": 39,
     "metadata": {},
     "output_type": "execute_result"
    }
   ],
   "source": [
    "plt.title('Trigonometric Function')\n",
    "plt.xlabel(r'$\\theta$')\n",
    "plt.ylabel('y', fontsize=12)\n",
    "plt.legend()            # Insert the legendary box, and automatically locate the appropriate postion if there is now keyward."
   ]
  },
  {
   "cell_type": "code",
   "execution_count": 40,
   "metadata": {},
   "outputs": [
    {
     "data": {
      "text/plain": [
       "<matplotlib.legend.Legend at 0xe6da63d668>"
      ]
     },
     "execution_count": 40,
     "metadata": {},
     "output_type": "execute_result"
    }
   ],
   "source": [
    "plt.legend(loc=1)"
   ]
  },
  {
   "cell_type": "markdown",
   "metadata": {},
   "source": [
    "Let's check the plot keywards."
   ]
  },
  {
   "cell_type": "code",
   "execution_count": 25,
   "metadata": {
    "collapsed": true
   },
   "outputs": [],
   "source": [
    "plt.plot?"
   ]
  },
  {
   "cell_type": "markdown",
   "metadata": {},
   "source": [
    "**Exercise 5) Plot the tan function in red dashed line, and insert the legendary with $\\theta$ range from $-2\\pi\\over{5}$ to $2\\pi\\over{5}$.**"
   ]
  },
  {
   "cell_type": "code",
   "execution_count": 33,
   "metadata": {},
   "outputs": [
    {
     "ename": "ModuleNotFoundError",
     "evalue": "No module named 'basic_units'",
     "output_type": "error",
     "traceback": [
      "\u001b[1;31m---------------------------------------------------------------------------\u001b[0m",
      "\u001b[1;31mModuleNotFoundError\u001b[0m                       Traceback (most recent call last)",
      "\u001b[1;32m<ipython-input-33-e77dfa94d538>\u001b[0m in \u001b[0;36m<module>\u001b[1;34m()\u001b[0m\n\u001b[1;32m----> 1\u001b[1;33m \u001b[1;32mfrom\u001b[0m \u001b[0mbasic_units\u001b[0m \u001b[1;32mimport\u001b[0m \u001b[0mradian\u001b[0m\u001b[1;33m\u001b[0m\u001b[0m\n\u001b[0m",
      "\u001b[1;31mModuleNotFoundError\u001b[0m: No module named 'basic_units'"
     ]
    }
   ],
   "source": [
    "from basic_units import radians"
   ]
  },
  {
   "cell_type": "code",
   "execution_count": 35,
   "metadata": {},
   "outputs": [
    {
     "data": {
      "application/javascript": [
       "/* Put everything inside the global mpl namespace */\n",
       "window.mpl = {};\n",
       "\n",
       "\n",
       "mpl.get_websocket_type = function() {\n",
       "    if (typeof(WebSocket) !== 'undefined') {\n",
       "        return WebSocket;\n",
       "    } else if (typeof(MozWebSocket) !== 'undefined') {\n",
       "        return MozWebSocket;\n",
       "    } else {\n",
       "        alert('Your browser does not have WebSocket support.' +\n",
       "              'Please try Chrome, Safari or Firefox ≥ 6. ' +\n",
       "              'Firefox 4 and 5 are also supported but you ' +\n",
       "              'have to enable WebSockets in about:config.');\n",
       "    };\n",
       "}\n",
       "\n",
       "mpl.figure = function(figure_id, websocket, ondownload, parent_element) {\n",
       "    this.id = figure_id;\n",
       "\n",
       "    this.ws = websocket;\n",
       "\n",
       "    this.supports_binary = (this.ws.binaryType != undefined);\n",
       "\n",
       "    if (!this.supports_binary) {\n",
       "        var warnings = document.getElementById(\"mpl-warnings\");\n",
       "        if (warnings) {\n",
       "            warnings.style.display = 'block';\n",
       "            warnings.textContent = (\n",
       "                \"This browser does not support binary websocket messages. \" +\n",
       "                    \"Performance may be slow.\");\n",
       "        }\n",
       "    }\n",
       "\n",
       "    this.imageObj = new Image();\n",
       "\n",
       "    this.context = undefined;\n",
       "    this.message = undefined;\n",
       "    this.canvas = undefined;\n",
       "    this.rubberband_canvas = undefined;\n",
       "    this.rubberband_context = undefined;\n",
       "    this.format_dropdown = undefined;\n",
       "\n",
       "    this.image_mode = 'full';\n",
       "\n",
       "    this.root = $('<div/>');\n",
       "    this._root_extra_style(this.root)\n",
       "    this.root.attr('style', 'display: inline-block');\n",
       "\n",
       "    $(parent_element).append(this.root);\n",
       "\n",
       "    this._init_header(this);\n",
       "    this._init_canvas(this);\n",
       "    this._init_toolbar(this);\n",
       "\n",
       "    var fig = this;\n",
       "\n",
       "    this.waiting = false;\n",
       "\n",
       "    this.ws.onopen =  function () {\n",
       "            fig.send_message(\"supports_binary\", {value: fig.supports_binary});\n",
       "            fig.send_message(\"send_image_mode\", {});\n",
       "            if (mpl.ratio != 1) {\n",
       "                fig.send_message(\"set_dpi_ratio\", {'dpi_ratio': mpl.ratio});\n",
       "            }\n",
       "            fig.send_message(\"refresh\", {});\n",
       "        }\n",
       "\n",
       "    this.imageObj.onload = function() {\n",
       "            if (fig.image_mode == 'full') {\n",
       "                // Full images could contain transparency (where diff images\n",
       "                // almost always do), so we need to clear the canvas so that\n",
       "                // there is no ghosting.\n",
       "                fig.context.clearRect(0, 0, fig.canvas.width, fig.canvas.height);\n",
       "            }\n",
       "            fig.context.drawImage(fig.imageObj, 0, 0);\n",
       "        };\n",
       "\n",
       "    this.imageObj.onunload = function() {\n",
       "        this.ws.close();\n",
       "    }\n",
       "\n",
       "    this.ws.onmessage = this._make_on_message_function(this);\n",
       "\n",
       "    this.ondownload = ondownload;\n",
       "}\n",
       "\n",
       "mpl.figure.prototype._init_header = function() {\n",
       "    var titlebar = $(\n",
       "        '<div class=\"ui-dialog-titlebar ui-widget-header ui-corner-all ' +\n",
       "        'ui-helper-clearfix\"/>');\n",
       "    var titletext = $(\n",
       "        '<div class=\"ui-dialog-title\" style=\"width: 100%; ' +\n",
       "        'text-align: center; padding: 3px;\"/>');\n",
       "    titlebar.append(titletext)\n",
       "    this.root.append(titlebar);\n",
       "    this.header = titletext[0];\n",
       "}\n",
       "\n",
       "\n",
       "\n",
       "mpl.figure.prototype._canvas_extra_style = function(canvas_div) {\n",
       "\n",
       "}\n",
       "\n",
       "\n",
       "mpl.figure.prototype._root_extra_style = function(canvas_div) {\n",
       "\n",
       "}\n",
       "\n",
       "mpl.figure.prototype._init_canvas = function() {\n",
       "    var fig = this;\n",
       "\n",
       "    var canvas_div = $('<div/>');\n",
       "\n",
       "    canvas_div.attr('style', 'position: relative; clear: both; outline: 0');\n",
       "\n",
       "    function canvas_keyboard_event(event) {\n",
       "        return fig.key_event(event, event['data']);\n",
       "    }\n",
       "\n",
       "    canvas_div.keydown('key_press', canvas_keyboard_event);\n",
       "    canvas_div.keyup('key_release', canvas_keyboard_event);\n",
       "    this.canvas_div = canvas_div\n",
       "    this._canvas_extra_style(canvas_div)\n",
       "    this.root.append(canvas_div);\n",
       "\n",
       "    var canvas = $('<canvas/>');\n",
       "    canvas.addClass('mpl-canvas');\n",
       "    canvas.attr('style', \"left: 0; top: 0; z-index: 0; outline: 0\")\n",
       "\n",
       "    this.canvas = canvas[0];\n",
       "    this.context = canvas[0].getContext(\"2d\");\n",
       "\n",
       "    var backingStore = this.context.backingStorePixelRatio ||\n",
       "\tthis.context.webkitBackingStorePixelRatio ||\n",
       "\tthis.context.mozBackingStorePixelRatio ||\n",
       "\tthis.context.msBackingStorePixelRatio ||\n",
       "\tthis.context.oBackingStorePixelRatio ||\n",
       "\tthis.context.backingStorePixelRatio || 1;\n",
       "\n",
       "    mpl.ratio = (window.devicePixelRatio || 1) / backingStore;\n",
       "\n",
       "    var rubberband = $('<canvas/>');\n",
       "    rubberband.attr('style', \"position: absolute; left: 0; top: 0; z-index: 1;\")\n",
       "\n",
       "    var pass_mouse_events = true;\n",
       "\n",
       "    canvas_div.resizable({\n",
       "        start: function(event, ui) {\n",
       "            pass_mouse_events = false;\n",
       "        },\n",
       "        resize: function(event, ui) {\n",
       "            fig.request_resize(ui.size.width, ui.size.height);\n",
       "        },\n",
       "        stop: function(event, ui) {\n",
       "            pass_mouse_events = true;\n",
       "            fig.request_resize(ui.size.width, ui.size.height);\n",
       "        },\n",
       "    });\n",
       "\n",
       "    function mouse_event_fn(event) {\n",
       "        if (pass_mouse_events)\n",
       "            return fig.mouse_event(event, event['data']);\n",
       "    }\n",
       "\n",
       "    rubberband.mousedown('button_press', mouse_event_fn);\n",
       "    rubberband.mouseup('button_release', mouse_event_fn);\n",
       "    // Throttle sequential mouse events to 1 every 20ms.\n",
       "    rubberband.mousemove('motion_notify', mouse_event_fn);\n",
       "\n",
       "    rubberband.mouseenter('figure_enter', mouse_event_fn);\n",
       "    rubberband.mouseleave('figure_leave', mouse_event_fn);\n",
       "\n",
       "    canvas_div.on(\"wheel\", function (event) {\n",
       "        event = event.originalEvent;\n",
       "        event['data'] = 'scroll'\n",
       "        if (event.deltaY < 0) {\n",
       "            event.step = 1;\n",
       "        } else {\n",
       "            event.step = -1;\n",
       "        }\n",
       "        mouse_event_fn(event);\n",
       "    });\n",
       "\n",
       "    canvas_div.append(canvas);\n",
       "    canvas_div.append(rubberband);\n",
       "\n",
       "    this.rubberband = rubberband;\n",
       "    this.rubberband_canvas = rubberband[0];\n",
       "    this.rubberband_context = rubberband[0].getContext(\"2d\");\n",
       "    this.rubberband_context.strokeStyle = \"#000000\";\n",
       "\n",
       "    this._resize_canvas = function(width, height) {\n",
       "        // Keep the size of the canvas, canvas container, and rubber band\n",
       "        // canvas in synch.\n",
       "        canvas_div.css('width', width)\n",
       "        canvas_div.css('height', height)\n",
       "\n",
       "        canvas.attr('width', width * mpl.ratio);\n",
       "        canvas.attr('height', height * mpl.ratio);\n",
       "        canvas.attr('style', 'width: ' + width + 'px; height: ' + height + 'px;');\n",
       "\n",
       "        rubberband.attr('width', width);\n",
       "        rubberband.attr('height', height);\n",
       "    }\n",
       "\n",
       "    // Set the figure to an initial 600x600px, this will subsequently be updated\n",
       "    // upon first draw.\n",
       "    this._resize_canvas(600, 600);\n",
       "\n",
       "    // Disable right mouse context menu.\n",
       "    $(this.rubberband_canvas).bind(\"contextmenu\",function(e){\n",
       "        return false;\n",
       "    });\n",
       "\n",
       "    function set_focus () {\n",
       "        canvas.focus();\n",
       "        canvas_div.focus();\n",
       "    }\n",
       "\n",
       "    window.setTimeout(set_focus, 100);\n",
       "}\n",
       "\n",
       "mpl.figure.prototype._init_toolbar = function() {\n",
       "    var fig = this;\n",
       "\n",
       "    var nav_element = $('<div/>')\n",
       "    nav_element.attr('style', 'width: 100%');\n",
       "    this.root.append(nav_element);\n",
       "\n",
       "    // Define a callback function for later on.\n",
       "    function toolbar_event(event) {\n",
       "        return fig.toolbar_button_onclick(event['data']);\n",
       "    }\n",
       "    function toolbar_mouse_event(event) {\n",
       "        return fig.toolbar_button_onmouseover(event['data']);\n",
       "    }\n",
       "\n",
       "    for(var toolbar_ind in mpl.toolbar_items) {\n",
       "        var name = mpl.toolbar_items[toolbar_ind][0];\n",
       "        var tooltip = mpl.toolbar_items[toolbar_ind][1];\n",
       "        var image = mpl.toolbar_items[toolbar_ind][2];\n",
       "        var method_name = mpl.toolbar_items[toolbar_ind][3];\n",
       "\n",
       "        if (!name) {\n",
       "            // put a spacer in here.\n",
       "            continue;\n",
       "        }\n",
       "        var button = $('<button/>');\n",
       "        button.addClass('ui-button ui-widget ui-state-default ui-corner-all ' +\n",
       "                        'ui-button-icon-only');\n",
       "        button.attr('role', 'button');\n",
       "        button.attr('aria-disabled', 'false');\n",
       "        button.click(method_name, toolbar_event);\n",
       "        button.mouseover(tooltip, toolbar_mouse_event);\n",
       "\n",
       "        var icon_img = $('<span/>');\n",
       "        icon_img.addClass('ui-button-icon-primary ui-icon');\n",
       "        icon_img.addClass(image);\n",
       "        icon_img.addClass('ui-corner-all');\n",
       "\n",
       "        var tooltip_span = $('<span/>');\n",
       "        tooltip_span.addClass('ui-button-text');\n",
       "        tooltip_span.html(tooltip);\n",
       "\n",
       "        button.append(icon_img);\n",
       "        button.append(tooltip_span);\n",
       "\n",
       "        nav_element.append(button);\n",
       "    }\n",
       "\n",
       "    var fmt_picker_span = $('<span/>');\n",
       "\n",
       "    var fmt_picker = $('<select/>');\n",
       "    fmt_picker.addClass('mpl-toolbar-option ui-widget ui-widget-content');\n",
       "    fmt_picker_span.append(fmt_picker);\n",
       "    nav_element.append(fmt_picker_span);\n",
       "    this.format_dropdown = fmt_picker[0];\n",
       "\n",
       "    for (var ind in mpl.extensions) {\n",
       "        var fmt = mpl.extensions[ind];\n",
       "        var option = $(\n",
       "            '<option/>', {selected: fmt === mpl.default_extension}).html(fmt);\n",
       "        fmt_picker.append(option)\n",
       "    }\n",
       "\n",
       "    // Add hover states to the ui-buttons\n",
       "    $( \".ui-button\" ).hover(\n",
       "        function() { $(this).addClass(\"ui-state-hover\");},\n",
       "        function() { $(this).removeClass(\"ui-state-hover\");}\n",
       "    );\n",
       "\n",
       "    var status_bar = $('<span class=\"mpl-message\"/>');\n",
       "    nav_element.append(status_bar);\n",
       "    this.message = status_bar[0];\n",
       "}\n",
       "\n",
       "mpl.figure.prototype.request_resize = function(x_pixels, y_pixels) {\n",
       "    // Request matplotlib to resize the figure. Matplotlib will then trigger a resize in the client,\n",
       "    // which will in turn request a refresh of the image.\n",
       "    this.send_message('resize', {'width': x_pixels, 'height': y_pixels});\n",
       "}\n",
       "\n",
       "mpl.figure.prototype.send_message = function(type, properties) {\n",
       "    properties['type'] = type;\n",
       "    properties['figure_id'] = this.id;\n",
       "    this.ws.send(JSON.stringify(properties));\n",
       "}\n",
       "\n",
       "mpl.figure.prototype.send_draw_message = function() {\n",
       "    if (!this.waiting) {\n",
       "        this.waiting = true;\n",
       "        this.ws.send(JSON.stringify({type: \"draw\", figure_id: this.id}));\n",
       "    }\n",
       "}\n",
       "\n",
       "\n",
       "mpl.figure.prototype.handle_save = function(fig, msg) {\n",
       "    var format_dropdown = fig.format_dropdown;\n",
       "    var format = format_dropdown.options[format_dropdown.selectedIndex].value;\n",
       "    fig.ondownload(fig, format);\n",
       "}\n",
       "\n",
       "\n",
       "mpl.figure.prototype.handle_resize = function(fig, msg) {\n",
       "    var size = msg['size'];\n",
       "    if (size[0] != fig.canvas.width || size[1] != fig.canvas.height) {\n",
       "        fig._resize_canvas(size[0], size[1]);\n",
       "        fig.send_message(\"refresh\", {});\n",
       "    };\n",
       "}\n",
       "\n",
       "mpl.figure.prototype.handle_rubberband = function(fig, msg) {\n",
       "    var x0 = msg['x0'] / mpl.ratio;\n",
       "    var y0 = (fig.canvas.height - msg['y0']) / mpl.ratio;\n",
       "    var x1 = msg['x1'] / mpl.ratio;\n",
       "    var y1 = (fig.canvas.height - msg['y1']) / mpl.ratio;\n",
       "    x0 = Math.floor(x0) + 0.5;\n",
       "    y0 = Math.floor(y0) + 0.5;\n",
       "    x1 = Math.floor(x1) + 0.5;\n",
       "    y1 = Math.floor(y1) + 0.5;\n",
       "    var min_x = Math.min(x0, x1);\n",
       "    var min_y = Math.min(y0, y1);\n",
       "    var width = Math.abs(x1 - x0);\n",
       "    var height = Math.abs(y1 - y0);\n",
       "\n",
       "    fig.rubberband_context.clearRect(\n",
       "        0, 0, fig.canvas.width, fig.canvas.height);\n",
       "\n",
       "    fig.rubberband_context.strokeRect(min_x, min_y, width, height);\n",
       "}\n",
       "\n",
       "mpl.figure.prototype.handle_figure_label = function(fig, msg) {\n",
       "    // Updates the figure title.\n",
       "    fig.header.textContent = msg['label'];\n",
       "}\n",
       "\n",
       "mpl.figure.prototype.handle_cursor = function(fig, msg) {\n",
       "    var cursor = msg['cursor'];\n",
       "    switch(cursor)\n",
       "    {\n",
       "    case 0:\n",
       "        cursor = 'pointer';\n",
       "        break;\n",
       "    case 1:\n",
       "        cursor = 'default';\n",
       "        break;\n",
       "    case 2:\n",
       "        cursor = 'crosshair';\n",
       "        break;\n",
       "    case 3:\n",
       "        cursor = 'move';\n",
       "        break;\n",
       "    }\n",
       "    fig.rubberband_canvas.style.cursor = cursor;\n",
       "}\n",
       "\n",
       "mpl.figure.prototype.handle_message = function(fig, msg) {\n",
       "    fig.message.textContent = msg['message'];\n",
       "}\n",
       "\n",
       "mpl.figure.prototype.handle_draw = function(fig, msg) {\n",
       "    // Request the server to send over a new figure.\n",
       "    fig.send_draw_message();\n",
       "}\n",
       "\n",
       "mpl.figure.prototype.handle_image_mode = function(fig, msg) {\n",
       "    fig.image_mode = msg['mode'];\n",
       "}\n",
       "\n",
       "mpl.figure.prototype.updated_canvas_event = function() {\n",
       "    // Called whenever the canvas gets updated.\n",
       "    this.send_message(\"ack\", {});\n",
       "}\n",
       "\n",
       "// A function to construct a web socket function for onmessage handling.\n",
       "// Called in the figure constructor.\n",
       "mpl.figure.prototype._make_on_message_function = function(fig) {\n",
       "    return function socket_on_message(evt) {\n",
       "        if (evt.data instanceof Blob) {\n",
       "            /* FIXME: We get \"Resource interpreted as Image but\n",
       "             * transferred with MIME type text/plain:\" errors on\n",
       "             * Chrome.  But how to set the MIME type?  It doesn't seem\n",
       "             * to be part of the websocket stream */\n",
       "            evt.data.type = \"image/png\";\n",
       "\n",
       "            /* Free the memory for the previous frames */\n",
       "            if (fig.imageObj.src) {\n",
       "                (window.URL || window.webkitURL).revokeObjectURL(\n",
       "                    fig.imageObj.src);\n",
       "            }\n",
       "\n",
       "            fig.imageObj.src = (window.URL || window.webkitURL).createObjectURL(\n",
       "                evt.data);\n",
       "            fig.updated_canvas_event();\n",
       "            fig.waiting = false;\n",
       "            return;\n",
       "        }\n",
       "        else if (typeof evt.data === 'string' && evt.data.slice(0, 21) == \"data:image/png;base64\") {\n",
       "            fig.imageObj.src = evt.data;\n",
       "            fig.updated_canvas_event();\n",
       "            fig.waiting = false;\n",
       "            return;\n",
       "        }\n",
       "\n",
       "        var msg = JSON.parse(evt.data);\n",
       "        var msg_type = msg['type'];\n",
       "\n",
       "        // Call the  \"handle_{type}\" callback, which takes\n",
       "        // the figure and JSON message as its only arguments.\n",
       "        try {\n",
       "            var callback = fig[\"handle_\" + msg_type];\n",
       "        } catch (e) {\n",
       "            console.log(\"No handler for the '\" + msg_type + \"' message type: \", msg);\n",
       "            return;\n",
       "        }\n",
       "\n",
       "        if (callback) {\n",
       "            try {\n",
       "                // console.log(\"Handling '\" + msg_type + \"' message: \", msg);\n",
       "                callback(fig, msg);\n",
       "            } catch (e) {\n",
       "                console.log(\"Exception inside the 'handler_\" + msg_type + \"' callback:\", e, e.stack, msg);\n",
       "            }\n",
       "        }\n",
       "    };\n",
       "}\n",
       "\n",
       "// from http://stackoverflow.com/questions/1114465/getting-mouse-location-in-canvas\n",
       "mpl.findpos = function(e) {\n",
       "    //this section is from http://www.quirksmode.org/js/events_properties.html\n",
       "    var targ;\n",
       "    if (!e)\n",
       "        e = window.event;\n",
       "    if (e.target)\n",
       "        targ = e.target;\n",
       "    else if (e.srcElement)\n",
       "        targ = e.srcElement;\n",
       "    if (targ.nodeType == 3) // defeat Safari bug\n",
       "        targ = targ.parentNode;\n",
       "\n",
       "    // jQuery normalizes the pageX and pageY\n",
       "    // pageX,Y are the mouse positions relative to the document\n",
       "    // offset() returns the position of the element relative to the document\n",
       "    var x = e.pageX - $(targ).offset().left;\n",
       "    var y = e.pageY - $(targ).offset().top;\n",
       "\n",
       "    return {\"x\": x, \"y\": y};\n",
       "};\n",
       "\n",
       "/*\n",
       " * return a copy of an object with only non-object keys\n",
       " * we need this to avoid circular references\n",
       " * http://stackoverflow.com/a/24161582/3208463\n",
       " */\n",
       "function simpleKeys (original) {\n",
       "  return Object.keys(original).reduce(function (obj, key) {\n",
       "    if (typeof original[key] !== 'object')\n",
       "        obj[key] = original[key]\n",
       "    return obj;\n",
       "  }, {});\n",
       "}\n",
       "\n",
       "mpl.figure.prototype.mouse_event = function(event, name) {\n",
       "    var canvas_pos = mpl.findpos(event)\n",
       "\n",
       "    if (name === 'button_press')\n",
       "    {\n",
       "        this.canvas.focus();\n",
       "        this.canvas_div.focus();\n",
       "    }\n",
       "\n",
       "    var x = canvas_pos.x * mpl.ratio;\n",
       "    var y = canvas_pos.y * mpl.ratio;\n",
       "\n",
       "    this.send_message(name, {x: x, y: y, button: event.button,\n",
       "                             step: event.step,\n",
       "                             guiEvent: simpleKeys(event)});\n",
       "\n",
       "    /* This prevents the web browser from automatically changing to\n",
       "     * the text insertion cursor when the button is pressed.  We want\n",
       "     * to control all of the cursor setting manually through the\n",
       "     * 'cursor' event from matplotlib */\n",
       "    event.preventDefault();\n",
       "    return false;\n",
       "}\n",
       "\n",
       "mpl.figure.prototype._key_event_extra = function(event, name) {\n",
       "    // Handle any extra behaviour associated with a key event\n",
       "}\n",
       "\n",
       "mpl.figure.prototype.key_event = function(event, name) {\n",
       "\n",
       "    // Prevent repeat events\n",
       "    if (name == 'key_press')\n",
       "    {\n",
       "        if (event.which === this._key)\n",
       "            return;\n",
       "        else\n",
       "            this._key = event.which;\n",
       "    }\n",
       "    if (name == 'key_release')\n",
       "        this._key = null;\n",
       "\n",
       "    var value = '';\n",
       "    if (event.ctrlKey && event.which != 17)\n",
       "        value += \"ctrl+\";\n",
       "    if (event.altKey && event.which != 18)\n",
       "        value += \"alt+\";\n",
       "    if (event.shiftKey && event.which != 16)\n",
       "        value += \"shift+\";\n",
       "\n",
       "    value += 'k';\n",
       "    value += event.which.toString();\n",
       "\n",
       "    this._key_event_extra(event, name);\n",
       "\n",
       "    this.send_message(name, {key: value,\n",
       "                             guiEvent: simpleKeys(event)});\n",
       "    return false;\n",
       "}\n",
       "\n",
       "mpl.figure.prototype.toolbar_button_onclick = function(name) {\n",
       "    if (name == 'download') {\n",
       "        this.handle_save(this, null);\n",
       "    } else {\n",
       "        this.send_message(\"toolbar_button\", {name: name});\n",
       "    }\n",
       "};\n",
       "\n",
       "mpl.figure.prototype.toolbar_button_onmouseover = function(tooltip) {\n",
       "    this.message.textContent = tooltip;\n",
       "};\n",
       "mpl.toolbar_items = [[\"Home\", \"Reset original view\", \"fa fa-home icon-home\", \"home\"], [\"Back\", \"Back to  previous view\", \"fa fa-arrow-left icon-arrow-left\", \"back\"], [\"Forward\", \"Forward to next view\", \"fa fa-arrow-right icon-arrow-right\", \"forward\"], [\"\", \"\", \"\", \"\"], [\"Pan\", \"Pan axes with left mouse, zoom with right\", \"fa fa-arrows icon-move\", \"pan\"], [\"Zoom\", \"Zoom to rectangle\", \"fa fa-square-o icon-check-empty\", \"zoom\"], [\"\", \"\", \"\", \"\"], [\"Download\", \"Download plot\", \"fa fa-floppy-o icon-save\", \"download\"]];\n",
       "\n",
       "mpl.extensions = [\"eps\", \"jpeg\", \"pdf\", \"png\", \"ps\", \"raw\", \"svg\", \"tif\"];\n",
       "\n",
       "mpl.default_extension = \"png\";var comm_websocket_adapter = function(comm) {\n",
       "    // Create a \"websocket\"-like object which calls the given IPython comm\n",
       "    // object with the appropriate methods. Currently this is a non binary\n",
       "    // socket, so there is still some room for performance tuning.\n",
       "    var ws = {};\n",
       "\n",
       "    ws.close = function() {\n",
       "        comm.close()\n",
       "    };\n",
       "    ws.send = function(m) {\n",
       "        //console.log('sending', m);\n",
       "        comm.send(m);\n",
       "    };\n",
       "    // Register the callback with on_msg.\n",
       "    comm.on_msg(function(msg) {\n",
       "        //console.log('receiving', msg['content']['data'], msg);\n",
       "        // Pass the mpl event to the overriden (by mpl) onmessage function.\n",
       "        ws.onmessage(msg['content']['data'])\n",
       "    });\n",
       "    return ws;\n",
       "}\n",
       "\n",
       "mpl.mpl_figure_comm = function(comm, msg) {\n",
       "    // This is the function which gets called when the mpl process\n",
       "    // starts-up an IPython Comm through the \"matplotlib\" channel.\n",
       "\n",
       "    var id = msg.content.data.id;\n",
       "    // Get hold of the div created by the display call when the Comm\n",
       "    // socket was opened in Python.\n",
       "    var element = $(\"#\" + id);\n",
       "    var ws_proxy = comm_websocket_adapter(comm)\n",
       "\n",
       "    function ondownload(figure, format) {\n",
       "        window.open(figure.imageObj.src);\n",
       "    }\n",
       "\n",
       "    var fig = new mpl.figure(id, ws_proxy,\n",
       "                           ondownload,\n",
       "                           element.get(0));\n",
       "\n",
       "    // Call onopen now - mpl needs it, as it is assuming we've passed it a real\n",
       "    // web socket which is closed, not our websocket->open comm proxy.\n",
       "    ws_proxy.onopen();\n",
       "\n",
       "    fig.parent_element = element.get(0);\n",
       "    fig.cell_info = mpl.find_output_cell(\"<div id='\" + id + \"'></div>\");\n",
       "    if (!fig.cell_info) {\n",
       "        console.error(\"Failed to find cell for figure\", id, fig);\n",
       "        return;\n",
       "    }\n",
       "\n",
       "    var output_index = fig.cell_info[2]\n",
       "    var cell = fig.cell_info[0];\n",
       "\n",
       "};\n",
       "\n",
       "mpl.figure.prototype.handle_close = function(fig, msg) {\n",
       "    var width = fig.canvas.width/mpl.ratio\n",
       "    fig.root.unbind('remove')\n",
       "\n",
       "    // Update the output cell to use the data from the current canvas.\n",
       "    fig.push_to_output();\n",
       "    var dataURL = fig.canvas.toDataURL();\n",
       "    // Re-enable the keyboard manager in IPython - without this line, in FF,\n",
       "    // the notebook keyboard shortcuts fail.\n",
       "    IPython.keyboard_manager.enable()\n",
       "    $(fig.parent_element).html('<img src=\"' + dataURL + '\" width=\"' + width + '\">');\n",
       "    fig.close_ws(fig, msg);\n",
       "}\n",
       "\n",
       "mpl.figure.prototype.close_ws = function(fig, msg){\n",
       "    fig.send_message('closing', msg);\n",
       "    // fig.ws.close()\n",
       "}\n",
       "\n",
       "mpl.figure.prototype.push_to_output = function(remove_interactive) {\n",
       "    // Turn the data on the canvas into data in the output cell.\n",
       "    var width = this.canvas.width/mpl.ratio\n",
       "    var dataURL = this.canvas.toDataURL();\n",
       "    this.cell_info[1]['text/html'] = '<img src=\"' + dataURL + '\" width=\"' + width + '\">';\n",
       "}\n",
       "\n",
       "mpl.figure.prototype.updated_canvas_event = function() {\n",
       "    // Tell IPython that the notebook contents must change.\n",
       "    IPython.notebook.set_dirty(true);\n",
       "    this.send_message(\"ack\", {});\n",
       "    var fig = this;\n",
       "    // Wait a second, then push the new image to the DOM so\n",
       "    // that it is saved nicely (might be nice to debounce this).\n",
       "    setTimeout(function () { fig.push_to_output() }, 1000);\n",
       "}\n",
       "\n",
       "mpl.figure.prototype._init_toolbar = function() {\n",
       "    var fig = this;\n",
       "\n",
       "    var nav_element = $('<div/>')\n",
       "    nav_element.attr('style', 'width: 100%');\n",
       "    this.root.append(nav_element);\n",
       "\n",
       "    // Define a callback function for later on.\n",
       "    function toolbar_event(event) {\n",
       "        return fig.toolbar_button_onclick(event['data']);\n",
       "    }\n",
       "    function toolbar_mouse_event(event) {\n",
       "        return fig.toolbar_button_onmouseover(event['data']);\n",
       "    }\n",
       "\n",
       "    for(var toolbar_ind in mpl.toolbar_items){\n",
       "        var name = mpl.toolbar_items[toolbar_ind][0];\n",
       "        var tooltip = mpl.toolbar_items[toolbar_ind][1];\n",
       "        var image = mpl.toolbar_items[toolbar_ind][2];\n",
       "        var method_name = mpl.toolbar_items[toolbar_ind][3];\n",
       "\n",
       "        if (!name) { continue; };\n",
       "\n",
       "        var button = $('<button class=\"btn btn-default\" href=\"#\" title=\"' + name + '\"><i class=\"fa ' + image + ' fa-lg\"></i></button>');\n",
       "        button.click(method_name, toolbar_event);\n",
       "        button.mouseover(tooltip, toolbar_mouse_event);\n",
       "        nav_element.append(button);\n",
       "    }\n",
       "\n",
       "    // Add the status bar.\n",
       "    var status_bar = $('<span class=\"mpl-message\" style=\"text-align:right; float: right;\"/>');\n",
       "    nav_element.append(status_bar);\n",
       "    this.message = status_bar[0];\n",
       "\n",
       "    // Add the close button to the window.\n",
       "    var buttongrp = $('<div class=\"btn-group inline pull-right\"></div>');\n",
       "    var button = $('<button class=\"btn btn-mini btn-primary\" href=\"#\" title=\"Stop Interaction\"><i class=\"fa fa-power-off icon-remove icon-large\"></i></button>');\n",
       "    button.click(function (evt) { fig.handle_close(fig, {}); } );\n",
       "    button.mouseover('Stop Interaction', toolbar_mouse_event);\n",
       "    buttongrp.append(button);\n",
       "    var titlebar = this.root.find($('.ui-dialog-titlebar'));\n",
       "    titlebar.prepend(buttongrp);\n",
       "}\n",
       "\n",
       "mpl.figure.prototype._root_extra_style = function(el){\n",
       "    var fig = this\n",
       "    el.on(\"remove\", function(){\n",
       "\tfig.close_ws(fig, {});\n",
       "    });\n",
       "}\n",
       "\n",
       "mpl.figure.prototype._canvas_extra_style = function(el){\n",
       "    // this is important to make the div 'focusable\n",
       "    el.attr('tabindex', 0)\n",
       "    // reach out to IPython and tell the keyboard manager to turn it's self\n",
       "    // off when our div gets focus\n",
       "\n",
       "    // location in version 3\n",
       "    if (IPython.notebook.keyboard_manager) {\n",
       "        IPython.notebook.keyboard_manager.register_events(el);\n",
       "    }\n",
       "    else {\n",
       "        // location in version 2\n",
       "        IPython.keyboard_manager.register_events(el);\n",
       "    }\n",
       "\n",
       "}\n",
       "\n",
       "mpl.figure.prototype._key_event_extra = function(event, name) {\n",
       "    var manager = IPython.notebook.keyboard_manager;\n",
       "    if (!manager)\n",
       "        manager = IPython.keyboard_manager;\n",
       "\n",
       "    // Check for shift+enter\n",
       "    if (event.shiftKey && event.which == 13) {\n",
       "        this.canvas_div.blur();\n",
       "        // select the cell after this one\n",
       "        var index = IPython.notebook.find_cell_index(this.cell_info[0]);\n",
       "        IPython.notebook.select(index + 1);\n",
       "    }\n",
       "}\n",
       "\n",
       "mpl.figure.prototype.handle_save = function(fig, msg) {\n",
       "    fig.ondownload(fig, null);\n",
       "}\n",
       "\n",
       "\n",
       "mpl.find_output_cell = function(html_output) {\n",
       "    // Return the cell and output element which can be found *uniquely* in the notebook.\n",
       "    // Note - this is a bit hacky, but it is done because the \"notebook_saving.Notebook\"\n",
       "    // IPython event is triggered only after the cells have been serialised, which for\n",
       "    // our purposes (turning an active figure into a static one), is too late.\n",
       "    var cells = IPython.notebook.get_cells();\n",
       "    var ncells = cells.length;\n",
       "    for (var i=0; i<ncells; i++) {\n",
       "        var cell = cells[i];\n",
       "        if (cell.cell_type === 'code'){\n",
       "            for (var j=0; j<cell.output_area.outputs.length; j++) {\n",
       "                var data = cell.output_area.outputs[j];\n",
       "                if (data.data) {\n",
       "                    // IPython >= 3 moved mimebundle to data attribute of output\n",
       "                    data = data.data;\n",
       "                }\n",
       "                if (data['text/html'] == html_output) {\n",
       "                    return [cell, data, j];\n",
       "                }\n",
       "            }\n",
       "        }\n",
       "    }\n",
       "}\n",
       "\n",
       "// Register the function which deals with the matplotlib target/channel.\n",
       "// The kernel may be null if the page has been refreshed.\n",
       "if (IPython.notebook.kernel != null) {\n",
       "    IPython.notebook.kernel.comm_manager.register_target('matplotlib', mpl.mpl_figure_comm);\n",
       "}\n"
      ],
      "text/plain": [
       "<IPython.core.display.Javascript object>"
      ]
     },
     "metadata": {},
     "output_type": "display_data"
    },
    {
     "data": {
      "text/html": [
       "<img src=\"data:image/png;base64,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\" width=\"640\">"
      ],
      "text/plain": [
       "<IPython.core.display.HTML object>"
      ]
     },
     "metadata": {},
     "output_type": "display_data"
    },
    {
     "data": {
      "text/plain": [
       "[<matplotlib.lines.Line2D at 0xe6da69c0b8>]"
      ]
     },
     "execution_count": 35,
     "metadata": {},
     "output_type": "execute_result"
    }
   ],
   "source": [
    "theta2 = np.linspace(-2*np.pi/5, 2*np.pi/5,300)\n",
    "t = np.tan(theta2)\n",
    "plt.plot(theta2,t,'r--')"
   ]
  },
  {
   "cell_type": "code",
   "execution_count": null,
   "metadata": {
    "collapsed": true
   },
   "outputs": [],
   "source": []
  }
 ],
 "metadata": {
  "kernelspec": {
   "display_name": "Python 3",
   "language": "python",
   "name": "python3"
  },
  "language_info": {
   "codemirror_mode": {
    "name": "ipython",
    "version": 3
   },
   "file_extension": ".py",
   "mimetype": "text/x-python",
   "name": "python",
   "nbconvert_exporter": "python",
   "pygments_lexer": "ipython3",
   "version": "3.6.2"
  }
 },
 "nbformat": 4,
 "nbformat_minor": 2
}
