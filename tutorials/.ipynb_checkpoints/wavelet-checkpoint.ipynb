{
 "cells": [
  {
   "cell_type": "markdown",
   "metadata": {},
   "source": [
    "# WAVLET.PY"
   ]
  },
  {
   "cell_type": "markdown",
   "metadata": {},
   "source": [
    "#### Python wavelet anaysis code based on the code in [IDL and MATLAB](http://paos.colorado.edu/research/wavelets/software.html) language written by Christopher Torrence and [PYTHON 2](http://paos.colorado.edu/research/wavelets/software.html) language written by Evgeniya Predybaylo."
   ]
  },
  {
   "cell_type": "markdown",
   "metadata": {},
   "source": [
    "The wavelet code for PYTHON written by Evgeniya Predybaylo only can use in PYTHON 2 and has some errors.\n",
    "Also there is another wavlet code [PIWavelet](http://duducosmos.github.io/PIWavelet/).\n",
    "Unfortunately it is also based on the PYTHON 2, and the inverse wavelet method has different normalization with Torrence's one. In addition its runtime is much longer than Predybaylo's [PYTHON code](http://paos.colorado.edu/research/wavelets/software.html) or Torrence's [IDL code](http://paos.colorado.edu/research/wavelets/software.html).\n",
    "To avoid these errors and run also in PYTHON 3, we need the revised the previous wavelet code.\n",
    "Here, we provide the new PYTHON code which is slightly faster than Predybaylo's code and catch the erros."
   ]
  },
  {
   "cell_type": "markdown",
   "metadata": {},
   "source": [
    "### Development\n",
    "Author : Juhyeong Kang\n",
    "\n",
    "Date  : Sep 2016\n",
    "\n",
    "Email : jhkang@astro.snu.ac.kr"
   ]
  },
  {
   "cell_type": "markdown",
   "metadata": {},
   "source": [
    "# Wavelet"
   ]
  },
  {
   "cell_type": "markdown",
   "metadata": {},
   "source": [
    "Computes the wavelet transfor of the timeseries with sampling time dt.\n",
    "\n",
    "By default, the Molet nonorthogonal wavlet function with k0=6 is used.\n",
    "The wavelet basis is normalized to have total energy=1 at all sacles."
   ]
  },
  {
   "cell_type": "markdown",
   "metadata": {},
   "source": [
    "### Syntax\n",
    "\n",
    "wave, period, scale, coi = wavelet(y,dt,dj=0.25,s0=False,j=False,mother='MORLET',param=False,pad=False)\n",
    "\n",
    "signif = wave_signif(y,dt,scale,sigtest=0,mother='MORLET',param=False,lag1=0.0,siglvl=0.95,dof=-1,gws=False,confidence=False)"
   ]
  },
  {
   "cell_type": "markdown",
   "metadata": {},
   "source": [
    "## Setting"
   ]
  },
  {
   "cell_type": "code",
   "execution_count": 1,
   "metadata": {
    "collapsed": true
   },
   "outputs": [],
   "source": [
    "matplotlib inline"
   ]
  },
  {
   "cell_type": "code",
   "execution_count": 2,
   "metadata": {
    "collapsed": true
   },
   "outputs": [],
   "source": [
    "import os"
   ]
  },
  {
   "cell_type": "code",
   "execution_count": 3,
   "metadata": {
    "collapsed": true
   },
   "outputs": [],
   "source": [
    "import glob"
   ]
  },
  {
   "cell_type": "code",
   "execution_count": 4,
   "metadata": {
    "collapsed": true
   },
   "outputs": [],
   "source": [
    "import numpy as np"
   ]
  },
  {
   "cell_type": "code",
   "execution_count": 5,
   "metadata": {
    "collapsed": true
   },
   "outputs": [],
   "source": [
    "import matplotlib.pyplot as plt"
   ]
  },
  {
   "cell_type": "code",
   "execution_count": 6,
   "metadata": {
    "collapsed": true
   },
   "outputs": [],
   "source": [
    "from matplotlib import ticker"
   ]
  },
  {
   "cell_type": "code",
   "execution_count": 7,
   "metadata": {
    "collapsed": false
   },
   "outputs": [],
   "source": [
    "from fisspy.analysis.wavelet import wavelet, wave_signif,motherparam"
   ]
  },
  {
   "cell_type": "code",
   "execution_count": 8,
   "metadata": {
    "collapsed": true
   },
   "outputs": [],
   "source": [
    "os.chdir(\"../analysis/sample/\")"
   ]
  },
  {
   "cell_type": "code",
   "execution_count": 9,
   "metadata": {
    "collapsed": true
   },
   "outputs": [],
   "source": [
    "file=glob.glob('*.dat')"
   ]
  },
  {
   "cell_type": "code",
   "execution_count": 10,
   "metadata": {
    "collapsed": false
   },
   "outputs": [],
   "source": [
    "y=np.loadtxt(file[0])"
   ]
  },
  {
   "cell_type": "code",
   "execution_count": 11,
   "metadata": {
    "collapsed": true
   },
   "outputs": [],
   "source": [
    "var=np.var(y,ddof=1)"
   ]
  },
  {
   "cell_type": "code",
   "execution_count": 12,
   "metadata": {
    "collapsed": true
   },
   "outputs": [],
   "source": [
    "n=len(y)\n",
    "dt=0.25\n",
    "time=np.arange(n)*dt+1871\n",
    "xlim=[int(np.round(time[0],-1)),int(np.round(time[-1],-1))]\n",
    "dj=0.25\n",
    "s0=2*dt\n",
    "j1 = int(7/dj)\n",
    "lag1 = 0.72\n",
    "mother = 'Morlet'\n",
    "pad =True"
   ]
  },
  {
   "cell_type": "markdown",
   "metadata": {},
   "source": [
    "## Wavelet transform"
   ]
  },
  {
   "cell_type": "code",
   "execution_count": 13,
   "metadata": {
    "collapsed": false
   },
   "outputs": [],
   "source": [
    "wave, period, scale, coi = wavelet(y,dt,dj,s0,j1,mother=mother,pad=pad)"
   ]
  },
  {
   "cell_type": "code",
   "execution_count": 14,
   "metadata": {
    "collapsed": false
   },
   "outputs": [
    {
     "data": {
      "text/plain": [
       "(29, 504)"
      ]
     },
     "execution_count": 14,
     "metadata": {},
     "output_type": "execute_result"
    }
   ],
   "source": [
    "wave.shape"
   ]
  },
  {
   "cell_type": "code",
   "execution_count": 15,
   "metadata": {
    "collapsed": true
   },
   "outputs": [],
   "source": [
    "power=np.abs(wave)**2"
   ]
  },
  {
   "cell_type": "code",
   "execution_count": 16,
   "metadata": {
    "collapsed": true
   },
   "outputs": [],
   "source": [
    "gws=power.mean(axis=1)"
   ]
  },
  {
   "cell_type": "code",
   "execution_count": 17,
   "metadata": {
    "collapsed": true
   },
   "outputs": [],
   "source": [
    "# scale averaged power spectrum\n",
    "\n",
    "power_norm=power/scale[:,None]"
   ]
  },
  {
   "cell_type": "code",
   "execution_count": 18,
   "metadata": {
    "collapsed": true
   },
   "outputs": [],
   "source": [
    "period_mask=(period>= 2)*(period<8)"
   ]
  },
  {
   "cell_type": "code",
   "execution_count": 19,
   "metadata": {
    "collapsed": false
   },
   "outputs": [],
   "source": [
    "mparam=motherparam(mother)"
   ]
  },
  {
   "cell_type": "code",
   "execution_count": 20,
   "metadata": {
    "collapsed": false
   },
   "outputs": [],
   "source": [
    "power_avg=dj*dt/mparam[2]*power_norm[period_mask,:].sum(0)"
   ]
  },
  {
   "cell_type": "markdown",
   "metadata": {},
   "source": [
    "## Significance"
   ]
  },
  {
   "cell_type": "markdown",
   "metadata": {},
   "source": [
    "Significance levels (var=1 for the normalized sst)"
   ]
  },
  {
   "cell_type": "code",
   "execution_count": 21,
   "metadata": {
    "collapsed": false
   },
   "outputs": [],
   "source": [
    "signif = wave_signif(1.0,dt,scale,sigtest=0,mother=mother,lag1=lag1)"
   ]
  },
  {
   "cell_type": "code",
   "execution_count": 22,
   "metadata": {
    "collapsed": false
   },
   "outputs": [],
   "source": [
    "sig95=signif[:,None]\n",
    "sig95 = power / sig95/var"
   ]
  },
  {
   "cell_type": "markdown",
   "metadata": {},
   "source": [
    "Global wavelet function and significance levels"
   ]
  },
  {
   "cell_type": "code",
   "execution_count": 23,
   "metadata": {
    "collapsed": true
   },
   "outputs": [],
   "source": [
    "dof = n - scale"
   ]
  },
  {
   "cell_type": "code",
   "execution_count": 24,
   "metadata": {
    "collapsed": false,
    "scrolled": true
   },
   "outputs": [],
   "source": [
    "gsig = wave_signif(var,dt,scale,sigtest=1,lag1=lag1,dof=dof,mother=mother)"
   ]
  },
  {
   "cell_type": "code",
   "execution_count": 25,
   "metadata": {
    "collapsed": false
   },
   "outputs": [
    {
     "data": {
      "text/plain": [
       "[<matplotlib.lines.Line2D at 0xe907e847f0>]"
      ]
     },
     "execution_count": 25,
     "metadata": {},
     "output_type": "execute_result"
    },
    {
     "data": {
      "image/png": "[encoded data removed]",
      "text/plain": [
       "<matplotlib.figure.Figure at 0xe902fe9d68>"
      ]
     },
     "metadata": {},
     "output_type": "display_data"
    }
   ],
   "source": [
    "plt.figure(figsize=(6,5))\n",
    "plt.plot(period,gws)\n",
    "plt.xscale('log',basey=2)\n",
    "ax=plt.gca().xaxis\n",
    "ax.set_major_formatter(ticker.ScalarFormatter())\n",
    "plt.ticklabel_format(axis='x',style='plain')\n",
    "plt.xlabel('Period (years)')\n",
    "plt.ylabel(r'Power ($\\degree C^2$)')\n",
    "plt.title('Global Wavelet Spectrum')\n",
    "plt.xlim(period[0],period[-1])\n",
    "plt.plot(period,gsig,'r--')"
   ]
  },
  {
   "cell_type": "markdown",
   "metadata": {},
   "source": [
    "Scale-average netween El Nino periods of 2-8 years"
   ]
  },
  {
   "cell_type": "code",
   "execution_count": 26,
   "metadata": {
    "collapsed": false
   },
   "outputs": [],
   "source": [
    "savgsig = wave_signif(var,dt,scale,sigtest=2,lag1=lag1,dof=[2,8],mother=mother)"
   ]
  },
  {
   "cell_type": "code",
   "execution_count": 27,
   "metadata": {
    "collapsed": false
   },
   "outputs": [
    {
     "data": {
      "text/plain": [
       "0.43966840202380197"
      ]
     },
     "execution_count": 27,
     "metadata": {},
     "output_type": "execute_result"
    }
   ],
   "source": [
    "savgsig"
   ]
  },
  {
   "cell_type": "code",
   "execution_count": 28,
   "metadata": {
    "collapsed": false
   },
   "outputs": [
    {
     "data": {
      "text/plain": [
       "[<matplotlib.lines.Line2D at 0xe9086081d0>]"
      ]
     },
     "execution_count": 28,
     "metadata": {},
     "output_type": "execute_result"
    },
    {
     "data": {
      "image/png": "[encoded data removed]",
      "text/plain": [
       "<matplotlib.figure.Figure at 0xe908608f28>"
      ]
     },
     "metadata": {},
     "output_type": "display_data"
    }
   ],
   "source": [
    "plt.plot(time,power_avg)\n",
    "plt.xlabel('Time (year)')\n",
    "plt.ylabel(r'Avg Variance ($\\degree C^2$)')\n",
    "plt.xlim(xlim)\n",
    "plt.title('2-8 yr Scale-average Time Series')\n",
    "plt.plot(xlim,savgsig+[0,0],'r--')"
   ]
  },
  {
   "cell_type": "markdown",
   "metadata": {},
   "source": [
    "### Wavelet Contour"
   ]
  },
  {
   "cell_type": "code",
   "execution_count": 29,
   "metadata": {
    "collapsed": true
   },
   "outputs": [],
   "source": [
    "levels = [0,1,2,5,10]"
   ]
  },
  {
   "cell_type": "markdown",
   "metadata": {},
   "source": [
    "Contour plot wavelet power spectrum"
   ]
  },
  {
   "cell_type": "code",
   "execution_count": 30,
   "metadata": {
    "collapsed": false,
    "scrolled": false
   },
   "outputs": [
    {
     "data": {
      "image/png": "[encoded data removed]",
      "text/plain": [
       "<matplotlib.figure.Figure at 0xe9086c7e48>"
      ]
     },
     "metadata": {},
     "output_type": "display_data"
    }
   ],
   "source": [
    "plt.figure(figsize=(10,3))\n",
    "cmap=plt.cm.gray_r\n",
    "cs=plt.contourf(time, period[:],power, len(levels),cmap=cmap)\n",
    "im=plt.contourf(cs,levels=levels,cmap=cmap)\n",
    "plt.contour(time,period[:],sig95,[-99,1],color='k')\n",
    "plt.fill_between(time,coi,period.max(),color='grey',alpha=0.4,hatch='x')\n",
    "plt.ylim([period.max(),period.min()])\n",
    "plt.yscale('log',basey=2)\n",
    "plt.xlabel('Time (year)')\n",
    "plt.ylabel('Period (years)')\n",
    "ax=plt.gca().yaxis\n",
    "ax.set_major_formatter(ticker.ScalarFormatter())\n",
    "plt.ticklabel_format(axis='y',style='plain')\n",
    "plt.title('NINO3 SST Wavelet Power Spectrum')\n",
    "plt.colorbar(im)\n",
    "plt.grid()"
   ]
  },
  {
   "cell_type": "markdown",
   "metadata": {},
   "source": [
    "The red contour is the 95% confidence level(red noise $\\alpha$=0.72). This result is same as Figure 11.(a) of Torrence & Compo ([1998](http://paos.colorado.edu/research/wavelets/bams_79_01_0061.pdf))"
   ]
  },
  {
   "cell_type": "markdown",
   "metadata": {},
   "source": [
    "# Reference"
   ]
  },
  {
   "cell_type": "markdown",
   "metadata": {},
   "source": [
    "Torrence, C. and G. P. Compo, 1998, <I>A Practical Guid to Wavelet Analysis</I>. [BAMS, 79, 64-78.](http://paos.colorado.edu/research/wavelets/bams_79_01_0061.pdf)"
   ]
  }
 ],
 "metadata": {
  "anaconda-cloud": {},
  "kernelspec": {
   "display_name": "Python [Root]",
   "language": "python",
   "name": "Python [Root]"
  },
  "language_info": {
   "codemirror_mode": {
    "name": "ipython",
    "version": 3
   },
   "file_extension": ".py",
   "mimetype": "text/x-python",
   "name": "python",
   "nbconvert_exporter": "python",
   "pygments_lexer": "ipython3",
   "version": "3.5.2"
  }
 },
 "nbformat": 4,
 "nbformat_minor": 0
}
