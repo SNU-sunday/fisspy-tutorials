{
 "cells": [
  {
   "cell_type": "markdown",
   "metadata": {},
   "source": [
    "# Scientifc Python"
   ]
  },
  {
   "cell_type": "markdown",
   "metadata": {},
   "source": [
    "In this section, we learn some basic scientific functions and packages.\n",
    "We use the [NumPy](http://www.numpy.org/), [SciPy](https://www.scipy.org/), [Matplotlib](https://matplotlib.org/), [Interpolation](https://github.com/econforge/interpolation.py), [AstroPy](http://www.astropy.org/) and [SunPy](http://sunpy.org/) packages.\n",
    "\n",
    "**Required packages**\n",
    "\n",
    "> * [Python](http://www.python.org)    v2.7 or 3.5 or 3.6    \n",
    "[![Python](https://www.python.org/static/img/python-logo.png)](http://www.python.org)\n",
    "* [NumPy](http://www.numpy.org/)    v1.7+     \n",
    "[![NumPy](http://www.numpy.org/_static/numpy_logo.png)](http://www.numpy.org/)\n",
    "* [SciPy](https://www.scipy.org/)    v1.0+    \n",
    "[![SciPy](https://www.scipy.org/_static/logo.gif)](https://www.scipy.org/)\n",
    "* [Matplotlib](https://matplotlib.org/)    v2.0+\n",
    "[![Matplotlib](https://matplotlib.org/_static/logo2.png)](https://matplotlib.org/)\n",
    "* [AstroPy](http://www.astropy.org/)    v2.0+\n",
    "[![AstroPy](http://www.astropy.org/images/astropy_banner.svg)](http://www.astropy.org/)\n",
    "* [SunPy](http://sunpy.org/)   v0.8+ (Warning ! : This package is developing package, so that some of functions can be depricated)\n",
    "[![SunPy](./sample/sunpy.svg)](http://sunpy.org/)\n",
    "* [Interpolation](https://github.com/econforge/interpolation.py)  v0.18+\n",
    "\n",
    "\n",
    "Above requried packages can be downloaded by using conda command in your cmd prompt or terminal as below :\n",
    "\n",
    "    conda install -c condaforge sunpy astropy interpolation\n",
    "\n",
    "This tutorial is based on the [Scipy-Lecture notes](http://www.scipy-lectures.org).\n",
    "\n",
    "**You can download this tutorial file on the [fisspy-tutorials](https://github.com/SNU-sunday/fisspy-tutorials/tree/master/tutorials/scientific_python.ipynb) Github site below**\n",
    "\n",
    "https://github.com/SNU-sunday/fisspy-tutorials/tree/master/tutorials/scientific_python.ipynb\n",
    "\n",
    "and some examples files."
   ]
  },
  {
   "cell_type": "markdown",
   "metadata": {},
   "source": [
    "# 1. Compatibility"
   ]
  },
  {
   "cell_type": "markdown",
   "metadata": {},
   "source": [
    "Some of calling syntaxes are differen according to python version. The main differences are print statement and division operator. In python 2, division operator '**/**' is the floor division, but in python3 it isn't the floor division. In python3 floor division syntax is '**//**'\n",
    "To avoid this compatibility problem, we import the \"**future**\" method."
   ]
  },
  {
   "cell_type": "code",
   "execution_count": 1,
   "metadata": {
    "collapsed": true
   },
   "outputs": [],
   "source": [
    "from __future__ import division, print_function"
   ]
  },
  {
   "cell_type": "markdown",
   "metadata": {},
   "source": [
    "# 2. Array (NumPy package)"
   ]
  },
  {
   "cell_type": "markdown",
   "metadata": {},
   "source": [
    "To call arrays in python, we have to import the **numpy** package at first."
   ]
  },
  {
   "cell_type": "code",
   "execution_count": 2,
   "metadata": {
    "collapsed": true
   },
   "outputs": [],
   "source": [
    "import numpy as np"
   ]
  },
  {
   "cell_type": "markdown",
   "metadata": {},
   "source": [
    "## 2.1. Manual construction of arrays"
   ]
  },
  {
   "cell_type": "code",
   "execution_count": 3,
   "metadata": {},
   "outputs": [
    {
     "data": {
      "text/plain": [
       "array([1, 5, 2, 4, 3, 0])"
      ]
     },
     "execution_count": 3,
     "metadata": {},
     "output_type": "execute_result"
    }
   ],
   "source": [
    "a = np.array([1,5,2,4,3,0])\n",
    "a"
   ]
  },
  {
   "cell_type": "markdown",
   "metadata": {},
   "source": [
    "This array can be sort by using **sort** function"
   ]
  },
  {
   "cell_type": "code",
   "execution_count": 4,
   "metadata": {},
   "outputs": [
    {
     "data": {
      "text/plain": [
       "array([0, 1, 2, 3, 4, 5])"
      ]
     },
     "execution_count": 4,
     "metadata": {},
     "output_type": "execute_result"
    }
   ],
   "source": [
    "a.sort()\n",
    "a"
   ]
  },
  {
   "cell_type": "code",
   "execution_count": 5,
   "metadata": {},
   "outputs": [
    {
     "data": {
      "text/plain": [
       "dtype('int32')"
      ]
     },
     "execution_count": 5,
     "metadata": {},
     "output_type": "execute_result"
    }
   ],
   "source": [
    "a.dtype"
   ]
  },
  {
   "cell_type": "code",
   "execution_count": 6,
   "metadata": {},
   "outputs": [
    {
     "data": {
      "text/plain": [
       "array([[ 0.,  1.,  2.],\n",
       "       [ 3.,  4.,  5.]])"
      ]
     },
     "execution_count": 6,
     "metadata": {},
     "output_type": "execute_result"
    }
   ],
   "source": [
    "b = np.array([[0,1,2],[3,4,5]],dtype = 'float')\n",
    "b"
   ]
  },
  {
   "cell_type": "code",
   "execution_count": 7,
   "metadata": {},
   "outputs": [
    {
     "data": {
      "text/plain": [
       "dtype('float64')"
      ]
     },
     "execution_count": 7,
     "metadata": {},
     "output_type": "execute_result"
    }
   ],
   "source": [
    "b.dtype"
   ]
  },
  {
   "cell_type": "code",
   "execution_count": 8,
   "metadata": {},
   "outputs": [
    {
     "data": {
      "text/plain": [
       "(2, 3)"
      ]
     },
     "execution_count": 8,
     "metadata": {},
     "output_type": "execute_result"
    }
   ],
   "source": [
    "b.shape          # Same with the size function in IDL"
   ]
  },
  {
   "cell_type": "code",
   "execution_count": 9,
   "metadata": {},
   "outputs": [
    {
     "data": {
      "text/plain": [
       "2"
      ]
     },
     "execution_count": 9,
     "metadata": {},
     "output_type": "execute_result"
    }
   ],
   "source": [
    "len(b)           # returns the size of the first dimension"
   ]
  },
  {
   "cell_type": "markdown",
   "metadata": {},
   "source": [
    "convert row array to column array"
   ]
  },
  {
   "cell_type": "code",
   "execution_count": 10,
   "metadata": {},
   "outputs": [
    {
     "data": {
      "text/plain": [
       "array([[0],\n",
       "       [1],\n",
       "       [2],\n",
       "       [3],\n",
       "       [4],\n",
       "       [5]])"
      ]
     },
     "execution_count": 10,
     "metadata": {},
     "output_type": "execute_result"
    }
   ],
   "source": [
    "c = a[:,None]\n",
    "c"
   ]
  },
  {
   "cell_type": "markdown",
   "metadata": {
    "collapsed": true
   },
   "source": [
    "## 2.2 Functions for creating arrays"
   ]
  },
  {
   "cell_type": "code",
   "execution_count": 11,
   "metadata": {},
   "outputs": [
    {
     "data": {
      "text/plain": [
       "array([0, 1, 2, 3, 4, 5])"
      ]
     },
     "execution_count": 11,
     "metadata": {},
     "output_type": "execute_result"
    }
   ],
   "source": [
    "a = np.arange(6)   # similar with the *indgen functions in IDL\n",
    "a"
   ]
  },
  {
   "cell_type": "code",
   "execution_count": 12,
   "metadata": {},
   "outputs": [
    {
     "data": {
      "text/plain": [
       "array([ 0. ,  0.1,  0.2,  0.3,  0.4,  0.5,  0.6,  0.7,  0.8,  0.9,  1. ,\n",
       "        1.1,  1.2,  1.3,  1.4,  1.5,  1.6,  1.7,  1.8,  1.9,  2. ,  2.1,\n",
       "        2.2,  2.3,  2.4,  2.5,  2.6,  2.7,  2.8,  2.9,  3. ,  3.1,  3.2,\n",
       "        3.3,  3.4,  3.5,  3.6,  3.7,  3.8,  3.9,  4. ,  4.1,  4.2,  4.3,\n",
       "        4.4,  4.5,  4.6,  4.7,  4.8,  4.9,  5. ,  5.1,  5.2,  5.3,  5.4,\n",
       "        5.5,  5.6,  5.7,  5.8,  5.9,  6. ,  6.1,  6.2,  6.3,  6.4,  6.5,\n",
       "        6.6,  6.7,  6.8,  6.9,  7. ,  7.1,  7.2,  7.3,  7.4,  7.5,  7.6,\n",
       "        7.7,  7.8,  7.9,  8. ,  8.1,  8.2,  8.3,  8.4,  8.5,  8.6,  8.7,\n",
       "        8.8,  8.9,  9. ,  9.1,  9.2,  9.3,  9.4,  9.5,  9.6,  9.7,  9.8,\n",
       "        9.9])"
      ]
     },
     "execution_count": 12,
     "metadata": {},
     "output_type": "execute_result"
    }
   ],
   "source": [
    "b = np.arange(0,10,0.1)\n",
    "b"
   ]
  },
  {
   "cell_type": "code",
   "execution_count": 13,
   "metadata": {
    "collapsed": true
   },
   "outputs": [],
   "source": [
    "np.arange?"
   ]
  },
  {
   "cell_type": "code",
   "execution_count": 14,
   "metadata": {},
   "outputs": [
    {
     "data": {
      "text/plain": [
       "array([  0. ,   0.1,   0.2,   0.3,   0.4,   0.5,   0.6,   0.7,   0.8,\n",
       "         0.9,   1. ,   1.1,   1.2,   1.3,   1.4,   1.5,   1.6,   1.7,\n",
       "         1.8,   1.9,   2. ,   2.1,   2.2,   2.3,   2.4,   2.5,   2.6,\n",
       "         2.7,   2.8,   2.9,   3. ,   3.1,   3.2,   3.3,   3.4,   3.5,\n",
       "         3.6,   3.7,   3.8,   3.9,   4. ,   4.1,   4.2,   4.3,   4.4,\n",
       "         4.5,   4.6,   4.7,   4.8,   4.9,   5. ,   5.1,   5.2,   5.3,\n",
       "         5.4,   5.5,   5.6,   5.7,   5.8,   5.9,   6. ,   6.1,   6.2,\n",
       "         6.3,   6.4,   6.5,   6.6,   6.7,   6.8,   6.9,   7. ,   7.1,\n",
       "         7.2,   7.3,   7.4,   7.5,   7.6,   7.7,   7.8,   7.9,   8. ,\n",
       "         8.1,   8.2,   8.3,   8.4,   8.5,   8.6,   8.7,   8.8,   8.9,\n",
       "         9. ,   9.1,   9.2,   9.3,   9.4,   9.5,   9.6,   9.7,   9.8,\n",
       "         9.9,  10. ])"
      ]
     },
     "execution_count": 14,
     "metadata": {},
     "output_type": "execute_result"
    }
   ],
   "source": [
    "c = np.linspace(0,10,101)\n",
    "c"
   ]
  },
  {
   "cell_type": "code",
   "execution_count": 15,
   "metadata": {
    "collapsed": true
   },
   "outputs": [],
   "source": [
    "np.linspace?"
   ]
  },
  {
   "cell_type": "code",
   "execution_count": 16,
   "metadata": {
    "collapsed": true
   },
   "outputs": [],
   "source": [
    "one = np.ones((3,3))"
   ]
  },
  {
   "cell_type": "code",
   "execution_count": 17,
   "metadata": {},
   "outputs": [
    {
     "data": {
      "text/plain": [
       "array([[ 1.,  1.,  1.],\n",
       "       [ 1.,  1.,  1.],\n",
       "       [ 1.,  1.,  1.]])"
      ]
     },
     "execution_count": 17,
     "metadata": {},
     "output_type": "execute_result"
    }
   ],
   "source": [
    "one"
   ]
  },
  {
   "cell_type": "code",
   "execution_count": 18,
   "metadata": {
    "collapsed": true
   },
   "outputs": [],
   "source": [
    "zero = np.zeros((2,3))"
   ]
  },
  {
   "cell_type": "code",
   "execution_count": 19,
   "metadata": {},
   "outputs": [
    {
     "data": {
      "text/plain": [
       "array([[ 0.,  0.,  0.],\n",
       "       [ 0.,  0.,  0.]])"
      ]
     },
     "execution_count": 19,
     "metadata": {},
     "output_type": "execute_result"
    }
   ],
   "source": [
    "zero"
   ]
  },
  {
   "cell_type": "code",
   "execution_count": 20,
   "metadata": {
    "collapsed": true
   },
   "outputs": [],
   "source": [
    "np.random.seed(2018)"
   ]
  },
  {
   "cell_type": "code",
   "execution_count": 21,
   "metadata": {},
   "outputs": [
    {
     "data": {
      "text/plain": [
       "array([ 0.88234931,  0.10432774,  0.90700933,  0.3063989 ])"
      ]
     },
     "execution_count": 21,
     "metadata": {},
     "output_type": "execute_result"
    }
   ],
   "source": [
    "randu = np.random.rand(4)   #uniform random number generator\n",
    "randu"
   ]
  },
  {
   "cell_type": "code",
   "execution_count": 22,
   "metadata": {},
   "outputs": [
    {
     "data": {
      "text/plain": [
       "array([ 2.14839926, -1.279487  ,  0.50227689,  0.8560293 , -0.14279008])"
      ]
     },
     "execution_count": 22,
     "metadata": {},
     "output_type": "execute_result"
    }
   ],
   "source": [
    "randg = np.random.randn(5) #gaussian random number generator\n",
    "randg"
   ]
  },
  {
   "cell_type": "markdown",
   "metadata": {},
   "source": [
    "#### Exercise 1)  Create an array which has equaily spaced elements from 5 to 100 with step size = 5 ."
   ]
  },
  {
   "cell_type": "code",
   "execution_count": null,
   "metadata": {
    "collapsed": true
   },
   "outputs": [],
   "source": []
  },
  {
   "cell_type": "markdown",
   "metadata": {},
   "source": [
    "#### Exercise 2) Create an array which has 100 equaily spaced elements from 0 to 2"
   ]
  },
  {
   "cell_type": "code",
   "execution_count": null,
   "metadata": {
    "collapsed": true
   },
   "outputs": [],
   "source": []
  },
  {
   "cell_type": "markdown",
   "metadata": {},
   "source": [
    "## 2.3. Indexing and slicing"
   ]
  },
  {
   "cell_type": "code",
   "execution_count": 23,
   "metadata": {
    "collapsed": true
   },
   "outputs": [],
   "source": [
    "a = np.arange(10)"
   ]
  },
  {
   "cell_type": "code",
   "execution_count": 24,
   "metadata": {},
   "outputs": [
    {
     "data": {
      "text/plain": [
       "0"
      ]
     },
     "execution_count": 24,
     "metadata": {},
     "output_type": "execute_result"
    }
   ],
   "source": [
    "a[0]"
   ]
  },
  {
   "cell_type": "code",
   "execution_count": 25,
   "metadata": {},
   "outputs": [
    {
     "data": {
      "text/plain": [
       "array([0, 1, 2, 3, 4, 5, 6, 7, 8, 9])"
      ]
     },
     "execution_count": 25,
     "metadata": {},
     "output_type": "execute_result"
    }
   ],
   "source": [
    "a[:]"
   ]
  },
  {
   "cell_type": "code",
   "execution_count": 26,
   "metadata": {},
   "outputs": [
    {
     "data": {
      "text/plain": [
       "array([3, 4, 5])"
      ]
     },
     "execution_count": 26,
     "metadata": {},
     "output_type": "execute_result"
    }
   ],
   "source": [
    "a[3:6]"
   ]
  },
  {
   "cell_type": "code",
   "execution_count": 27,
   "metadata": {},
   "outputs": [
    {
     "data": {
      "text/plain": [
       "array([3, 5, 7])"
      ]
     },
     "execution_count": 27,
     "metadata": {},
     "output_type": "execute_result"
    }
   ],
   "source": [
    "a[3:8:2]"
   ]
  },
  {
   "cell_type": "code",
   "execution_count": 28,
   "metadata": {},
   "outputs": [
    {
     "data": {
      "text/plain": [
       "array([3, 4, 5, 6, 7, 8, 9])"
      ]
     },
     "execution_count": 28,
     "metadata": {},
     "output_type": "execute_result"
    }
   ],
   "source": [
    "a[3:]"
   ]
  },
  {
   "cell_type": "markdown",
   "metadata": {},
   "source": [
    "#### Array reshaping"
   ]
  },
  {
   "cell_type": "code",
   "execution_count": 52,
   "metadata": {
    "collapsed": true
   },
   "outputs": [],
   "source": [
    "d=np.arange(25)"
   ]
  },
  {
   "cell_type": "code",
   "execution_count": 53,
   "metadata": {
    "collapsed": true
   },
   "outputs": [],
   "source": [
    "d = d.reshape((5,5))"
   ]
  },
  {
   "cell_type": "code",
   "execution_count": 54,
   "metadata": {},
   "outputs": [
    {
     "data": {
      "text/plain": [
       "array([[ 0,  1,  2,  3,  4],\n",
       "       [ 5,  6,  7,  8,  9],\n",
       "       [10, 11, 12, 13, 14],\n",
       "       [15, 16, 17, 18, 19],\n",
       "       [20, 21, 22, 23, 24]])"
      ]
     },
     "execution_count": 54,
     "metadata": {},
     "output_type": "execute_result"
    }
   ],
   "source": [
    "d"
   ]
  },
  {
   "cell_type": "code",
   "execution_count": 55,
   "metadata": {},
   "outputs": [
    {
     "data": {
      "text/plain": [
       "array([15, 16, 17, 18, 19])"
      ]
     },
     "execution_count": 55,
     "metadata": {},
     "output_type": "execute_result"
    }
   ],
   "source": [
    "d[3]"
   ]
  },
  {
   "cell_type": "code",
   "execution_count": 56,
   "metadata": {},
   "outputs": [
    {
     "data": {
      "text/plain": [
       "array([ 3,  8, 13, 18, 23])"
      ]
     },
     "execution_count": 56,
     "metadata": {},
     "output_type": "execute_result"
    }
   ],
   "source": [
    "d[:,3]"
   ]
  },
  {
   "cell_type": "code",
   "execution_count": 57,
   "metadata": {
    "collapsed": true
   },
   "outputs": [],
   "source": [
    "b = d.transpose()"
   ]
  },
  {
   "cell_type": "code",
   "execution_count": 58,
   "metadata": {},
   "outputs": [
    {
     "data": {
      "text/plain": [
       "array([ 3,  8, 13, 18, 23])"
      ]
     },
     "execution_count": 58,
     "metadata": {},
     "output_type": "execute_result"
    }
   ],
   "source": [
    "b[3]"
   ]
  },
  {
   "cell_type": "code",
   "execution_count": 59,
   "metadata": {},
   "outputs": [
    {
     "data": {
      "text/plain": [
       "array([[0, 1, 2, 3, 4],\n",
       "       [5, 6, 7, 8, 9]])"
      ]
     },
     "execution_count": 59,
     "metadata": {},
     "output_type": "execute_result"
    }
   ],
   "source": [
    "d[:2]"
   ]
  },
  {
   "cell_type": "markdown",
   "metadata": {},
   "source": [
    "## 2.4. Broadcasting"
   ]
  },
  {
   "cell_type": "code",
   "execution_count": 60,
   "metadata": {
    "collapsed": true
   },
   "outputs": [],
   "source": [
    "a = np.arange(5)"
   ]
  },
  {
   "cell_type": "code",
   "execution_count": 61,
   "metadata": {
    "collapsed": true
   },
   "outputs": [],
   "source": [
    "b = np.ones(5, dtype=int)"
   ]
  },
  {
   "cell_type": "code",
   "execution_count": 62,
   "metadata": {},
   "outputs": [
    {
     "data": {
      "text/plain": [
       "array([0, 1, 2, 3, 4])"
      ]
     },
     "execution_count": 62,
     "metadata": {},
     "output_type": "execute_result"
    }
   ],
   "source": [
    "a"
   ]
  },
  {
   "cell_type": "code",
   "execution_count": 63,
   "metadata": {},
   "outputs": [
    {
     "data": {
      "text/plain": [
       "array([1, 1, 1, 1, 1])"
      ]
     },
     "execution_count": 63,
     "metadata": {},
     "output_type": "execute_result"
    }
   ],
   "source": [
    "b"
   ]
  },
  {
   "cell_type": "code",
   "execution_count": 64,
   "metadata": {
    "collapsed": true,
    "scrolled": false
   },
   "outputs": [],
   "source": [
    "c = a+b[:,None]"
   ]
  },
  {
   "cell_type": "code",
   "execution_count": 65,
   "metadata": {},
   "outputs": [
    {
     "data": {
      "text/plain": [
       "array([[1, 2, 3, 4, 5],\n",
       "       [1, 2, 3, 4, 5],\n",
       "       [1, 2, 3, 4, 5],\n",
       "       [1, 2, 3, 4, 5],\n",
       "       [1, 2, 3, 4, 5]])"
      ]
     },
     "execution_count": 65,
     "metadata": {},
     "output_type": "execute_result"
    }
   ],
   "source": [
    "c"
   ]
  },
  {
   "cell_type": "code",
   "execution_count": 66,
   "metadata": {},
   "outputs": [
    {
     "data": {
      "text/plain": [
       "array([[1, 3, 5, 7, 9],\n",
       "       [1, 3, 5, 7, 9],\n",
       "       [1, 3, 5, 7, 9],\n",
       "       [1, 3, 5, 7, 9],\n",
       "       [1, 3, 5, 7, 9]])"
      ]
     },
     "execution_count": 66,
     "metadata": {},
     "output_type": "execute_result"
    }
   ],
   "source": [
    "c + a"
   ]
  },
  {
   "cell_type": "code",
   "execution_count": 67,
   "metadata": {
    "scrolled": true
   },
   "outputs": [
    {
     "data": {
      "text/plain": [
       "array([[1, 2, 3, 4, 5],\n",
       "       [2, 3, 4, 5, 6],\n",
       "       [3, 4, 5, 6, 7],\n",
       "       [4, 5, 6, 7, 8],\n",
       "       [5, 6, 7, 8, 9]])"
      ]
     },
     "execution_count": 67,
     "metadata": {},
     "output_type": "execute_result"
    }
   ],
   "source": [
    "c + a[:,None]"
   ]
  },
  {
   "cell_type": "markdown",
   "metadata": {},
   "source": [
    "**Exercise 3) Create the $10 \\times 10$ multiplication table. (Do not use 'for' loop.)**\n",
    "\n",
    "![Multiplication](sample/multiplication-table-10x10.gif)"
   ]
  },
  {
   "cell_type": "code",
   "execution_count": null,
   "metadata": {
    "collapsed": true
   },
   "outputs": [],
   "source": []
  },
  {
   "cell_type": "code",
   "execution_count": null,
   "metadata": {
    "collapsed": true
   },
   "outputs": [],
   "source": []
  },
  {
   "cell_type": "markdown",
   "metadata": {},
   "source": [
    "## 2.5. Boolean operation"
   ]
  },
  {
   "cell_type": "code",
   "execution_count": 68,
   "metadata": {},
   "outputs": [
    {
     "data": {
      "text/plain": [
       "array([[1, 2, 3, 4, 5],\n",
       "       [1, 2, 3, 4, 5],\n",
       "       [1, 2, 3, 4, 5],\n",
       "       [1, 2, 3, 4, 5],\n",
       "       [1, 2, 3, 4, 5]])"
      ]
     },
     "execution_count": 68,
     "metadata": {},
     "output_type": "execute_result"
    }
   ],
   "source": [
    "c"
   ]
  },
  {
   "cell_type": "code",
   "execution_count": 69,
   "metadata": {},
   "outputs": [
    {
     "data": {
      "text/plain": [
       "array([[ True, False, False, False, False],\n",
       "       [ True, False, False, False, False],\n",
       "       [ True, False, False, False, False],\n",
       "       [ True, False, False, False, False],\n",
       "       [ True, False, False, False, False]], dtype=bool)"
      ]
     },
     "execution_count": 69,
     "metadata": {},
     "output_type": "execute_result"
    }
   ],
   "source": [
    "c == 1"
   ]
  },
  {
   "cell_type": "code",
   "execution_count": 70,
   "metadata": {},
   "outputs": [
    {
     "data": {
      "text/plain": [
       "array([1, 1, 1, 1, 1])"
      ]
     },
     "execution_count": 70,
     "metadata": {},
     "output_type": "execute_result"
    }
   ],
   "source": [
    "b"
   ]
  },
  {
   "cell_type": "code",
   "execution_count": 74,
   "metadata": {
    "collapsed": true
   },
   "outputs": [],
   "source": [
    "mask = c <= b"
   ]
  },
  {
   "cell_type": "code",
   "execution_count": 75,
   "metadata": {},
   "outputs": [
    {
     "data": {
      "text/plain": [
       "array([[ True, False, False, False, False],\n",
       "       [ True, False, False, False, False],\n",
       "       [ True, False, False, False, False],\n",
       "       [ True, False, False, False, False],\n",
       "       [ True, False, False, False, False]], dtype=bool)"
      ]
     },
     "execution_count": 75,
     "metadata": {},
     "output_type": "execute_result"
    }
   ],
   "source": [
    "mask"
   ]
  },
  {
   "cell_type": "code",
   "execution_count": 76,
   "metadata": {
    "scrolled": true
   },
   "outputs": [
    {
     "data": {
      "text/plain": [
       "array([[ 0,  1,  2,  3,  4],\n",
       "       [ 5,  6,  7,  8,  9],\n",
       "       [10, 11, 12, 13, 14],\n",
       "       [15, 16, 17, 18, 19],\n",
       "       [20, 21, 22, 23, 24]])"
      ]
     },
     "execution_count": 76,
     "metadata": {},
     "output_type": "execute_result"
    }
   ],
   "source": [
    "d"
   ]
  },
  {
   "cell_type": "code",
   "execution_count": 77,
   "metadata": {},
   "outputs": [
    {
     "data": {
      "text/plain": [
       "array([ 0,  5, 10, 15, 20])"
      ]
     },
     "execution_count": 77,
     "metadata": {},
     "output_type": "execute_result"
    }
   ],
   "source": [
    "d[mask]"
   ]
  },
  {
   "cell_type": "code",
   "execution_count": 93,
   "metadata": {},
   "outputs": [
    {
     "data": {
      "text/plain": [
       "(array([0, 1, 2, 3, 4], dtype=int64), array([0, 0, 0, 0, 0], dtype=int64))"
      ]
     },
     "execution_count": 93,
     "metadata": {},
     "output_type": "execute_result"
    }
   ],
   "source": [
    "np.where(mask)"
   ]
  },
  {
   "cell_type": "code",
   "execution_count": 50,
   "metadata": {},
   "outputs": [
    {
     "data": {
      "text/plain": [
       "True"
      ]
     },
     "execution_count": 50,
     "metadata": {},
     "output_type": "execute_result"
    }
   ],
   "source": [
    "True or False"
   ]
  },
  {
   "cell_type": "code",
   "execution_count": 78,
   "metadata": {},
   "outputs": [
    {
     "data": {
      "text/plain": [
       "False"
      ]
     },
     "execution_count": 78,
     "metadata": {},
     "output_type": "execute_result"
    }
   ],
   "source": [
    "True and False"
   ]
  },
  {
   "cell_type": "code",
   "execution_count": 79,
   "metadata": {
    "collapsed": true
   },
   "outputs": [],
   "source": [
    "mask1 = np.array([True,False,False,True,False])\n",
    "mask2 = np.array([True,True,False,True,False])"
   ]
  },
  {
   "cell_type": "code",
   "execution_count": 80,
   "metadata": {},
   "outputs": [
    {
     "ename": "ValueError",
     "evalue": "The truth value of an array with more than one element is ambiguous. Use a.any() or a.all()",
     "output_type": "error",
     "traceback": [
      "\u001b[1;31m---------------------------------------------------------------------------\u001b[0m",
      "\u001b[1;31mValueError\u001b[0m                                Traceback (most recent call last)",
      "\u001b[1;32m<ipython-input-80-df0b0dad315b>\u001b[0m in \u001b[0;36m<module>\u001b[1;34m()\u001b[0m\n\u001b[1;32m----> 1\u001b[1;33m \u001b[0mmask1\u001b[0m \u001b[1;32mor\u001b[0m \u001b[0mmask\u001b[0m\u001b[1;33m\u001b[0m\u001b[0m\n\u001b[0m",
      "\u001b[1;31mValueError\u001b[0m: The truth value of an array with more than one element is ambiguous. Use a.any() or a.all()"
     ]
    }
   ],
   "source": [
    "mask1 or mask"
   ]
  },
  {
   "cell_type": "code",
   "execution_count": 81,
   "metadata": {},
   "outputs": [
    {
     "ename": "ValueError",
     "evalue": "The truth value of an array with more than one element is ambiguous. Use a.any() or a.all()",
     "output_type": "error",
     "traceback": [
      "\u001b[1;31m---------------------------------------------------------------------------\u001b[0m",
      "\u001b[1;31mValueError\u001b[0m                                Traceback (most recent call last)",
      "\u001b[1;32m<ipython-input-81-d93ac612a2e9>\u001b[0m in \u001b[0;36m<module>\u001b[1;34m()\u001b[0m\n\u001b[1;32m----> 1\u001b[1;33m \u001b[0mmask1\u001b[0m \u001b[1;32mand\u001b[0m \u001b[0mmask2\u001b[0m\u001b[1;33m\u001b[0m\u001b[0m\n\u001b[0m",
      "\u001b[1;31mValueError\u001b[0m: The truth value of an array with more than one element is ambiguous. Use a.any() or a.all()"
     ]
    }
   ],
   "source": [
    "mask1 and mask2"
   ]
  },
  {
   "cell_type": "code",
   "execution_count": 83,
   "metadata": {},
   "outputs": [
    {
     "data": {
      "text/plain": [
       "array([ True, False, False,  True, False], dtype=bool)"
      ]
     },
     "execution_count": 83,
     "metadata": {},
     "output_type": "execute_result"
    }
   ],
   "source": [
    "np.logical_and(mask1, mask2)"
   ]
  },
  {
   "cell_type": "code",
   "execution_count": 84,
   "metadata": {},
   "outputs": [
    {
     "data": {
      "text/plain": [
       "array([ True,  True, False,  True, False], dtype=bool)"
      ]
     },
     "execution_count": 84,
     "metadata": {},
     "output_type": "execute_result"
    }
   ],
   "source": [
    "np.logical_or(mask1, mask2)"
   ]
  },
  {
   "cell_type": "markdown",
   "metadata": {},
   "source": [
    "## 2.6. Basic reduction"
   ]
  },
  {
   "cell_type": "markdown",
   "metadata": {},
   "source": [
    "![Basic Reduction](sample/basic_reduction.png)"
   ]
  },
  {
   "cell_type": "code",
   "execution_count": 94,
   "metadata": {
    "collapsed": true
   },
   "outputs": [],
   "source": [
    "d[0,3]=-1\n",
    "d[2,2]=-10"
   ]
  },
  {
   "cell_type": "code",
   "execution_count": 95,
   "metadata": {},
   "outputs": [
    {
     "data": {
      "text/plain": [
       "array([[  0,   1,   2,  -1,   4],\n",
       "       [  5,   6,   7,   8,   9],\n",
       "       [ 10,  11, -10,  13,  14],\n",
       "       [ 15,  16,  17,  18,  19],\n",
       "       [ 20,  21,  22,  23,  24]])"
      ]
     },
     "execution_count": 95,
     "metadata": {},
     "output_type": "execute_result"
    }
   ],
   "source": [
    "d"
   ]
  },
  {
   "cell_type": "code",
   "execution_count": 96,
   "metadata": {},
   "outputs": [
    {
     "data": {
      "text/plain": [
       "274"
      ]
     },
     "execution_count": 96,
     "metadata": {},
     "output_type": "execute_result"
    }
   ],
   "source": [
    "d.sum()"
   ]
  },
  {
   "cell_type": "code",
   "execution_count": 98,
   "metadata": {},
   "outputs": [
    {
     "data": {
      "text/plain": [
       "array([50, 55, 38, 61, 70])"
      ]
     },
     "execution_count": 98,
     "metadata": {},
     "output_type": "execute_result"
    }
   ],
   "source": [
    "d.sum(0)"
   ]
  },
  {
   "cell_type": "code",
   "execution_count": 99,
   "metadata": {},
   "outputs": [
    {
     "data": {
      "text/plain": [
       "array([  1.2,   7. ,   7.6,  17. ,  22. ])"
      ]
     },
     "execution_count": 99,
     "metadata": {},
     "output_type": "execute_result"
    }
   ],
   "source": [
    "d.mean(1)"
   ]
  },
  {
   "cell_type": "code",
   "execution_count": 102,
   "metadata": {},
   "outputs": [
    {
     "data": {
      "text/plain": [
       "array([ -1,   5, -10,  15,  20])"
      ]
     },
     "execution_count": 102,
     "metadata": {},
     "output_type": "execute_result"
    }
   ],
   "source": [
    "d.min(1)"
   ]
  },
  {
   "cell_type": "code",
   "execution_count": 103,
   "metadata": {},
   "outputs": [
    {
     "data": {
      "text/plain": [
       "array([3, 0, 2, 0, 0], dtype=int64)"
      ]
     },
     "execution_count": 103,
     "metadata": {},
     "output_type": "execute_result"
    }
   ],
   "source": [
    "d.argmin(1)"
   ]
  },
  {
   "cell_type": "markdown",
   "metadata": {},
   "source": [
    "**Exercise 4) Create the 10x10 gaussian random number, and find the minimum value along the axis 0**"
   ]
  },
  {
   "cell_type": "code",
   "execution_count": null,
   "metadata": {
    "collapsed": true
   },
   "outputs": [],
   "source": []
  },
  {
   "cell_type": "markdown",
   "metadata": {},
   "source": [
    "# 3. Plotting (Matplotlib package)"
   ]
  },
  {
   "cell_type": "markdown",
   "metadata": {},
   "source": [
    "In this section, we are going to learn a simple way to visualize data in interactive mode by using the matplotlib package.\n",
    "matplotlib package is based on the Matlab plot device.\n",
    "\n",
    "First we change the default backend mode to interactive mode in the IPython console."
   ]
  },
  {
   "cell_type": "code",
   "execution_count": 110,
   "metadata": {},
   "outputs": [
    {
     "name": "stdout",
     "output_type": "stream",
     "text": [
      "Using matplotlib backend: Qt5Agg\n"
     ]
    }
   ],
   "source": [
    "%matplotlib"
   ]
  },
  {
   "cell_type": "markdown",
   "metadata": {},
   "source": [
    "If you use the Jupyter notebook like this manual, type the magic funcition like below:"
   ]
  },
  {
   "cell_type": "code",
   "execution_count": 5,
   "metadata": {
    "collapsed": true
   },
   "outputs": [],
   "source": [
    "%matplotlib notebook"
   ]
  },
  {
   "cell_type": "markdown",
   "metadata": {},
   "source": [
    "or :"
   ]
  },
  {
   "cell_type": "code",
   "execution_count": 3,
   "metadata": {
    "collapsed": true
   },
   "outputs": [],
   "source": [
    "%matplotlib inline"
   ]
  },
  {
   "cell_type": "markdown",
   "metadata": {},
   "source": [
    "## 3.1. Simple plot"
   ]
  },
  {
   "cell_type": "markdown",
   "metadata": {},
   "source": [
    "Then import the pyplot module in matplotlib package."
   ]
  },
  {
   "cell_type": "code",
   "execution_count": 4,
   "metadata": {
    "collapsed": true
   },
   "outputs": [],
   "source": [
    "import matplotlib.pyplot as plt"
   ]
  },
  {
   "cell_type": "markdown",
   "metadata": {},
   "source": [
    "Now we draw the cosine and sine functiuons on the same plot from $0$ to $2\\pi$."
   ]
  },
  {
   "cell_type": "code",
   "execution_count": 7,
   "metadata": {
    "collapsed": true
   },
   "outputs": [],
   "source": [
    "theta = np.linspace(-np.pi, np.pi,151)\n",
    "c = np.cos(theta)\n",
    "s = np.sin(theta)"
   ]
  },
  {
   "cell_type": "code",
   "execution_count": 7,
   "metadata": {},
   "outputs": [
    {
     "data": {
      "application/javascript": [
       "/* Put everything inside the global mpl namespace */\n",
       "window.mpl = {};\n",
       "\n",
       "\n",
       "mpl.get_websocket_type = function() {\n",
       "    if (typeof(WebSocket) !== 'undefined') {\n",
       "        return WebSocket;\n",
       "    } else if (typeof(MozWebSocket) !== 'undefined') {\n",
       "        return MozWebSocket;\n",
       "    } else {\n",
       "        alert('Your browser does not have WebSocket support.' +\n",
       "              'Please try Chrome, Safari or Firefox ≥ 6. ' +\n",
       "              'Firefox 4 and 5 are also supported but you ' +\n",
       "              'have to enable WebSockets in about:config.');\n",
       "    };\n",
       "}\n",
       "\n",
       "mpl.figure = function(figure_id, websocket, ondownload, parent_element) {\n",
       "    this.id = figure_id;\n",
       "\n",
       "    this.ws = websocket;\n",
       "\n",
       "    this.supports_binary = (this.ws.binaryType != undefined);\n",
       "\n",
       "    if (!this.supports_binary) {\n",
       "        var warnings = document.getElementById(\"mpl-warnings\");\n",
       "        if (warnings) {\n",
       "            warnings.style.display = 'block';\n",
       "            warnings.textContent = (\n",
       "                \"This browser does not support binary websocket messages. \" +\n",
       "                    \"Performance may be slow.\");\n",
       "        }\n",
       "    }\n",
       "\n",
       "    this.imageObj = new Image();\n",
       "\n",
       "    this.context = undefined;\n",
       "    this.message = undefined;\n",
       "    this.canvas = undefined;\n",
       "    this.rubberband_canvas = undefined;\n",
       "    this.rubberband_context = undefined;\n",
       "    this.format_dropdown = undefined;\n",
       "\n",
       "    this.image_mode = 'full';\n",
       "\n",
       "    this.root = $('<div/>');\n",
       "    this._root_extra_style(this.root)\n",
       "    this.root.attr('style', 'display: inline-block');\n",
       "\n",
       "    $(parent_element).append(this.root);\n",
       "\n",
       "    this._init_header(this);\n",
       "    this._init_canvas(this);\n",
       "    this._init_toolbar(this);\n",
       "\n",
       "    var fig = this;\n",
       "\n",
       "    this.waiting = false;\n",
       "\n",
       "    this.ws.onopen =  function () {\n",
       "            fig.send_message(\"supports_binary\", {value: fig.supports_binary});\n",
       "            fig.send_message(\"send_image_mode\", {});\n",
       "            if (mpl.ratio != 1) {\n",
       "                fig.send_message(\"set_dpi_ratio\", {'dpi_ratio': mpl.ratio});\n",
       "            }\n",
       "            fig.send_message(\"refresh\", {});\n",
       "        }\n",
       "\n",
       "    this.imageObj.onload = function() {\n",
       "            if (fig.image_mode == 'full') {\n",
       "                // Full images could contain transparency (where diff images\n",
       "                // almost always do), so we need to clear the canvas so that\n",
       "                // there is no ghosting.\n",
       "                fig.context.clearRect(0, 0, fig.canvas.width, fig.canvas.height);\n",
       "            }\n",
       "            fig.context.drawImage(fig.imageObj, 0, 0);\n",
       "        };\n",
       "\n",
       "    this.imageObj.onunload = function() {\n",
       "        fig.ws.close();\n",
       "    }\n",
       "\n",
       "    this.ws.onmessage = this._make_on_message_function(this);\n",
       "\n",
       "    this.ondownload = ondownload;\n",
       "}\n",
       "\n",
       "mpl.figure.prototype._init_header = function() {\n",
       "    var titlebar = $(\n",
       "        '<div class=\"ui-dialog-titlebar ui-widget-header ui-corner-all ' +\n",
       "        'ui-helper-clearfix\"/>');\n",
       "    var titletext = $(\n",
       "        '<div class=\"ui-dialog-title\" style=\"width: 100%; ' +\n",
       "        'text-align: center; padding: 3px;\"/>');\n",
       "    titlebar.append(titletext)\n",
       "    this.root.append(titlebar);\n",
       "    this.header = titletext[0];\n",
       "}\n",
       "\n",
       "\n",
       "\n",
       "mpl.figure.prototype._canvas_extra_style = function(canvas_div) {\n",
       "\n",
       "}\n",
       "\n",
       "\n",
       "mpl.figure.prototype._root_extra_style = function(canvas_div) {\n",
       "\n",
       "}\n",
       "\n",
       "mpl.figure.prototype._init_canvas = function() {\n",
       "    var fig = this;\n",
       "\n",
       "    var canvas_div = $('<div/>');\n",
       "\n",
       "    canvas_div.attr('style', 'position: relative; clear: both; outline: 0');\n",
       "\n",
       "    function canvas_keyboard_event(event) {\n",
       "        return fig.key_event(event, event['data']);\n",
       "    }\n",
       "\n",
       "    canvas_div.keydown('key_press', canvas_keyboard_event);\n",
       "    canvas_div.keyup('key_release', canvas_keyboard_event);\n",
       "    this.canvas_div = canvas_div\n",
       "    this._canvas_extra_style(canvas_div)\n",
       "    this.root.append(canvas_div);\n",
       "\n",
       "    var canvas = $('<canvas/>');\n",
       "    canvas.addClass('mpl-canvas');\n",
       "    canvas.attr('style', \"left: 0; top: 0; z-index: 0; outline: 0\")\n",
       "\n",
       "    this.canvas = canvas[0];\n",
       "    this.context = canvas[0].getContext(\"2d\");\n",
       "\n",
       "    var backingStore = this.context.backingStorePixelRatio ||\n",
       "\tthis.context.webkitBackingStorePixelRatio ||\n",
       "\tthis.context.mozBackingStorePixelRatio ||\n",
       "\tthis.context.msBackingStorePixelRatio ||\n",
       "\tthis.context.oBackingStorePixelRatio ||\n",
       "\tthis.context.backingStorePixelRatio || 1;\n",
       "\n",
       "    mpl.ratio = (window.devicePixelRatio || 1) / backingStore;\n",
       "\n",
       "    var rubberband = $('<canvas/>');\n",
       "    rubberband.attr('style', \"position: absolute; left: 0; top: 0; z-index: 1;\")\n",
       "\n",
       "    var pass_mouse_events = true;\n",
       "\n",
       "    canvas_div.resizable({\n",
       "        start: function(event, ui) {\n",
       "            pass_mouse_events = false;\n",
       "        },\n",
       "        resize: function(event, ui) {\n",
       "            fig.request_resize(ui.size.width, ui.size.height);\n",
       "        },\n",
       "        stop: function(event, ui) {\n",
       "            pass_mouse_events = true;\n",
       "            fig.request_resize(ui.size.width, ui.size.height);\n",
       "        },\n",
       "    });\n",
       "\n",
       "    function mouse_event_fn(event) {\n",
       "        if (pass_mouse_events)\n",
       "            return fig.mouse_event(event, event['data']);\n",
       "    }\n",
       "\n",
       "    rubberband.mousedown('button_press', mouse_event_fn);\n",
       "    rubberband.mouseup('button_release', mouse_event_fn);\n",
       "    // Throttle sequential mouse events to 1 every 20ms.\n",
       "    rubberband.mousemove('motion_notify', mouse_event_fn);\n",
       "\n",
       "    rubberband.mouseenter('figure_enter', mouse_event_fn);\n",
       "    rubberband.mouseleave('figure_leave', mouse_event_fn);\n",
       "\n",
       "    canvas_div.on(\"wheel\", function (event) {\n",
       "        event = event.originalEvent;\n",
       "        event['data'] = 'scroll'\n",
       "        if (event.deltaY < 0) {\n",
       "            event.step = 1;\n",
       "        } else {\n",
       "            event.step = -1;\n",
       "        }\n",
       "        mouse_event_fn(event);\n",
       "    });\n",
       "\n",
       "    canvas_div.append(canvas);\n",
       "    canvas_div.append(rubberband);\n",
       "\n",
       "    this.rubberband = rubberband;\n",
       "    this.rubberband_canvas = rubberband[0];\n",
       "    this.rubberband_context = rubberband[0].getContext(\"2d\");\n",
       "    this.rubberband_context.strokeStyle = \"#000000\";\n",
       "\n",
       "    this._resize_canvas = function(width, height) {\n",
       "        // Keep the size of the canvas, canvas container, and rubber band\n",
       "        // canvas in synch.\n",
       "        canvas_div.css('width', width)\n",
       "        canvas_div.css('height', height)\n",
       "\n",
       "        canvas.attr('width', width * mpl.ratio);\n",
       "        canvas.attr('height', height * mpl.ratio);\n",
       "        canvas.attr('style', 'width: ' + width + 'px; height: ' + height + 'px;');\n",
       "\n",
       "        rubberband.attr('width', width);\n",
       "        rubberband.attr('height', height);\n",
       "    }\n",
       "\n",
       "    // Set the figure to an initial 600x600px, this will subsequently be updated\n",
       "    // upon first draw.\n",
       "    this._resize_canvas(600, 600);\n",
       "\n",
       "    // Disable right mouse context menu.\n",
       "    $(this.rubberband_canvas).bind(\"contextmenu\",function(e){\n",
       "        return false;\n",
       "    });\n",
       "\n",
       "    function set_focus () {\n",
       "        canvas.focus();\n",
       "        canvas_div.focus();\n",
       "    }\n",
       "\n",
       "    window.setTimeout(set_focus, 100);\n",
       "}\n",
       "\n",
       "mpl.figure.prototype._init_toolbar = function() {\n",
       "    var fig = this;\n",
       "\n",
       "    var nav_element = $('<div/>')\n",
       "    nav_element.attr('style', 'width: 100%');\n",
       "    this.root.append(nav_element);\n",
       "\n",
       "    // Define a callback function for later on.\n",
       "    function toolbar_event(event) {\n",
       "        return fig.toolbar_button_onclick(event['data']);\n",
       "    }\n",
       "    function toolbar_mouse_event(event) {\n",
       "        return fig.toolbar_button_onmouseover(event['data']);\n",
       "    }\n",
       "\n",
       "    for(var toolbar_ind in mpl.toolbar_items) {\n",
       "        var name = mpl.toolbar_items[toolbar_ind][0];\n",
       "        var tooltip = mpl.toolbar_items[toolbar_ind][1];\n",
       "        var image = mpl.toolbar_items[toolbar_ind][2];\n",
       "        var method_name = mpl.toolbar_items[toolbar_ind][3];\n",
       "\n",
       "        if (!name) {\n",
       "            // put a spacer in here.\n",
       "            continue;\n",
       "        }\n",
       "        var button = $('<button/>');\n",
       "        button.addClass('ui-button ui-widget ui-state-default ui-corner-all ' +\n",
       "                        'ui-button-icon-only');\n",
       "        button.attr('role', 'button');\n",
       "        button.attr('aria-disabled', 'false');\n",
       "        button.click(method_name, toolbar_event);\n",
       "        button.mouseover(tooltip, toolbar_mouse_event);\n",
       "\n",
       "        var icon_img = $('<span/>');\n",
       "        icon_img.addClass('ui-button-icon-primary ui-icon');\n",
       "        icon_img.addClass(image);\n",
       "        icon_img.addClass('ui-corner-all');\n",
       "\n",
       "        var tooltip_span = $('<span/>');\n",
       "        tooltip_span.addClass('ui-button-text');\n",
       "        tooltip_span.html(tooltip);\n",
       "\n",
       "        button.append(icon_img);\n",
       "        button.append(tooltip_span);\n",
       "\n",
       "        nav_element.append(button);\n",
       "    }\n",
       "\n",
       "    var fmt_picker_span = $('<span/>');\n",
       "\n",
       "    var fmt_picker = $('<select/>');\n",
       "    fmt_picker.addClass('mpl-toolbar-option ui-widget ui-widget-content');\n",
       "    fmt_picker_span.append(fmt_picker);\n",
       "    nav_element.append(fmt_picker_span);\n",
       "    this.format_dropdown = fmt_picker[0];\n",
       "\n",
       "    for (var ind in mpl.extensions) {\n",
       "        var fmt = mpl.extensions[ind];\n",
       "        var option = $(\n",
       "            '<option/>', {selected: fmt === mpl.default_extension}).html(fmt);\n",
       "        fmt_picker.append(option)\n",
       "    }\n",
       "\n",
       "    // Add hover states to the ui-buttons\n",
       "    $( \".ui-button\" ).hover(\n",
       "        function() { $(this).addClass(\"ui-state-hover\");},\n",
       "        function() { $(this).removeClass(\"ui-state-hover\");}\n",
       "    );\n",
       "\n",
       "    var status_bar = $('<span class=\"mpl-message\"/>');\n",
       "    nav_element.append(status_bar);\n",
       "    this.message = status_bar[0];\n",
       "}\n",
       "\n",
       "mpl.figure.prototype.request_resize = function(x_pixels, y_pixels) {\n",
       "    // Request matplotlib to resize the figure. Matplotlib will then trigger a resize in the client,\n",
       "    // which will in turn request a refresh of the image.\n",
       "    this.send_message('resize', {'width': x_pixels, 'height': y_pixels});\n",
       "}\n",
       "\n",
       "mpl.figure.prototype.send_message = function(type, properties) {\n",
       "    properties['type'] = type;\n",
       "    properties['figure_id'] = this.id;\n",
       "    this.ws.send(JSON.stringify(properties));\n",
       "}\n",
       "\n",
       "mpl.figure.prototype.send_draw_message = function() {\n",
       "    if (!this.waiting) {\n",
       "        this.waiting = true;\n",
       "        this.ws.send(JSON.stringify({type: \"draw\", figure_id: this.id}));\n",
       "    }\n",
       "}\n",
       "\n",
       "\n",
       "mpl.figure.prototype.handle_save = function(fig, msg) {\n",
       "    var format_dropdown = fig.format_dropdown;\n",
       "    var format = format_dropdown.options[format_dropdown.selectedIndex].value;\n",
       "    fig.ondownload(fig, format);\n",
       "}\n",
       "\n",
       "\n",
       "mpl.figure.prototype.handle_resize = function(fig, msg) {\n",
       "    var size = msg['size'];\n",
       "    if (size[0] != fig.canvas.width || size[1] != fig.canvas.height) {\n",
       "        fig._resize_canvas(size[0], size[1]);\n",
       "        fig.send_message(\"refresh\", {});\n",
       "    };\n",
       "}\n",
       "\n",
       "mpl.figure.prototype.handle_rubberband = function(fig, msg) {\n",
       "    var x0 = msg['x0'] / mpl.ratio;\n",
       "    var y0 = (fig.canvas.height - msg['y0']) / mpl.ratio;\n",
       "    var x1 = msg['x1'] / mpl.ratio;\n",
       "    var y1 = (fig.canvas.height - msg['y1']) / mpl.ratio;\n",
       "    x0 = Math.floor(x0) + 0.5;\n",
       "    y0 = Math.floor(y0) + 0.5;\n",
       "    x1 = Math.floor(x1) + 0.5;\n",
       "    y1 = Math.floor(y1) + 0.5;\n",
       "    var min_x = Math.min(x0, x1);\n",
       "    var min_y = Math.min(y0, y1);\n",
       "    var width = Math.abs(x1 - x0);\n",
       "    var height = Math.abs(y1 - y0);\n",
       "\n",
       "    fig.rubberband_context.clearRect(\n",
       "        0, 0, fig.canvas.width, fig.canvas.height);\n",
       "\n",
       "    fig.rubberband_context.strokeRect(min_x, min_y, width, height);\n",
       "}\n",
       "\n",
       "mpl.figure.prototype.handle_figure_label = function(fig, msg) {\n",
       "    // Updates the figure title.\n",
       "    fig.header.textContent = msg['label'];\n",
       "}\n",
       "\n",
       "mpl.figure.prototype.handle_cursor = function(fig, msg) {\n",
       "    var cursor = msg['cursor'];\n",
       "    switch(cursor)\n",
       "    {\n",
       "    case 0:\n",
       "        cursor = 'pointer';\n",
       "        break;\n",
       "    case 1:\n",
       "        cursor = 'default';\n",
       "        break;\n",
       "    case 2:\n",
       "        cursor = 'crosshair';\n",
       "        break;\n",
       "    case 3:\n",
       "        cursor = 'move';\n",
       "        break;\n",
       "    }\n",
       "    fig.rubberband_canvas.style.cursor = cursor;\n",
       "}\n",
       "\n",
       "mpl.figure.prototype.handle_message = function(fig, msg) {\n",
       "    fig.message.textContent = msg['message'];\n",
       "}\n",
       "\n",
       "mpl.figure.prototype.handle_draw = function(fig, msg) {\n",
       "    // Request the server to send over a new figure.\n",
       "    fig.send_draw_message();\n",
       "}\n",
       "\n",
       "mpl.figure.prototype.handle_image_mode = function(fig, msg) {\n",
       "    fig.image_mode = msg['mode'];\n",
       "}\n",
       "\n",
       "mpl.figure.prototype.updated_canvas_event = function() {\n",
       "    // Called whenever the canvas gets updated.\n",
       "    this.send_message(\"ack\", {});\n",
       "}\n",
       "\n",
       "// A function to construct a web socket function for onmessage handling.\n",
       "// Called in the figure constructor.\n",
       "mpl.figure.prototype._make_on_message_function = function(fig) {\n",
       "    return function socket_on_message(evt) {\n",
       "        if (evt.data instanceof Blob) {\n",
       "            /* FIXME: We get \"Resource interpreted as Image but\n",
       "             * transferred with MIME type text/plain:\" errors on\n",
       "             * Chrome.  But how to set the MIME type?  It doesn't seem\n",
       "             * to be part of the websocket stream */\n",
       "            evt.data.type = \"image/png\";\n",
       "\n",
       "            /* Free the memory for the previous frames */\n",
       "            if (fig.imageObj.src) {\n",
       "                (window.URL || window.webkitURL).revokeObjectURL(\n",
       "                    fig.imageObj.src);\n",
       "            }\n",
       "\n",
       "            fig.imageObj.src = (window.URL || window.webkitURL).createObjectURL(\n",
       "                evt.data);\n",
       "            fig.updated_canvas_event();\n",
       "            fig.waiting = false;\n",
       "            return;\n",
       "        }\n",
       "        else if (typeof evt.data === 'string' && evt.data.slice(0, 21) == \"data:image/png;base64\") {\n",
       "            fig.imageObj.src = evt.data;\n",
       "            fig.updated_canvas_event();\n",
       "            fig.waiting = false;\n",
       "            return;\n",
       "        }\n",
       "\n",
       "        var msg = JSON.parse(evt.data);\n",
       "        var msg_type = msg['type'];\n",
       "\n",
       "        // Call the  \"handle_{type}\" callback, which takes\n",
       "        // the figure and JSON message as its only arguments.\n",
       "        try {\n",
       "            var callback = fig[\"handle_\" + msg_type];\n",
       "        } catch (e) {\n",
       "            console.log(\"No handler for the '\" + msg_type + \"' message type: \", msg);\n",
       "            return;\n",
       "        }\n",
       "\n",
       "        if (callback) {\n",
       "            try {\n",
       "                // console.log(\"Handling '\" + msg_type + \"' message: \", msg);\n",
       "                callback(fig, msg);\n",
       "            } catch (e) {\n",
       "                console.log(\"Exception inside the 'handler_\" + msg_type + \"' callback:\", e, e.stack, msg);\n",
       "            }\n",
       "        }\n",
       "    };\n",
       "}\n",
       "\n",
       "// from http://stackoverflow.com/questions/1114465/getting-mouse-location-in-canvas\n",
       "mpl.findpos = function(e) {\n",
       "    //this section is from http://www.quirksmode.org/js/events_properties.html\n",
       "    var targ;\n",
       "    if (!e)\n",
       "        e = window.event;\n",
       "    if (e.target)\n",
       "        targ = e.target;\n",
       "    else if (e.srcElement)\n",
       "        targ = e.srcElement;\n",
       "    if (targ.nodeType == 3) // defeat Safari bug\n",
       "        targ = targ.parentNode;\n",
       "\n",
       "    // jQuery normalizes the pageX and pageY\n",
       "    // pageX,Y are the mouse positions relative to the document\n",
       "    // offset() returns the position of the element relative to the document\n",
       "    var x = e.pageX - $(targ).offset().left;\n",
       "    var y = e.pageY - $(targ).offset().top;\n",
       "\n",
       "    return {\"x\": x, \"y\": y};\n",
       "};\n",
       "\n",
       "/*\n",
       " * return a copy of an object with only non-object keys\n",
       " * we need this to avoid circular references\n",
       " * http://stackoverflow.com/a/24161582/3208463\n",
       " */\n",
       "function simpleKeys (original) {\n",
       "  return Object.keys(original).reduce(function (obj, key) {\n",
       "    if (typeof original[key] !== 'object')\n",
       "        obj[key] = original[key]\n",
       "    return obj;\n",
       "  }, {});\n",
       "}\n",
       "\n",
       "mpl.figure.prototype.mouse_event = function(event, name) {\n",
       "    var canvas_pos = mpl.findpos(event)\n",
       "\n",
       "    if (name === 'button_press')\n",
       "    {\n",
       "        this.canvas.focus();\n",
       "        this.canvas_div.focus();\n",
       "    }\n",
       "\n",
       "    var x = canvas_pos.x * mpl.ratio;\n",
       "    var y = canvas_pos.y * mpl.ratio;\n",
       "\n",
       "    this.send_message(name, {x: x, y: y, button: event.button,\n",
       "                             step: event.step,\n",
       "                             guiEvent: simpleKeys(event)});\n",
       "\n",
       "    /* This prevents the web browser from automatically changing to\n",
       "     * the text insertion cursor when the button is pressed.  We want\n",
       "     * to control all of the cursor setting manually through the\n",
       "     * 'cursor' event from matplotlib */\n",
       "    event.preventDefault();\n",
       "    return false;\n",
       "}\n",
       "\n",
       "mpl.figure.prototype._key_event_extra = function(event, name) {\n",
       "    // Handle any extra behaviour associated with a key event\n",
       "}\n",
       "\n",
       "mpl.figure.prototype.key_event = function(event, name) {\n",
       "\n",
       "    // Prevent repeat events\n",
       "    if (name == 'key_press')\n",
       "    {\n",
       "        if (event.which === this._key)\n",
       "            return;\n",
       "        else\n",
       "            this._key = event.which;\n",
       "    }\n",
       "    if (name == 'key_release')\n",
       "        this._key = null;\n",
       "\n",
       "    var value = '';\n",
       "    if (event.ctrlKey && event.which != 17)\n",
       "        value += \"ctrl+\";\n",
       "    if (event.altKey && event.which != 18)\n",
       "        value += \"alt+\";\n",
       "    if (event.shiftKey && event.which != 16)\n",
       "        value += \"shift+\";\n",
       "\n",
       "    value += 'k';\n",
       "    value += event.which.toString();\n",
       "\n",
       "    this._key_event_extra(event, name);\n",
       "\n",
       "    this.send_message(name, {key: value,\n",
       "                             guiEvent: simpleKeys(event)});\n",
       "    return false;\n",
       "}\n",
       "\n",
       "mpl.figure.prototype.toolbar_button_onclick = function(name) {\n",
       "    if (name == 'download') {\n",
       "        this.handle_save(this, null);\n",
       "    } else {\n",
       "        this.send_message(\"toolbar_button\", {name: name});\n",
       "    }\n",
       "};\n",
       "\n",
       "mpl.figure.prototype.toolbar_button_onmouseover = function(tooltip) {\n",
       "    this.message.textContent = tooltip;\n",
       "};\n",
       "mpl.toolbar_items = [[\"Home\", \"Reset original view\", \"fa fa-home icon-home\", \"home\"], [\"Back\", \"Back to  previous view\", \"fa fa-arrow-left icon-arrow-left\", \"back\"], [\"Forward\", \"Forward to next view\", \"fa fa-arrow-right icon-arrow-right\", \"forward\"], [\"\", \"\", \"\", \"\"], [\"Pan\", \"Pan axes with left mouse, zoom with right\", \"fa fa-arrows icon-move\", \"pan\"], [\"Zoom\", \"Zoom to rectangle\", \"fa fa-square-o icon-check-empty\", \"zoom\"], [\"\", \"\", \"\", \"\"], [\"Download\", \"Download plot\", \"fa fa-floppy-o icon-save\", \"download\"]];\n",
       "\n",
       "mpl.extensions = [\"eps\", \"jpeg\", \"pdf\", \"png\", \"ps\", \"raw\", \"svg\", \"tif\"];\n",
       "\n",
       "mpl.default_extension = \"png\";var comm_websocket_adapter = function(comm) {\n",
       "    // Create a \"websocket\"-like object which calls the given IPython comm\n",
       "    // object with the appropriate methods. Currently this is a non binary\n",
       "    // socket, so there is still some room for performance tuning.\n",
       "    var ws = {};\n",
       "\n",
       "    ws.close = function() {\n",
       "        comm.close()\n",
       "    };\n",
       "    ws.send = function(m) {\n",
       "        //console.log('sending', m);\n",
       "        comm.send(m);\n",
       "    };\n",
       "    // Register the callback with on_msg.\n",
       "    comm.on_msg(function(msg) {\n",
       "        //console.log('receiving', msg['content']['data'], msg);\n",
       "        // Pass the mpl event to the overriden (by mpl) onmessage function.\n",
       "        ws.onmessage(msg['content']['data'])\n",
       "    });\n",
       "    return ws;\n",
       "}\n",
       "\n",
       "mpl.mpl_figure_comm = function(comm, msg) {\n",
       "    // This is the function which gets called when the mpl process\n",
       "    // starts-up an IPython Comm through the \"matplotlib\" channel.\n",
       "\n",
       "    var id = msg.content.data.id;\n",
       "    // Get hold of the div created by the display call when the Comm\n",
       "    // socket was opened in Python.\n",
       "    var element = $(\"#\" + id);\n",
       "    var ws_proxy = comm_websocket_adapter(comm)\n",
       "\n",
       "    function ondownload(figure, format) {\n",
       "        window.open(figure.imageObj.src);\n",
       "    }\n",
       "\n",
       "    var fig = new mpl.figure(id, ws_proxy,\n",
       "                           ondownload,\n",
       "                           element.get(0));\n",
       "\n",
       "    // Call onopen now - mpl needs it, as it is assuming we've passed it a real\n",
       "    // web socket which is closed, not our websocket->open comm proxy.\n",
       "    ws_proxy.onopen();\n",
       "\n",
       "    fig.parent_element = element.get(0);\n",
       "    fig.cell_info = mpl.find_output_cell(\"<div id='\" + id + \"'></div>\");\n",
       "    if (!fig.cell_info) {\n",
       "        console.error(\"Failed to find cell for figure\", id, fig);\n",
       "        return;\n",
       "    }\n",
       "\n",
       "    var output_index = fig.cell_info[2]\n",
       "    var cell = fig.cell_info[0];\n",
       "\n",
       "};\n",
       "\n",
       "mpl.figure.prototype.handle_close = function(fig, msg) {\n",
       "    var width = fig.canvas.width/mpl.ratio\n",
       "    fig.root.unbind('remove')\n",
       "\n",
       "    // Update the output cell to use the data from the current canvas.\n",
       "    fig.push_to_output();\n",
       "    var dataURL = fig.canvas.toDataURL();\n",
       "    // Re-enable the keyboard manager in IPython - without this line, in FF,\n",
       "    // the notebook keyboard shortcuts fail.\n",
       "    IPython.keyboard_manager.enable()\n",
       "    $(fig.parent_element).html('<img src=\"' + dataURL + '\" width=\"' + width + '\">');\n",
       "    fig.close_ws(fig, msg);\n",
       "}\n",
       "\n",
       "mpl.figure.prototype.close_ws = function(fig, msg){\n",
       "    fig.send_message('closing', msg);\n",
       "    // fig.ws.close()\n",
       "}\n",
       "\n",
       "mpl.figure.prototype.push_to_output = function(remove_interactive) {\n",
       "    // Turn the data on the canvas into data in the output cell.\n",
       "    var width = this.canvas.width/mpl.ratio\n",
       "    var dataURL = this.canvas.toDataURL();\n",
       "    this.cell_info[1]['text/html'] = '<img src=\"' + dataURL + '\" width=\"' + width + '\">';\n",
       "}\n",
       "\n",
       "mpl.figure.prototype.updated_canvas_event = function() {\n",
       "    // Tell IPython that the notebook contents must change.\n",
       "    IPython.notebook.set_dirty(true);\n",
       "    this.send_message(\"ack\", {});\n",
       "    var fig = this;\n",
       "    // Wait a second, then push the new image to the DOM so\n",
       "    // that it is saved nicely (might be nice to debounce this).\n",
       "    setTimeout(function () { fig.push_to_output() }, 1000);\n",
       "}\n",
       "\n",
       "mpl.figure.prototype._init_toolbar = function() {\n",
       "    var fig = this;\n",
       "\n",
       "    var nav_element = $('<div/>')\n",
       "    nav_element.attr('style', 'width: 100%');\n",
       "    this.root.append(nav_element);\n",
       "\n",
       "    // Define a callback function for later on.\n",
       "    function toolbar_event(event) {\n",
       "        return fig.toolbar_button_onclick(event['data']);\n",
       "    }\n",
       "    function toolbar_mouse_event(event) {\n",
       "        return fig.toolbar_button_onmouseover(event['data']);\n",
       "    }\n",
       "\n",
       "    for(var toolbar_ind in mpl.toolbar_items){\n",
       "        var name = mpl.toolbar_items[toolbar_ind][0];\n",
       "        var tooltip = mpl.toolbar_items[toolbar_ind][1];\n",
       "        var image = mpl.toolbar_items[toolbar_ind][2];\n",
       "        var method_name = mpl.toolbar_items[toolbar_ind][3];\n",
       "\n",
       "        if (!name) { continue; };\n",
       "\n",
       "        var button = $('<button class=\"btn btn-default\" href=\"#\" title=\"' + name + '\"><i class=\"fa ' + image + ' fa-lg\"></i></button>');\n",
       "        button.click(method_name, toolbar_event);\n",
       "        button.mouseover(tooltip, toolbar_mouse_event);\n",
       "        nav_element.append(button);\n",
       "    }\n",
       "\n",
       "    // Add the status bar.\n",
       "    var status_bar = $('<span class=\"mpl-message\" style=\"text-align:right; float: right;\"/>');\n",
       "    nav_element.append(status_bar);\n",
       "    this.message = status_bar[0];\n",
       "\n",
       "    // Add the close button to the window.\n",
       "    var buttongrp = $('<div class=\"btn-group inline pull-right\"></div>');\n",
       "    var button = $('<button class=\"btn btn-mini btn-primary\" href=\"#\" title=\"Stop Interaction\"><i class=\"fa fa-power-off icon-remove icon-large\"></i></button>');\n",
       "    button.click(function (evt) { fig.handle_close(fig, {}); } );\n",
       "    button.mouseover('Stop Interaction', toolbar_mouse_event);\n",
       "    buttongrp.append(button);\n",
       "    var titlebar = this.root.find($('.ui-dialog-titlebar'));\n",
       "    titlebar.prepend(buttongrp);\n",
       "}\n",
       "\n",
       "mpl.figure.prototype._root_extra_style = function(el){\n",
       "    var fig = this\n",
       "    el.on(\"remove\", function(){\n",
       "\tfig.close_ws(fig, {});\n",
       "    });\n",
       "}\n",
       "\n",
       "mpl.figure.prototype._canvas_extra_style = function(el){\n",
       "    // this is important to make the div 'focusable\n",
       "    el.attr('tabindex', 0)\n",
       "    // reach out to IPython and tell the keyboard manager to turn it's self\n",
       "    // off when our div gets focus\n",
       "\n",
       "    // location in version 3\n",
       "    if (IPython.notebook.keyboard_manager) {\n",
       "        IPython.notebook.keyboard_manager.register_events(el);\n",
       "    }\n",
       "    else {\n",
       "        // location in version 2\n",
       "        IPython.keyboard_manager.register_events(el);\n",
       "    }\n",
       "\n",
       "}\n",
       "\n",
       "mpl.figure.prototype._key_event_extra = function(event, name) {\n",
       "    var manager = IPython.notebook.keyboard_manager;\n",
       "    if (!manager)\n",
       "        manager = IPython.keyboard_manager;\n",
       "\n",
       "    // Check for shift+enter\n",
       "    if (event.shiftKey && event.which == 13) {\n",
       "        this.canvas_div.blur();\n",
       "        event.shiftKey = false;\n",
       "        // Send a \"J\" for go to next cell\n",
       "        event.which = 74;\n",
       "        event.keyCode = 74;\n",
       "        manager.command_mode();\n",
       "        manager.handle_keydown(event);\n",
       "    }\n",
       "}\n",
       "\n",
       "mpl.figure.prototype.handle_save = function(fig, msg) {\n",
       "    fig.ondownload(fig, null);\n",
       "}\n",
       "\n",
       "\n",
       "mpl.find_output_cell = function(html_output) {\n",
       "    // Return the cell and output element which can be found *uniquely* in the notebook.\n",
       "    // Note - this is a bit hacky, but it is done because the \"notebook_saving.Notebook\"\n",
       "    // IPython event is triggered only after the cells have been serialised, which for\n",
       "    // our purposes (turning an active figure into a static one), is too late.\n",
       "    var cells = IPython.notebook.get_cells();\n",
       "    var ncells = cells.length;\n",
       "    for (var i=0; i<ncells; i++) {\n",
       "        var cell = cells[i];\n",
       "        if (cell.cell_type === 'code'){\n",
       "            for (var j=0; j<cell.output_area.outputs.length; j++) {\n",
       "                var data = cell.output_area.outputs[j];\n",
       "                if (data.data) {\n",
       "                    // IPython >= 3 moved mimebundle to data attribute of output\n",
       "                    data = data.data;\n",
       "                }\n",
       "                if (data['text/html'] == html_output) {\n",
       "                    return [cell, data, j];\n",
       "                }\n",
       "            }\n",
       "        }\n",
       "    }\n",
       "}\n",
       "\n",
       "// Register the function which deals with the matplotlib target/channel.\n",
       "// The kernel may be null if the page has been refreshed.\n",
       "if (IPython.notebook.kernel != null) {\n",
       "    IPython.notebook.kernel.comm_manager.register_target('matplotlib', mpl.mpl_figure_comm);\n",
       "}\n"
      ],
      "text/plain": [
       "<IPython.core.display.Javascript object>"
      ]
     },
     "metadata": {},
     "output_type": "display_data"
    },
    {
     "data": {
      "text/html": [
       "<img src=\"data:image/png;base64,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\" width=\"640\">"
      ],
      "text/plain": [
       "<IPython.core.display.HTML object>"
      ]
     },
     "metadata": {},
     "output_type": "display_data"
    },
    {
     "data": {
      "text/plain": [
       "[<matplotlib.lines.Line2D at 0x8873d30>]"
      ]
     },
     "execution_count": 7,
     "metadata": {},
     "output_type": "execute_result"
    }
   ],
   "source": [
    "plt.plot(theta, c, lw = 2.5, label= r'cos($\\theta$)')\n",
    "plt.plot(theta, s, label= r'sin($\\theta$)')"
   ]
  },
  {
   "cell_type": "code",
   "execution_count": 11,
   "metadata": {},
   "outputs": [
    {
     "data": {
      "text/plain": [
       "(-3.141592653589793, 3.141592653589793)"
      ]
     },
     "execution_count": 11,
     "metadata": {},
     "output_type": "execute_result"
    }
   ],
   "source": [
    "plt.xlim(-np.pi,np.pi)    # set the x limit. Same with the xrange keyward in IDL plot processor"
   ]
  },
  {
   "cell_type": "code",
   "execution_count": 8,
   "metadata": {},
   "outputs": [
    {
     "data": {
      "text/plain": [
       "(-1, 1)"
      ]
     },
     "execution_count": 8,
     "metadata": {},
     "output_type": "execute_result"
    }
   ],
   "source": [
    "plt.ylim(-1,1)"
   ]
  },
  {
   "cell_type": "code",
   "execution_count": 9,
   "metadata": {
    "slideshow": {
     "slide_type": "notes"
    }
   },
   "outputs": [
    {
     "data": {
      "text/plain": [
       "<matplotlib.legend.Legend at 0x8baa8d0>"
      ]
     },
     "execution_count": 9,
     "metadata": {},
     "output_type": "execute_result"
    }
   ],
   "source": [
    "plt.title('Trigonometric Function')\n",
    "plt.xlabel(r'$\\theta$')\n",
    "plt.ylabel('y', fontsize=12)\n",
    "plt.legend()            # Insert the legendary box, and automatically locate the appropriate postion if there is now keyward."
   ]
  },
  {
   "cell_type": "code",
   "execution_count": 40,
   "metadata": {},
   "outputs": [
    {
     "data": {
      "text/plain": [
       "<matplotlib.legend.Legend at 0xe6da63d668>"
      ]
     },
     "execution_count": 40,
     "metadata": {},
     "output_type": "execute_result"
    }
   ],
   "source": [
    "plt.legend(loc=1)"
   ]
  },
  {
   "cell_type": "code",
   "execution_count": null,
   "metadata": {
    "collapsed": true
   },
   "outputs": [],
   "source": [
    "plt.tight_layout()"
   ]
  },
  {
   "cell_type": "code",
   "execution_count": null,
   "metadata": {
    "collapsed": true
   },
   "outputs": [],
   "source": [
    "plt.savefig(r'D:\\Juhyeong\\fisspy-tutorials\\tutorials\\tri_fun.png')"
   ]
  },
  {
   "cell_type": "code",
   "execution_count": null,
   "metadata": {
    "collapsed": true
   },
   "outputs": [],
   "source": [
    "plt.savefig(r'D:\\Juhyeong\\fisspy-tutorials\\tutorials\\tri_fun.png')"
   ]
  },
  {
   "cell_type": "markdown",
   "metadata": {},
   "source": [
    "Let's check the plot keywards."
   ]
  },
  {
   "cell_type": "code",
   "execution_count": 25,
   "metadata": {
    "collapsed": true,
    "scrolled": true
   },
   "outputs": [],
   "source": [
    "plt.plot?"
   ]
  },
  {
   "cell_type": "markdown",
   "metadata": {},
   "source": [
    "**Exercise 5) Plot the tan function in red dashed line in $\\theta$ range from $-\\frac{2\\pi}{5}$ to $\\frac{2\\pi}{5}$, and insert the legendary.**"
   ]
  },
  {
   "cell_type": "code",
   "execution_count": null,
   "metadata": {
    "collapsed": true,
    "slideshow": {
     "slide_type": "-"
    }
   },
   "outputs": [],
   "source": []
  },
  {
   "cell_type": "markdown",
   "metadata": {},
   "source": [
    "## 3.2. Subplots"
   ]
  },
  {
   "cell_type": "markdown",
   "metadata": {},
   "source": [
    "Before we start this section, we change the plot setting. First we change the tick direction."
   ]
  },
  {
   "cell_type": "code",
   "execution_count": 332,
   "metadata": {
    "collapsed": true
   },
   "outputs": [],
   "source": [
    "plt.rc('xtick', direction='in')\n",
    "plt.rc('ytick', direction='in')\n",
    "plt.rc('xtick.minor',visible=True)\n",
    "plt.rc('ytick.minor',visible=True)"
   ]
  },
  {
   "cell_type": "code",
   "execution_count": 359,
   "metadata": {
    "scrolled": false
   },
   "outputs": [
    {
     "data": {
      "application/javascript": [
       "/* Put everything inside the global mpl namespace */\n",
       "window.mpl = {};\n",
       "\n",
       "\n",
       "mpl.get_websocket_type = function() {\n",
       "    if (typeof(WebSocket) !== 'undefined') {\n",
       "        return WebSocket;\n",
       "    } else if (typeof(MozWebSocket) !== 'undefined') {\n",
       "        return MozWebSocket;\n",
       "    } else {\n",
       "        alert('Your browser does not have WebSocket support.' +\n",
       "              'Please try Chrome, Safari or Firefox ≥ 6. ' +\n",
       "              'Firefox 4 and 5 are also supported but you ' +\n",
       "              'have to enable WebSockets in about:config.');\n",
       "    };\n",
       "}\n",
       "\n",
       "mpl.figure = function(figure_id, websocket, ondownload, parent_element) {\n",
       "    this.id = figure_id;\n",
       "\n",
       "    this.ws = websocket;\n",
       "\n",
       "    this.supports_binary = (this.ws.binaryType != undefined);\n",
       "\n",
       "    if (!this.supports_binary) {\n",
       "        var warnings = document.getElementById(\"mpl-warnings\");\n",
       "        if (warnings) {\n",
       "            warnings.style.display = 'block';\n",
       "            warnings.textContent = (\n",
       "                \"This browser does not support binary websocket messages. \" +\n",
       "                    \"Performance may be slow.\");\n",
       "        }\n",
       "    }\n",
       "\n",
       "    this.imageObj = new Image();\n",
       "\n",
       "    this.context = undefined;\n",
       "    this.message = undefined;\n",
       "    this.canvas = undefined;\n",
       "    this.rubberband_canvas = undefined;\n",
       "    this.rubberband_context = undefined;\n",
       "    this.format_dropdown = undefined;\n",
       "\n",
       "    this.image_mode = 'full';\n",
       "\n",
       "    this.root = $('<div/>');\n",
       "    this._root_extra_style(this.root)\n",
       "    this.root.attr('style', 'display: inline-block');\n",
       "\n",
       "    $(parent_element).append(this.root);\n",
       "\n",
       "    this._init_header(this);\n",
       "    this._init_canvas(this);\n",
       "    this._init_toolbar(this);\n",
       "\n",
       "    var fig = this;\n",
       "\n",
       "    this.waiting = false;\n",
       "\n",
       "    this.ws.onopen =  function () {\n",
       "            fig.send_message(\"supports_binary\", {value: fig.supports_binary});\n",
       "            fig.send_message(\"send_image_mode\", {});\n",
       "            if (mpl.ratio != 1) {\n",
       "                fig.send_message(\"set_dpi_ratio\", {'dpi_ratio': mpl.ratio});\n",
       "            }\n",
       "            fig.send_message(\"refresh\", {});\n",
       "        }\n",
       "\n",
       "    this.imageObj.onload = function() {\n",
       "            if (fig.image_mode == 'full') {\n",
       "                // Full images could contain transparency (where diff images\n",
       "                // almost always do), so we need to clear the canvas so that\n",
       "                // there is no ghosting.\n",
       "                fig.context.clearRect(0, 0, fig.canvas.width, fig.canvas.height);\n",
       "            }\n",
       "            fig.context.drawImage(fig.imageObj, 0, 0);\n",
       "        };\n",
       "\n",
       "    this.imageObj.onunload = function() {\n",
       "        fig.ws.close();\n",
       "    }\n",
       "\n",
       "    this.ws.onmessage = this._make_on_message_function(this);\n",
       "\n",
       "    this.ondownload = ondownload;\n",
       "}\n",
       "\n",
       "mpl.figure.prototype._init_header = function() {\n",
       "    var titlebar = $(\n",
       "        '<div class=\"ui-dialog-titlebar ui-widget-header ui-corner-all ' +\n",
       "        'ui-helper-clearfix\"/>');\n",
       "    var titletext = $(\n",
       "        '<div class=\"ui-dialog-title\" style=\"width: 100%; ' +\n",
       "        'text-align: center; padding: 3px;\"/>');\n",
       "    titlebar.append(titletext)\n",
       "    this.root.append(titlebar);\n",
       "    this.header = titletext[0];\n",
       "}\n",
       "\n",
       "\n",
       "\n",
       "mpl.figure.prototype._canvas_extra_style = function(canvas_div) {\n",
       "\n",
       "}\n",
       "\n",
       "\n",
       "mpl.figure.prototype._root_extra_style = function(canvas_div) {\n",
       "\n",
       "}\n",
       "\n",
       "mpl.figure.prototype._init_canvas = function() {\n",
       "    var fig = this;\n",
       "\n",
       "    var canvas_div = $('<div/>');\n",
       "\n",
       "    canvas_div.attr('style', 'position: relative; clear: both; outline: 0');\n",
       "\n",
       "    function canvas_keyboard_event(event) {\n",
       "        return fig.key_event(event, event['data']);\n",
       "    }\n",
       "\n",
       "    canvas_div.keydown('key_press', canvas_keyboard_event);\n",
       "    canvas_div.keyup('key_release', canvas_keyboard_event);\n",
       "    this.canvas_div = canvas_div\n",
       "    this._canvas_extra_style(canvas_div)\n",
       "    this.root.append(canvas_div);\n",
       "\n",
       "    var canvas = $('<canvas/>');\n",
       "    canvas.addClass('mpl-canvas');\n",
       "    canvas.attr('style', \"left: 0; top: 0; z-index: 0; outline: 0\")\n",
       "\n",
       "    this.canvas = canvas[0];\n",
       "    this.context = canvas[0].getContext(\"2d\");\n",
       "\n",
       "    var backingStore = this.context.backingStorePixelRatio ||\n",
       "\tthis.context.webkitBackingStorePixelRatio ||\n",
       "\tthis.context.mozBackingStorePixelRatio ||\n",
       "\tthis.context.msBackingStorePixelRatio ||\n",
       "\tthis.context.oBackingStorePixelRatio ||\n",
       "\tthis.context.backingStorePixelRatio || 1;\n",
       "\n",
       "    mpl.ratio = (window.devicePixelRatio || 1) / backingStore;\n",
       "\n",
       "    var rubberband = $('<canvas/>');\n",
       "    rubberband.attr('style', \"position: absolute; left: 0; top: 0; z-index: 1;\")\n",
       "\n",
       "    var pass_mouse_events = true;\n",
       "\n",
       "    canvas_div.resizable({\n",
       "        start: function(event, ui) {\n",
       "            pass_mouse_events = false;\n",
       "        },\n",
       "        resize: function(event, ui) {\n",
       "            fig.request_resize(ui.size.width, ui.size.height);\n",
       "        },\n",
       "        stop: function(event, ui) {\n",
       "            pass_mouse_events = true;\n",
       "            fig.request_resize(ui.size.width, ui.size.height);\n",
       "        },\n",
       "    });\n",
       "\n",
       "    function mouse_event_fn(event) {\n",
       "        if (pass_mouse_events)\n",
       "            return fig.mouse_event(event, event['data']);\n",
       "    }\n",
       "\n",
       "    rubberband.mousedown('button_press', mouse_event_fn);\n",
       "    rubberband.mouseup('button_release', mouse_event_fn);\n",
       "    // Throttle sequential mouse events to 1 every 20ms.\n",
       "    rubberband.mousemove('motion_notify', mouse_event_fn);\n",
       "\n",
       "    rubberband.mouseenter('figure_enter', mouse_event_fn);\n",
       "    rubberband.mouseleave('figure_leave', mouse_event_fn);\n",
       "\n",
       "    canvas_div.on(\"wheel\", function (event) {\n",
       "        event = event.originalEvent;\n",
       "        event['data'] = 'scroll'\n",
       "        if (event.deltaY < 0) {\n",
       "            event.step = 1;\n",
       "        } else {\n",
       "            event.step = -1;\n",
       "        }\n",
       "        mouse_event_fn(event);\n",
       "    });\n",
       "\n",
       "    canvas_div.append(canvas);\n",
       "    canvas_div.append(rubberband);\n",
       "\n",
       "    this.rubberband = rubberband;\n",
       "    this.rubberband_canvas = rubberband[0];\n",
       "    this.rubberband_context = rubberband[0].getContext(\"2d\");\n",
       "    this.rubberband_context.strokeStyle = \"#000000\";\n",
       "\n",
       "    this._resize_canvas = function(width, height) {\n",
       "        // Keep the size of the canvas, canvas container, and rubber band\n",
       "        // canvas in synch.\n",
       "        canvas_div.css('width', width)\n",
       "        canvas_div.css('height', height)\n",
       "\n",
       "        canvas.attr('width', width * mpl.ratio);\n",
       "        canvas.attr('height', height * mpl.ratio);\n",
       "        canvas.attr('style', 'width: ' + width + 'px; height: ' + height + 'px;');\n",
       "\n",
       "        rubberband.attr('width', width);\n",
       "        rubberband.attr('height', height);\n",
       "    }\n",
       "\n",
       "    // Set the figure to an initial 600x600px, this will subsequently be updated\n",
       "    // upon first draw.\n",
       "    this._resize_canvas(600, 600);\n",
       "\n",
       "    // Disable right mouse context menu.\n",
       "    $(this.rubberband_canvas).bind(\"contextmenu\",function(e){\n",
       "        return false;\n",
       "    });\n",
       "\n",
       "    function set_focus () {\n",
       "        canvas.focus();\n",
       "        canvas_div.focus();\n",
       "    }\n",
       "\n",
       "    window.setTimeout(set_focus, 100);\n",
       "}\n",
       "\n",
       "mpl.figure.prototype._init_toolbar = function() {\n",
       "    var fig = this;\n",
       "\n",
       "    var nav_element = $('<div/>')\n",
       "    nav_element.attr('style', 'width: 100%');\n",
       "    this.root.append(nav_element);\n",
       "\n",
       "    // Define a callback function for later on.\n",
       "    function toolbar_event(event) {\n",
       "        return fig.toolbar_button_onclick(event['data']);\n",
       "    }\n",
       "    function toolbar_mouse_event(event) {\n",
       "        return fig.toolbar_button_onmouseover(event['data']);\n",
       "    }\n",
       "\n",
       "    for(var toolbar_ind in mpl.toolbar_items) {\n",
       "        var name = mpl.toolbar_items[toolbar_ind][0];\n",
       "        var tooltip = mpl.toolbar_items[toolbar_ind][1];\n",
       "        var image = mpl.toolbar_items[toolbar_ind][2];\n",
       "        var method_name = mpl.toolbar_items[toolbar_ind][3];\n",
       "\n",
       "        if (!name) {\n",
       "            // put a spacer in here.\n",
       "            continue;\n",
       "        }\n",
       "        var button = $('<button/>');\n",
       "        button.addClass('ui-button ui-widget ui-state-default ui-corner-all ' +\n",
       "                        'ui-button-icon-only');\n",
       "        button.attr('role', 'button');\n",
       "        button.attr('aria-disabled', 'false');\n",
       "        button.click(method_name, toolbar_event);\n",
       "        button.mouseover(tooltip, toolbar_mouse_event);\n",
       "\n",
       "        var icon_img = $('<span/>');\n",
       "        icon_img.addClass('ui-button-icon-primary ui-icon');\n",
       "        icon_img.addClass(image);\n",
       "        icon_img.addClass('ui-corner-all');\n",
       "\n",
       "        var tooltip_span = $('<span/>');\n",
       "        tooltip_span.addClass('ui-button-text');\n",
       "        tooltip_span.html(tooltip);\n",
       "\n",
       "        button.append(icon_img);\n",
       "        button.append(tooltip_span);\n",
       "\n",
       "        nav_element.append(button);\n",
       "    }\n",
       "\n",
       "    var fmt_picker_span = $('<span/>');\n",
       "\n",
       "    var fmt_picker = $('<select/>');\n",
       "    fmt_picker.addClass('mpl-toolbar-option ui-widget ui-widget-content');\n",
       "    fmt_picker_span.append(fmt_picker);\n",
       "    nav_element.append(fmt_picker_span);\n",
       "    this.format_dropdown = fmt_picker[0];\n",
       "\n",
       "    for (var ind in mpl.extensions) {\n",
       "        var fmt = mpl.extensions[ind];\n",
       "        var option = $(\n",
       "            '<option/>', {selected: fmt === mpl.default_extension}).html(fmt);\n",
       "        fmt_picker.append(option)\n",
       "    }\n",
       "\n",
       "    // Add hover states to the ui-buttons\n",
       "    $( \".ui-button\" ).hover(\n",
       "        function() { $(this).addClass(\"ui-state-hover\");},\n",
       "        function() { $(this).removeClass(\"ui-state-hover\");}\n",
       "    );\n",
       "\n",
       "    var status_bar = $('<span class=\"mpl-message\"/>');\n",
       "    nav_element.append(status_bar);\n",
       "    this.message = status_bar[0];\n",
       "}\n",
       "\n",
       "mpl.figure.prototype.request_resize = function(x_pixels, y_pixels) {\n",
       "    // Request matplotlib to resize the figure. Matplotlib will then trigger a resize in the client,\n",
       "    // which will in turn request a refresh of the image.\n",
       "    this.send_message('resize', {'width': x_pixels, 'height': y_pixels});\n",
       "}\n",
       "\n",
       "mpl.figure.prototype.send_message = function(type, properties) {\n",
       "    properties['type'] = type;\n",
       "    properties['figure_id'] = this.id;\n",
       "    this.ws.send(JSON.stringify(properties));\n",
       "}\n",
       "\n",
       "mpl.figure.prototype.send_draw_message = function() {\n",
       "    if (!this.waiting) {\n",
       "        this.waiting = true;\n",
       "        this.ws.send(JSON.stringify({type: \"draw\", figure_id: this.id}));\n",
       "    }\n",
       "}\n",
       "\n",
       "\n",
       "mpl.figure.prototype.handle_save = function(fig, msg) {\n",
       "    var format_dropdown = fig.format_dropdown;\n",
       "    var format = format_dropdown.options[format_dropdown.selectedIndex].value;\n",
       "    fig.ondownload(fig, format);\n",
       "}\n",
       "\n",
       "\n",
       "mpl.figure.prototype.handle_resize = function(fig, msg) {\n",
       "    var size = msg['size'];\n",
       "    if (size[0] != fig.canvas.width || size[1] != fig.canvas.height) {\n",
       "        fig._resize_canvas(size[0], size[1]);\n",
       "        fig.send_message(\"refresh\", {});\n",
       "    };\n",
       "}\n",
       "\n",
       "mpl.figure.prototype.handle_rubberband = function(fig, msg) {\n",
       "    var x0 = msg['x0'] / mpl.ratio;\n",
       "    var y0 = (fig.canvas.height - msg['y0']) / mpl.ratio;\n",
       "    var x1 = msg['x1'] / mpl.ratio;\n",
       "    var y1 = (fig.canvas.height - msg['y1']) / mpl.ratio;\n",
       "    x0 = Math.floor(x0) + 0.5;\n",
       "    y0 = Math.floor(y0) + 0.5;\n",
       "    x1 = Math.floor(x1) + 0.5;\n",
       "    y1 = Math.floor(y1) + 0.5;\n",
       "    var min_x = Math.min(x0, x1);\n",
       "    var min_y = Math.min(y0, y1);\n",
       "    var width = Math.abs(x1 - x0);\n",
       "    var height = Math.abs(y1 - y0);\n",
       "\n",
       "    fig.rubberband_context.clearRect(\n",
       "        0, 0, fig.canvas.width, fig.canvas.height);\n",
       "\n",
       "    fig.rubberband_context.strokeRect(min_x, min_y, width, height);\n",
       "}\n",
       "\n",
       "mpl.figure.prototype.handle_figure_label = function(fig, msg) {\n",
       "    // Updates the figure title.\n",
       "    fig.header.textContent = msg['label'];\n",
       "}\n",
       "\n",
       "mpl.figure.prototype.handle_cursor = function(fig, msg) {\n",
       "    var cursor = msg['cursor'];\n",
       "    switch(cursor)\n",
       "    {\n",
       "    case 0:\n",
       "        cursor = 'pointer';\n",
       "        break;\n",
       "    case 1:\n",
       "        cursor = 'default';\n",
       "        break;\n",
       "    case 2:\n",
       "        cursor = 'crosshair';\n",
       "        break;\n",
       "    case 3:\n",
       "        cursor = 'move';\n",
       "        break;\n",
       "    }\n",
       "    fig.rubberband_canvas.style.cursor = cursor;\n",
       "}\n",
       "\n",
       "mpl.figure.prototype.handle_message = function(fig, msg) {\n",
       "    fig.message.textContent = msg['message'];\n",
       "}\n",
       "\n",
       "mpl.figure.prototype.handle_draw = function(fig, msg) {\n",
       "    // Request the server to send over a new figure.\n",
       "    fig.send_draw_message();\n",
       "}\n",
       "\n",
       "mpl.figure.prototype.handle_image_mode = function(fig, msg) {\n",
       "    fig.image_mode = msg['mode'];\n",
       "}\n",
       "\n",
       "mpl.figure.prototype.updated_canvas_event = function() {\n",
       "    // Called whenever the canvas gets updated.\n",
       "    this.send_message(\"ack\", {});\n",
       "}\n",
       "\n",
       "// A function to construct a web socket function for onmessage handling.\n",
       "// Called in the figure constructor.\n",
       "mpl.figure.prototype._make_on_message_function = function(fig) {\n",
       "    return function socket_on_message(evt) {\n",
       "        if (evt.data instanceof Blob) {\n",
       "            /* FIXME: We get \"Resource interpreted as Image but\n",
       "             * transferred with MIME type text/plain:\" errors on\n",
       "             * Chrome.  But how to set the MIME type?  It doesn't seem\n",
       "             * to be part of the websocket stream */\n",
       "            evt.data.type = \"image/png\";\n",
       "\n",
       "            /* Free the memory for the previous frames */\n",
       "            if (fig.imageObj.src) {\n",
       "                (window.URL || window.webkitURL).revokeObjectURL(\n",
       "                    fig.imageObj.src);\n",
       "            }\n",
       "\n",
       "            fig.imageObj.src = (window.URL || window.webkitURL).createObjectURL(\n",
       "                evt.data);\n",
       "            fig.updated_canvas_event();\n",
       "            fig.waiting = false;\n",
       "            return;\n",
       "        }\n",
       "        else if (typeof evt.data === 'string' && evt.data.slice(0, 21) == \"data:image/png;base64\") {\n",
       "            fig.imageObj.src = evt.data;\n",
       "            fig.updated_canvas_event();\n",
       "            fig.waiting = false;\n",
       "            return;\n",
       "        }\n",
       "\n",
       "        var msg = JSON.parse(evt.data);\n",
       "        var msg_type = msg['type'];\n",
       "\n",
       "        // Call the  \"handle_{type}\" callback, which takes\n",
       "        // the figure and JSON message as its only arguments.\n",
       "        try {\n",
       "            var callback = fig[\"handle_\" + msg_type];\n",
       "        } catch (e) {\n",
       "            console.log(\"No handler for the '\" + msg_type + \"' message type: \", msg);\n",
       "            return;\n",
       "        }\n",
       "\n",
       "        if (callback) {\n",
       "            try {\n",
       "                // console.log(\"Handling '\" + msg_type + \"' message: \", msg);\n",
       "                callback(fig, msg);\n",
       "            } catch (e) {\n",
       "                console.log(\"Exception inside the 'handler_\" + msg_type + \"' callback:\", e, e.stack, msg);\n",
       "            }\n",
       "        }\n",
       "    };\n",
       "}\n",
       "\n",
       "// from http://stackoverflow.com/questions/1114465/getting-mouse-location-in-canvas\n",
       "mpl.findpos = function(e) {\n",
       "    //this section is from http://www.quirksmode.org/js/events_properties.html\n",
       "    var targ;\n",
       "    if (!e)\n",
       "        e = window.event;\n",
       "    if (e.target)\n",
       "        targ = e.target;\n",
       "    else if (e.srcElement)\n",
       "        targ = e.srcElement;\n",
       "    if (targ.nodeType == 3) // defeat Safari bug\n",
       "        targ = targ.parentNode;\n",
       "\n",
       "    // jQuery normalizes the pageX and pageY\n",
       "    // pageX,Y are the mouse positions relative to the document\n",
       "    // offset() returns the position of the element relative to the document\n",
       "    var x = e.pageX - $(targ).offset().left;\n",
       "    var y = e.pageY - $(targ).offset().top;\n",
       "\n",
       "    return {\"x\": x, \"y\": y};\n",
       "};\n",
       "\n",
       "/*\n",
       " * return a copy of an object with only non-object keys\n",
       " * we need this to avoid circular references\n",
       " * http://stackoverflow.com/a/24161582/3208463\n",
       " */\n",
       "function simpleKeys (original) {\n",
       "  return Object.keys(original).reduce(function (obj, key) {\n",
       "    if (typeof original[key] !== 'object')\n",
       "        obj[key] = original[key]\n",
       "    return obj;\n",
       "  }, {});\n",
       "}\n",
       "\n",
       "mpl.figure.prototype.mouse_event = function(event, name) {\n",
       "    var canvas_pos = mpl.findpos(event)\n",
       "\n",
       "    if (name === 'button_press')\n",
       "    {\n",
       "        this.canvas.focus();\n",
       "        this.canvas_div.focus();\n",
       "    }\n",
       "\n",
       "    var x = canvas_pos.x * mpl.ratio;\n",
       "    var y = canvas_pos.y * mpl.ratio;\n",
       "\n",
       "    this.send_message(name, {x: x, y: y, button: event.button,\n",
       "                             step: event.step,\n",
       "                             guiEvent: simpleKeys(event)});\n",
       "\n",
       "    /* This prevents the web browser from automatically changing to\n",
       "     * the text insertion cursor when the button is pressed.  We want\n",
       "     * to control all of the cursor setting manually through the\n",
       "     * 'cursor' event from matplotlib */\n",
       "    event.preventDefault();\n",
       "    return false;\n",
       "}\n",
       "\n",
       "mpl.figure.prototype._key_event_extra = function(event, name) {\n",
       "    // Handle any extra behaviour associated with a key event\n",
       "}\n",
       "\n",
       "mpl.figure.prototype.key_event = function(event, name) {\n",
       "\n",
       "    // Prevent repeat events\n",
       "    if (name == 'key_press')\n",
       "    {\n",
       "        if (event.which === this._key)\n",
       "            return;\n",
       "        else\n",
       "            this._key = event.which;\n",
       "    }\n",
       "    if (name == 'key_release')\n",
       "        this._key = null;\n",
       "\n",
       "    var value = '';\n",
       "    if (event.ctrlKey && event.which != 17)\n",
       "        value += \"ctrl+\";\n",
       "    if (event.altKey && event.which != 18)\n",
       "        value += \"alt+\";\n",
       "    if (event.shiftKey && event.which != 16)\n",
       "        value += \"shift+\";\n",
       "\n",
       "    value += 'k';\n",
       "    value += event.which.toString();\n",
       "\n",
       "    this._key_event_extra(event, name);\n",
       "\n",
       "    this.send_message(name, {key: value,\n",
       "                             guiEvent: simpleKeys(event)});\n",
       "    return false;\n",
       "}\n",
       "\n",
       "mpl.figure.prototype.toolbar_button_onclick = function(name) {\n",
       "    if (name == 'download') {\n",
       "        this.handle_save(this, null);\n",
       "    } else {\n",
       "        this.send_message(\"toolbar_button\", {name: name});\n",
       "    }\n",
       "};\n",
       "\n",
       "mpl.figure.prototype.toolbar_button_onmouseover = function(tooltip) {\n",
       "    this.message.textContent = tooltip;\n",
       "};\n",
       "mpl.toolbar_items = [[\"Home\", \"Reset original view\", \"fa fa-home icon-home\", \"home\"], [\"Back\", \"Back to  previous view\", \"fa fa-arrow-left icon-arrow-left\", \"back\"], [\"Forward\", \"Forward to next view\", \"fa fa-arrow-right icon-arrow-right\", \"forward\"], [\"\", \"\", \"\", \"\"], [\"Pan\", \"Pan axes with left mouse, zoom with right\", \"fa fa-arrows icon-move\", \"pan\"], [\"Zoom\", \"Zoom to rectangle\", \"fa fa-square-o icon-check-empty\", \"zoom\"], [\"\", \"\", \"\", \"\"], [\"Download\", \"Download plot\", \"fa fa-floppy-o icon-save\", \"download\"]];\n",
       "\n",
       "mpl.extensions = [\"eps\", \"jpeg\", \"pdf\", \"png\", \"ps\", \"raw\", \"svg\", \"tif\"];\n",
       "\n",
       "mpl.default_extension = \"png\";var comm_websocket_adapter = function(comm) {\n",
       "    // Create a \"websocket\"-like object which calls the given IPython comm\n",
       "    // object with the appropriate methods. Currently this is a non binary\n",
       "    // socket, so there is still some room for performance tuning.\n",
       "    var ws = {};\n",
       "\n",
       "    ws.close = function() {\n",
       "        comm.close()\n",
       "    };\n",
       "    ws.send = function(m) {\n",
       "        //console.log('sending', m);\n",
       "        comm.send(m);\n",
       "    };\n",
       "    // Register the callback with on_msg.\n",
       "    comm.on_msg(function(msg) {\n",
       "        //console.log('receiving', msg['content']['data'], msg);\n",
       "        // Pass the mpl event to the overriden (by mpl) onmessage function.\n",
       "        ws.onmessage(msg['content']['data'])\n",
       "    });\n",
       "    return ws;\n",
       "}\n",
       "\n",
       "mpl.mpl_figure_comm = function(comm, msg) {\n",
       "    // This is the function which gets called when the mpl process\n",
       "    // starts-up an IPython Comm through the \"matplotlib\" channel.\n",
       "\n",
       "    var id = msg.content.data.id;\n",
       "    // Get hold of the div created by the display call when the Comm\n",
       "    // socket was opened in Python.\n",
       "    var element = $(\"#\" + id);\n",
       "    var ws_proxy = comm_websocket_adapter(comm)\n",
       "\n",
       "    function ondownload(figure, format) {\n",
       "        window.open(figure.imageObj.src);\n",
       "    }\n",
       "\n",
       "    var fig = new mpl.figure(id, ws_proxy,\n",
       "                           ondownload,\n",
       "                           element.get(0));\n",
       "\n",
       "    // Call onopen now - mpl needs it, as it is assuming we've passed it a real\n",
       "    // web socket which is closed, not our websocket->open comm proxy.\n",
       "    ws_proxy.onopen();\n",
       "\n",
       "    fig.parent_element = element.get(0);\n",
       "    fig.cell_info = mpl.find_output_cell(\"<div id='\" + id + \"'></div>\");\n",
       "    if (!fig.cell_info) {\n",
       "        console.error(\"Failed to find cell for figure\", id, fig);\n",
       "        return;\n",
       "    }\n",
       "\n",
       "    var output_index = fig.cell_info[2]\n",
       "    var cell = fig.cell_info[0];\n",
       "\n",
       "};\n",
       "\n",
       "mpl.figure.prototype.handle_close = function(fig, msg) {\n",
       "    var width = fig.canvas.width/mpl.ratio\n",
       "    fig.root.unbind('remove')\n",
       "\n",
       "    // Update the output cell to use the data from the current canvas.\n",
       "    fig.push_to_output();\n",
       "    var dataURL = fig.canvas.toDataURL();\n",
       "    // Re-enable the keyboard manager in IPython - without this line, in FF,\n",
       "    // the notebook keyboard shortcuts fail.\n",
       "    IPython.keyboard_manager.enable()\n",
       "    $(fig.parent_element).html('<img src=\"' + dataURL + '\" width=\"' + width + '\">');\n",
       "    fig.close_ws(fig, msg);\n",
       "}\n",
       "\n",
       "mpl.figure.prototype.close_ws = function(fig, msg){\n",
       "    fig.send_message('closing', msg);\n",
       "    // fig.ws.close()\n",
       "}\n",
       "\n",
       "mpl.figure.prototype.push_to_output = function(remove_interactive) {\n",
       "    // Turn the data on the canvas into data in the output cell.\n",
       "    var width = this.canvas.width/mpl.ratio\n",
       "    var dataURL = this.canvas.toDataURL();\n",
       "    this.cell_info[1]['text/html'] = '<img src=\"' + dataURL + '\" width=\"' + width + '\">';\n",
       "}\n",
       "\n",
       "mpl.figure.prototype.updated_canvas_event = function() {\n",
       "    // Tell IPython that the notebook contents must change.\n",
       "    IPython.notebook.set_dirty(true);\n",
       "    this.send_message(\"ack\", {});\n",
       "    var fig = this;\n",
       "    // Wait a second, then push the new image to the DOM so\n",
       "    // that it is saved nicely (might be nice to debounce this).\n",
       "    setTimeout(function () { fig.push_to_output() }, 1000);\n",
       "}\n",
       "\n",
       "mpl.figure.prototype._init_toolbar = function() {\n",
       "    var fig = this;\n",
       "\n",
       "    var nav_element = $('<div/>')\n",
       "    nav_element.attr('style', 'width: 100%');\n",
       "    this.root.append(nav_element);\n",
       "\n",
       "    // Define a callback function for later on.\n",
       "    function toolbar_event(event) {\n",
       "        return fig.toolbar_button_onclick(event['data']);\n",
       "    }\n",
       "    function toolbar_mouse_event(event) {\n",
       "        return fig.toolbar_button_onmouseover(event['data']);\n",
       "    }\n",
       "\n",
       "    for(var toolbar_ind in mpl.toolbar_items){\n",
       "        var name = mpl.toolbar_items[toolbar_ind][0];\n",
       "        var tooltip = mpl.toolbar_items[toolbar_ind][1];\n",
       "        var image = mpl.toolbar_items[toolbar_ind][2];\n",
       "        var method_name = mpl.toolbar_items[toolbar_ind][3];\n",
       "\n",
       "        if (!name) { continue; };\n",
       "\n",
       "        var button = $('<button class=\"btn btn-default\" href=\"#\" title=\"' + name + '\"><i class=\"fa ' + image + ' fa-lg\"></i></button>');\n",
       "        button.click(method_name, toolbar_event);\n",
       "        button.mouseover(tooltip, toolbar_mouse_event);\n",
       "        nav_element.append(button);\n",
       "    }\n",
       "\n",
       "    // Add the status bar.\n",
       "    var status_bar = $('<span class=\"mpl-message\" style=\"text-align:right; float: right;\"/>');\n",
       "    nav_element.append(status_bar);\n",
       "    this.message = status_bar[0];\n",
       "\n",
       "    // Add the close button to the window.\n",
       "    var buttongrp = $('<div class=\"btn-group inline pull-right\"></div>');\n",
       "    var button = $('<button class=\"btn btn-mini btn-primary\" href=\"#\" title=\"Stop Interaction\"><i class=\"fa fa-power-off icon-remove icon-large\"></i></button>');\n",
       "    button.click(function (evt) { fig.handle_close(fig, {}); } );\n",
       "    button.mouseover('Stop Interaction', toolbar_mouse_event);\n",
       "    buttongrp.append(button);\n",
       "    var titlebar = this.root.find($('.ui-dialog-titlebar'));\n",
       "    titlebar.prepend(buttongrp);\n",
       "}\n",
       "\n",
       "mpl.figure.prototype._root_extra_style = function(el){\n",
       "    var fig = this\n",
       "    el.on(\"remove\", function(){\n",
       "\tfig.close_ws(fig, {});\n",
       "    });\n",
       "}\n",
       "\n",
       "mpl.figure.prototype._canvas_extra_style = function(el){\n",
       "    // this is important to make the div 'focusable\n",
       "    el.attr('tabindex', 0)\n",
       "    // reach out to IPython and tell the keyboard manager to turn it's self\n",
       "    // off when our div gets focus\n",
       "\n",
       "    // location in version 3\n",
       "    if (IPython.notebook.keyboard_manager) {\n",
       "        IPython.notebook.keyboard_manager.register_events(el);\n",
       "    }\n",
       "    else {\n",
       "        // location in version 2\n",
       "        IPython.keyboard_manager.register_events(el);\n",
       "    }\n",
       "\n",
       "}\n",
       "\n",
       "mpl.figure.prototype._key_event_extra = function(event, name) {\n",
       "    var manager = IPython.notebook.keyboard_manager;\n",
       "    if (!manager)\n",
       "        manager = IPython.keyboard_manager;\n",
       "\n",
       "    // Check for shift+enter\n",
       "    if (event.shiftKey && event.which == 13) {\n",
       "        this.canvas_div.blur();\n",
       "        event.shiftKey = false;\n",
       "        // Send a \"J\" for go to next cell\n",
       "        event.which = 74;\n",
       "        event.keyCode = 74;\n",
       "        manager.command_mode();\n",
       "        manager.handle_keydown(event);\n",
       "    }\n",
       "}\n",
       "\n",
       "mpl.figure.prototype.handle_save = function(fig, msg) {\n",
       "    fig.ondownload(fig, null);\n",
       "}\n",
       "\n",
       "\n",
       "mpl.find_output_cell = function(html_output) {\n",
       "    // Return the cell and output element which can be found *uniquely* in the notebook.\n",
       "    // Note - this is a bit hacky, but it is done because the \"notebook_saving.Notebook\"\n",
       "    // IPython event is triggered only after the cells have been serialised, which for\n",
       "    // our purposes (turning an active figure into a static one), is too late.\n",
       "    var cells = IPython.notebook.get_cells();\n",
       "    var ncells = cells.length;\n",
       "    for (var i=0; i<ncells; i++) {\n",
       "        var cell = cells[i];\n",
       "        if (cell.cell_type === 'code'){\n",
       "            for (var j=0; j<cell.output_area.outputs.length; j++) {\n",
       "                var data = cell.output_area.outputs[j];\n",
       "                if (data.data) {\n",
       "                    // IPython >= 3 moved mimebundle to data attribute of output\n",
       "                    data = data.data;\n",
       "                }\n",
       "                if (data['text/html'] == html_output) {\n",
       "                    return [cell, data, j];\n",
       "                }\n",
       "            }\n",
       "        }\n",
       "    }\n",
       "}\n",
       "\n",
       "// Register the function which deals with the matplotlib target/channel.\n",
       "// The kernel may be null if the page has been refreshed.\n",
       "if (IPython.notebook.kernel != null) {\n",
       "    IPython.notebook.kernel.comm_manager.register_target('matplotlib', mpl.mpl_figure_comm);\n",
       "}\n"
      ],
      "text/plain": [
       "<IPython.core.display.Javascript object>"
      ]
     },
     "metadata": {},
     "output_type": "display_data"
    },
    {
     "data": {
      "text/html": [
       "<img src=\"data:image/png;base64,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\" width=\"900\">"
      ],
      "text/plain": [
       "<IPython.core.display.HTML object>"
      ]
     },
     "metadata": {},
     "output_type": "display_data"
    }
   ],
   "source": [
    "fig, ax = plt.subplots(2, 2, figsize=(9,7))"
   ]
  },
  {
   "cell_type": "markdown",
   "metadata": {},
   "source": [
    "### 3.2.1. Moving spines & Scatter plot"
   ]
  },
  {
   "cell_type": "code",
   "execution_count": 360,
   "metadata": {
    "collapsed": true
   },
   "outputs": [],
   "source": [
    "x = np.linspace(-np.pi, np.pi, 15)\n",
    "y = np.sin(x)"
   ]
  },
  {
   "cell_type": "code",
   "execution_count": 361,
   "metadata": {
    "collapsed": true,
    "scrolled": true
   },
   "outputs": [],
   "source": [
    "p1=ax[0,0].plot(theta, s, 'k')"
   ]
  },
  {
   "cell_type": "code",
   "execution_count": 362,
   "metadata": {},
   "outputs": [
    {
     "data": {
      "text/plain": [
       "<matplotlib.collections.PathCollection at 0x1d7957f0>"
      ]
     },
     "execution_count": 362,
     "metadata": {},
     "output_type": "execute_result"
    }
   ],
   "source": [
    "ax[0,0].scatter(x, y, marker='o', c='b', edgecolors= 'b')"
   ]
  },
  {
   "cell_type": "code",
   "execution_count": 363,
   "metadata": {},
   "outputs": [
    {
     "data": {
      "text/plain": [
       "(-1.1, 1.1)"
      ]
     },
     "execution_count": 363,
     "metadata": {},
     "output_type": "execute_result"
    }
   ],
   "source": [
    "ax[0,0].set_xlim(-np.pi,np.pi)\n",
    "ax[0,0].set_ylim(-1.1,1.1)"
   ]
  },
  {
   "cell_type": "code",
   "execution_count": 364,
   "metadata": {},
   "outputs": [
    {
     "data": {
      "text/plain": [
       "Text(0.5,1,'Moving spines')"
      ]
     },
     "execution_count": 364,
     "metadata": {},
     "output_type": "execute_result"
    }
   ],
   "source": [
    "ax[0,0].set_title('Moving spines')"
   ]
  },
  {
   "cell_type": "code",
   "execution_count": 365,
   "metadata": {
    "collapsed": true
   },
   "outputs": [],
   "source": [
    "for i in ['top', 'right'] :\n",
    "    ax[0,0].spines[i].set_color('none')"
   ]
  },
  {
   "cell_type": "code",
   "execution_count": 366,
   "metadata": {
    "collapsed": true
   },
   "outputs": [],
   "source": [
    "ax[0,0].xaxis.set_ticks_position('bottom')\n",
    "ax[0,0].yaxis.set_ticks_position('left')\n",
    "for i in ['left', 'bottom'] :\n",
    "    ax[0,0].spines[i].set_position(('data',0))"
   ]
  },
  {
   "cell_type": "code",
   "execution_count": 367,
   "metadata": {
    "collapsed": true
   },
   "outputs": [],
   "source": [
    "p1.pop(0).remove()"
   ]
  },
  {
   "cell_type": "markdown",
   "metadata": {},
   "source": [
    "### 3.2.2. Error plot"
   ]
  },
  {
   "cell_type": "code",
   "execution_count": 368,
   "metadata": {
    "collapsed": true
   },
   "outputs": [],
   "source": [
    "yerr= np.sqrt(np.abs(y-0.5))+0.1"
   ]
  },
  {
   "cell_type": "code",
   "execution_count": 369,
   "metadata": {},
   "outputs": [
    {
     "data": {
      "text/plain": [
       "<Container object of 3 artists>"
      ]
     },
     "execution_count": 369,
     "metadata": {},
     "output_type": "execute_result"
    }
   ],
   "source": [
    "ax[0,1].errorbar(x, y, xerr=0.15, yerr=yerr,fmt='-o', capthick=1, capsize=5, color = 'k')"
   ]
  },
  {
   "cell_type": "code",
   "execution_count": 370,
   "metadata": {},
   "outputs": [
    {
     "data": {
      "text/plain": [
       "Text(0.5,1,'Error plot')"
      ]
     },
     "execution_count": 370,
     "metadata": {},
     "output_type": "execute_result"
    }
   ],
   "source": [
    "ax[0,1].set_title('Error plot')"
   ]
  },
  {
   "cell_type": "markdown",
   "metadata": {},
   "source": [
    "### 3.2.3. Plot image"
   ]
  },
  {
   "cell_type": "code",
   "execution_count": 371,
   "metadata": {
    "collapsed": true
   },
   "outputs": [],
   "source": [
    "gx= np.linspace(-5,5,500)\n",
    "gy= np.linspace(-4,4,400)\n",
    "gauss2d = np.exp(-0.5*(gx/gx.std())**2-0.5*(gy[:,None]/gy.std())**2)"
   ]
  },
  {
   "cell_type": "code",
   "execution_count": 372,
   "metadata": {},
   "outputs": [
    {
     "data": {
      "text/plain": [
       "(50, 100)"
      ]
     },
     "execution_count": 372,
     "metadata": {},
     "output_type": "execute_result"
    }
   ],
   "source": [
    "ran2d.shape"
   ]
  },
  {
   "cell_type": "code",
   "execution_count": 373,
   "metadata": {
    "collapsed": true
   },
   "outputs": [],
   "source": [
    "im= ax[1,0].imshow(gauss2d)"
   ]
  },
  {
   "cell_type": "code",
   "execution_count": 374,
   "metadata": {
    "collapsed": true
   },
   "outputs": [],
   "source": [
    "im.remove()"
   ]
  },
  {
   "cell_type": "code",
   "execution_count": 375,
   "metadata": {
    "collapsed": true
   },
   "outputs": [],
   "source": [
    "im= ax[1,0].imshow(gauss2d, origin='lower', cmap=plt.cm.rainbow)"
   ]
  },
  {
   "cell_type": "code",
   "execution_count": 376,
   "metadata": {
    "collapsed": true
   },
   "outputs": [],
   "source": [
    "im.remove()"
   ]
  },
  {
   "cell_type": "code",
   "execution_count": 377,
   "metadata": {
    "collapsed": true
   },
   "outputs": [],
   "source": [
    "im= ax[1,0].imshow(gauss2d, origin='lower', cmap=plt.cm.rainbow, extent= [-5, 5, -2, 2])"
   ]
  },
  {
   "cell_type": "code",
   "execution_count": 378,
   "metadata": {
    "collapsed": true
   },
   "outputs": [],
   "source": [
    "cbar= plt.colorbar(im, ax=ax[1,0], pad=0)"
   ]
  },
  {
   "cell_type": "code",
   "execution_count": 379,
   "metadata": {
    "collapsed": true
   },
   "outputs": [],
   "source": [
    "cbar.set_label('Rainbow')"
   ]
  },
  {
   "cell_type": "code",
   "execution_count": 380,
   "metadata": {},
   "outputs": [
    {
     "data": {
      "text/plain": [
       "Text(0.5,1,'Image plot')"
      ]
     },
     "execution_count": 380,
     "metadata": {},
     "output_type": "execute_result"
    }
   ],
   "source": [
    "ax[1,0].set_title('Image plot')"
   ]
  },
  {
   "cell_type": "markdown",
   "metadata": {},
   "source": [
    "### 3.2.4. Contour"
   ]
  },
  {
   "cell_type": "code",
   "execution_count": 381,
   "metadata": {},
   "outputs": [
    {
     "data": {
      "text/plain": [
       "<matplotlib.contour.QuadContourSet at 0x1daf4198>"
      ]
     },
     "execution_count": 381,
     "metadata": {},
     "output_type": "execute_result"
    }
   ],
   "source": [
    "ax[1,1].contourf(gx, gy, gauss2d, 5, cmap=plt.cm.rainbow)"
   ]
  },
  {
   "cell_type": "code",
   "execution_count": 382,
   "metadata": {
    "collapsed": true
   },
   "outputs": [],
   "source": [
    "c= ax[1,1].contour(gx, gy, gauss2d, 5, colors='k')"
   ]
  },
  {
   "cell_type": "code",
   "execution_count": 383,
   "metadata": {},
   "outputs": [
    {
     "data": {
      "text/plain": [
       "<a list of 7 text.Text objects>"
      ]
     },
     "execution_count": 383,
     "metadata": {},
     "output_type": "execute_result"
    }
   ],
   "source": [
    "ax[1,1].clabel(c)"
   ]
  },
  {
   "cell_type": "code",
   "execution_count": 384,
   "metadata": {},
   "outputs": [
    {
     "data": {
      "text/plain": [
       "Text(0.5,1,'Contour')"
      ]
     },
     "execution_count": 384,
     "metadata": {},
     "output_type": "execute_result"
    }
   ],
   "source": [
    "ax[1,1].set_title('Contour')"
   ]
  },
  {
   "cell_type": "code",
   "execution_count": 385,
   "metadata": {
    "collapsed": true
   },
   "outputs": [],
   "source": [
    "fig.tight_layout(h_pad=0,w_pad=0)"
   ]
  },
  {
   "cell_type": "markdown",
   "metadata": {},
   "source": [
    "### $\\star$ Well-fitted colorbar"
   ]
  },
  {
   "cell_type": "code",
   "execution_count": 387,
   "metadata": {
    "collapsed": true
   },
   "outputs": [],
   "source": [
    "from mpl_toolkits.axes_grid1 import make_axes_locatable"
   ]
  },
  {
   "cell_type": "code",
   "execution_count": 404,
   "metadata": {
    "scrolled": false
   },
   "outputs": [
    {
     "data": {
      "application/javascript": [
       "/* Put everything inside the global mpl namespace */\n",
       "window.mpl = {};\n",
       "\n",
       "\n",
       "mpl.get_websocket_type = function() {\n",
       "    if (typeof(WebSocket) !== 'undefined') {\n",
       "        return WebSocket;\n",
       "    } else if (typeof(MozWebSocket) !== 'undefined') {\n",
       "        return MozWebSocket;\n",
       "    } else {\n",
       "        alert('Your browser does not have WebSocket support.' +\n",
       "              'Please try Chrome, Safari or Firefox ≥ 6. ' +\n",
       "              'Firefox 4 and 5 are also supported but you ' +\n",
       "              'have to enable WebSockets in about:config.');\n",
       "    };\n",
       "}\n",
       "\n",
       "mpl.figure = function(figure_id, websocket, ondownload, parent_element) {\n",
       "    this.id = figure_id;\n",
       "\n",
       "    this.ws = websocket;\n",
       "\n",
       "    this.supports_binary = (this.ws.binaryType != undefined);\n",
       "\n",
       "    if (!this.supports_binary) {\n",
       "        var warnings = document.getElementById(\"mpl-warnings\");\n",
       "        if (warnings) {\n",
       "            warnings.style.display = 'block';\n",
       "            warnings.textContent = (\n",
       "                \"This browser does not support binary websocket messages. \" +\n",
       "                    \"Performance may be slow.\");\n",
       "        }\n",
       "    }\n",
       "\n",
       "    this.imageObj = new Image();\n",
       "\n",
       "    this.context = undefined;\n",
       "    this.message = undefined;\n",
       "    this.canvas = undefined;\n",
       "    this.rubberband_canvas = undefined;\n",
       "    this.rubberband_context = undefined;\n",
       "    this.format_dropdown = undefined;\n",
       "\n",
       "    this.image_mode = 'full';\n",
       "\n",
       "    this.root = $('<div/>');\n",
       "    this._root_extra_style(this.root)\n",
       "    this.root.attr('style', 'display: inline-block');\n",
       "\n",
       "    $(parent_element).append(this.root);\n",
       "\n",
       "    this._init_header(this);\n",
       "    this._init_canvas(this);\n",
       "    this._init_toolbar(this);\n",
       "\n",
       "    var fig = this;\n",
       "\n",
       "    this.waiting = false;\n",
       "\n",
       "    this.ws.onopen =  function () {\n",
       "            fig.send_message(\"supports_binary\", {value: fig.supports_binary});\n",
       "            fig.send_message(\"send_image_mode\", {});\n",
       "            if (mpl.ratio != 1) {\n",
       "                fig.send_message(\"set_dpi_ratio\", {'dpi_ratio': mpl.ratio});\n",
       "            }\n",
       "            fig.send_message(\"refresh\", {});\n",
       "        }\n",
       "\n",
       "    this.imageObj.onload = function() {\n",
       "            if (fig.image_mode == 'full') {\n",
       "                // Full images could contain transparency (where diff images\n",
       "                // almost always do), so we need to clear the canvas so that\n",
       "                // there is no ghosting.\n",
       "                fig.context.clearRect(0, 0, fig.canvas.width, fig.canvas.height);\n",
       "            }\n",
       "            fig.context.drawImage(fig.imageObj, 0, 0);\n",
       "        };\n",
       "\n",
       "    this.imageObj.onunload = function() {\n",
       "        fig.ws.close();\n",
       "    }\n",
       "\n",
       "    this.ws.onmessage = this._make_on_message_function(this);\n",
       "\n",
       "    this.ondownload = ondownload;\n",
       "}\n",
       "\n",
       "mpl.figure.prototype._init_header = function() {\n",
       "    var titlebar = $(\n",
       "        '<div class=\"ui-dialog-titlebar ui-widget-header ui-corner-all ' +\n",
       "        'ui-helper-clearfix\"/>');\n",
       "    var titletext = $(\n",
       "        '<div class=\"ui-dialog-title\" style=\"width: 100%; ' +\n",
       "        'text-align: center; padding: 3px;\"/>');\n",
       "    titlebar.append(titletext)\n",
       "    this.root.append(titlebar);\n",
       "    this.header = titletext[0];\n",
       "}\n",
       "\n",
       "\n",
       "\n",
       "mpl.figure.prototype._canvas_extra_style = function(canvas_div) {\n",
       "\n",
       "}\n",
       "\n",
       "\n",
       "mpl.figure.prototype._root_extra_style = function(canvas_div) {\n",
       "\n",
       "}\n",
       "\n",
       "mpl.figure.prototype._init_canvas = function() {\n",
       "    var fig = this;\n",
       "\n",
       "    var canvas_div = $('<div/>');\n",
       "\n",
       "    canvas_div.attr('style', 'position: relative; clear: both; outline: 0');\n",
       "\n",
       "    function canvas_keyboard_event(event) {\n",
       "        return fig.key_event(event, event['data']);\n",
       "    }\n",
       "\n",
       "    canvas_div.keydown('key_press', canvas_keyboard_event);\n",
       "    canvas_div.keyup('key_release', canvas_keyboard_event);\n",
       "    this.canvas_div = canvas_div\n",
       "    this._canvas_extra_style(canvas_div)\n",
       "    this.root.append(canvas_div);\n",
       "\n",
       "    var canvas = $('<canvas/>');\n",
       "    canvas.addClass('mpl-canvas');\n",
       "    canvas.attr('style', \"left: 0; top: 0; z-index: 0; outline: 0\")\n",
       "\n",
       "    this.canvas = canvas[0];\n",
       "    this.context = canvas[0].getContext(\"2d\");\n",
       "\n",
       "    var backingStore = this.context.backingStorePixelRatio ||\n",
       "\tthis.context.webkitBackingStorePixelRatio ||\n",
       "\tthis.context.mozBackingStorePixelRatio ||\n",
       "\tthis.context.msBackingStorePixelRatio ||\n",
       "\tthis.context.oBackingStorePixelRatio ||\n",
       "\tthis.context.backingStorePixelRatio || 1;\n",
       "\n",
       "    mpl.ratio = (window.devicePixelRatio || 1) / backingStore;\n",
       "\n",
       "    var rubberband = $('<canvas/>');\n",
       "    rubberband.attr('style', \"position: absolute; left: 0; top: 0; z-index: 1;\")\n",
       "\n",
       "    var pass_mouse_events = true;\n",
       "\n",
       "    canvas_div.resizable({\n",
       "        start: function(event, ui) {\n",
       "            pass_mouse_events = false;\n",
       "        },\n",
       "        resize: function(event, ui) {\n",
       "            fig.request_resize(ui.size.width, ui.size.height);\n",
       "        },\n",
       "        stop: function(event, ui) {\n",
       "            pass_mouse_events = true;\n",
       "            fig.request_resize(ui.size.width, ui.size.height);\n",
       "        },\n",
       "    });\n",
       "\n",
       "    function mouse_event_fn(event) {\n",
       "        if (pass_mouse_events)\n",
       "            return fig.mouse_event(event, event['data']);\n",
       "    }\n",
       "\n",
       "    rubberband.mousedown('button_press', mouse_event_fn);\n",
       "    rubberband.mouseup('button_release', mouse_event_fn);\n",
       "    // Throttle sequential mouse events to 1 every 20ms.\n",
       "    rubberband.mousemove('motion_notify', mouse_event_fn);\n",
       "\n",
       "    rubberband.mouseenter('figure_enter', mouse_event_fn);\n",
       "    rubberband.mouseleave('figure_leave', mouse_event_fn);\n",
       "\n",
       "    canvas_div.on(\"wheel\", function (event) {\n",
       "        event = event.originalEvent;\n",
       "        event['data'] = 'scroll'\n",
       "        if (event.deltaY < 0) {\n",
       "            event.step = 1;\n",
       "        } else {\n",
       "            event.step = -1;\n",
       "        }\n",
       "        mouse_event_fn(event);\n",
       "    });\n",
       "\n",
       "    canvas_div.append(canvas);\n",
       "    canvas_div.append(rubberband);\n",
       "\n",
       "    this.rubberband = rubberband;\n",
       "    this.rubberband_canvas = rubberband[0];\n",
       "    this.rubberband_context = rubberband[0].getContext(\"2d\");\n",
       "    this.rubberband_context.strokeStyle = \"#000000\";\n",
       "\n",
       "    this._resize_canvas = function(width, height) {\n",
       "        // Keep the size of the canvas, canvas container, and rubber band\n",
       "        // canvas in synch.\n",
       "        canvas_div.css('width', width)\n",
       "        canvas_div.css('height', height)\n",
       "\n",
       "        canvas.attr('width', width * mpl.ratio);\n",
       "        canvas.attr('height', height * mpl.ratio);\n",
       "        canvas.attr('style', 'width: ' + width + 'px; height: ' + height + 'px;');\n",
       "\n",
       "        rubberband.attr('width', width);\n",
       "        rubberband.attr('height', height);\n",
       "    }\n",
       "\n",
       "    // Set the figure to an initial 600x600px, this will subsequently be updated\n",
       "    // upon first draw.\n",
       "    this._resize_canvas(600, 600);\n",
       "\n",
       "    // Disable right mouse context menu.\n",
       "    $(this.rubberband_canvas).bind(\"contextmenu\",function(e){\n",
       "        return false;\n",
       "    });\n",
       "\n",
       "    function set_focus () {\n",
       "        canvas.focus();\n",
       "        canvas_div.focus();\n",
       "    }\n",
       "\n",
       "    window.setTimeout(set_focus, 100);\n",
       "}\n",
       "\n",
       "mpl.figure.prototype._init_toolbar = function() {\n",
       "    var fig = this;\n",
       "\n",
       "    var nav_element = $('<div/>')\n",
       "    nav_element.attr('style', 'width: 100%');\n",
       "    this.root.append(nav_element);\n",
       "\n",
       "    // Define a callback function for later on.\n",
       "    function toolbar_event(event) {\n",
       "        return fig.toolbar_button_onclick(event['data']);\n",
       "    }\n",
       "    function toolbar_mouse_event(event) {\n",
       "        return fig.toolbar_button_onmouseover(event['data']);\n",
       "    }\n",
       "\n",
       "    for(var toolbar_ind in mpl.toolbar_items) {\n",
       "        var name = mpl.toolbar_items[toolbar_ind][0];\n",
       "        var tooltip = mpl.toolbar_items[toolbar_ind][1];\n",
       "        var image = mpl.toolbar_items[toolbar_ind][2];\n",
       "        var method_name = mpl.toolbar_items[toolbar_ind][3];\n",
       "\n",
       "        if (!name) {\n",
       "            // put a spacer in here.\n",
       "            continue;\n",
       "        }\n",
       "        var button = $('<button/>');\n",
       "        button.addClass('ui-button ui-widget ui-state-default ui-corner-all ' +\n",
       "                        'ui-button-icon-only');\n",
       "        button.attr('role', 'button');\n",
       "        button.attr('aria-disabled', 'false');\n",
       "        button.click(method_name, toolbar_event);\n",
       "        button.mouseover(tooltip, toolbar_mouse_event);\n",
       "\n",
       "        var icon_img = $('<span/>');\n",
       "        icon_img.addClass('ui-button-icon-primary ui-icon');\n",
       "        icon_img.addClass(image);\n",
       "        icon_img.addClass('ui-corner-all');\n",
       "\n",
       "        var tooltip_span = $('<span/>');\n",
       "        tooltip_span.addClass('ui-button-text');\n",
       "        tooltip_span.html(tooltip);\n",
       "\n",
       "        button.append(icon_img);\n",
       "        button.append(tooltip_span);\n",
       "\n",
       "        nav_element.append(button);\n",
       "    }\n",
       "\n",
       "    var fmt_picker_span = $('<span/>');\n",
       "\n",
       "    var fmt_picker = $('<select/>');\n",
       "    fmt_picker.addClass('mpl-toolbar-option ui-widget ui-widget-content');\n",
       "    fmt_picker_span.append(fmt_picker);\n",
       "    nav_element.append(fmt_picker_span);\n",
       "    this.format_dropdown = fmt_picker[0];\n",
       "\n",
       "    for (var ind in mpl.extensions) {\n",
       "        var fmt = mpl.extensions[ind];\n",
       "        var option = $(\n",
       "            '<option/>', {selected: fmt === mpl.default_extension}).html(fmt);\n",
       "        fmt_picker.append(option)\n",
       "    }\n",
       "\n",
       "    // Add hover states to the ui-buttons\n",
       "    $( \".ui-button\" ).hover(\n",
       "        function() { $(this).addClass(\"ui-state-hover\");},\n",
       "        function() { $(this).removeClass(\"ui-state-hover\");}\n",
       "    );\n",
       "\n",
       "    var status_bar = $('<span class=\"mpl-message\"/>');\n",
       "    nav_element.append(status_bar);\n",
       "    this.message = status_bar[0];\n",
       "}\n",
       "\n",
       "mpl.figure.prototype.request_resize = function(x_pixels, y_pixels) {\n",
       "    // Request matplotlib to resize the figure. Matplotlib will then trigger a resize in the client,\n",
       "    // which will in turn request a refresh of the image.\n",
       "    this.send_message('resize', {'width': x_pixels, 'height': y_pixels});\n",
       "}\n",
       "\n",
       "mpl.figure.prototype.send_message = function(type, properties) {\n",
       "    properties['type'] = type;\n",
       "    properties['figure_id'] = this.id;\n",
       "    this.ws.send(JSON.stringify(properties));\n",
       "}\n",
       "\n",
       "mpl.figure.prototype.send_draw_message = function() {\n",
       "    if (!this.waiting) {\n",
       "        this.waiting = true;\n",
       "        this.ws.send(JSON.stringify({type: \"draw\", figure_id: this.id}));\n",
       "    }\n",
       "}\n",
       "\n",
       "\n",
       "mpl.figure.prototype.handle_save = function(fig, msg) {\n",
       "    var format_dropdown = fig.format_dropdown;\n",
       "    var format = format_dropdown.options[format_dropdown.selectedIndex].value;\n",
       "    fig.ondownload(fig, format);\n",
       "}\n",
       "\n",
       "\n",
       "mpl.figure.prototype.handle_resize = function(fig, msg) {\n",
       "    var size = msg['size'];\n",
       "    if (size[0] != fig.canvas.width || size[1] != fig.canvas.height) {\n",
       "        fig._resize_canvas(size[0], size[1]);\n",
       "        fig.send_message(\"refresh\", {});\n",
       "    };\n",
       "}\n",
       "\n",
       "mpl.figure.prototype.handle_rubberband = function(fig, msg) {\n",
       "    var x0 = msg['x0'] / mpl.ratio;\n",
       "    var y0 = (fig.canvas.height - msg['y0']) / mpl.ratio;\n",
       "    var x1 = msg['x1'] / mpl.ratio;\n",
       "    var y1 = (fig.canvas.height - msg['y1']) / mpl.ratio;\n",
       "    x0 = Math.floor(x0) + 0.5;\n",
       "    y0 = Math.floor(y0) + 0.5;\n",
       "    x1 = Math.floor(x1) + 0.5;\n",
       "    y1 = Math.floor(y1) + 0.5;\n",
       "    var min_x = Math.min(x0, x1);\n",
       "    var min_y = Math.min(y0, y1);\n",
       "    var width = Math.abs(x1 - x0);\n",
       "    var height = Math.abs(y1 - y0);\n",
       "\n",
       "    fig.rubberband_context.clearRect(\n",
       "        0, 0, fig.canvas.width, fig.canvas.height);\n",
       "\n",
       "    fig.rubberband_context.strokeRect(min_x, min_y, width, height);\n",
       "}\n",
       "\n",
       "mpl.figure.prototype.handle_figure_label = function(fig, msg) {\n",
       "    // Updates the figure title.\n",
       "    fig.header.textContent = msg['label'];\n",
       "}\n",
       "\n",
       "mpl.figure.prototype.handle_cursor = function(fig, msg) {\n",
       "    var cursor = msg['cursor'];\n",
       "    switch(cursor)\n",
       "    {\n",
       "    case 0:\n",
       "        cursor = 'pointer';\n",
       "        break;\n",
       "    case 1:\n",
       "        cursor = 'default';\n",
       "        break;\n",
       "    case 2:\n",
       "        cursor = 'crosshair';\n",
       "        break;\n",
       "    case 3:\n",
       "        cursor = 'move';\n",
       "        break;\n",
       "    }\n",
       "    fig.rubberband_canvas.style.cursor = cursor;\n",
       "}\n",
       "\n",
       "mpl.figure.prototype.handle_message = function(fig, msg) {\n",
       "    fig.message.textContent = msg['message'];\n",
       "}\n",
       "\n",
       "mpl.figure.prototype.handle_draw = function(fig, msg) {\n",
       "    // Request the server to send over a new figure.\n",
       "    fig.send_draw_message();\n",
       "}\n",
       "\n",
       "mpl.figure.prototype.handle_image_mode = function(fig, msg) {\n",
       "    fig.image_mode = msg['mode'];\n",
       "}\n",
       "\n",
       "mpl.figure.prototype.updated_canvas_event = function() {\n",
       "    // Called whenever the canvas gets updated.\n",
       "    this.send_message(\"ack\", {});\n",
       "}\n",
       "\n",
       "// A function to construct a web socket function for onmessage handling.\n",
       "// Called in the figure constructor.\n",
       "mpl.figure.prototype._make_on_message_function = function(fig) {\n",
       "    return function socket_on_message(evt) {\n",
       "        if (evt.data instanceof Blob) {\n",
       "            /* FIXME: We get \"Resource interpreted as Image but\n",
       "             * transferred with MIME type text/plain:\" errors on\n",
       "             * Chrome.  But how to set the MIME type?  It doesn't seem\n",
       "             * to be part of the websocket stream */\n",
       "            evt.data.type = \"image/png\";\n",
       "\n",
       "            /* Free the memory for the previous frames */\n",
       "            if (fig.imageObj.src) {\n",
       "                (window.URL || window.webkitURL).revokeObjectURL(\n",
       "                    fig.imageObj.src);\n",
       "            }\n",
       "\n",
       "            fig.imageObj.src = (window.URL || window.webkitURL).createObjectURL(\n",
       "                evt.data);\n",
       "            fig.updated_canvas_event();\n",
       "            fig.waiting = false;\n",
       "            return;\n",
       "        }\n",
       "        else if (typeof evt.data === 'string' && evt.data.slice(0, 21) == \"data:image/png;base64\") {\n",
       "            fig.imageObj.src = evt.data;\n",
       "            fig.updated_canvas_event();\n",
       "            fig.waiting = false;\n",
       "            return;\n",
       "        }\n",
       "\n",
       "        var msg = JSON.parse(evt.data);\n",
       "        var msg_type = msg['type'];\n",
       "\n",
       "        // Call the  \"handle_{type}\" callback, which takes\n",
       "        // the figure and JSON message as its only arguments.\n",
       "        try {\n",
       "            var callback = fig[\"handle_\" + msg_type];\n",
       "        } catch (e) {\n",
       "            console.log(\"No handler for the '\" + msg_type + \"' message type: \", msg);\n",
       "            return;\n",
       "        }\n",
       "\n",
       "        if (callback) {\n",
       "            try {\n",
       "                // console.log(\"Handling '\" + msg_type + \"' message: \", msg);\n",
       "                callback(fig, msg);\n",
       "            } catch (e) {\n",
       "                console.log(\"Exception inside the 'handler_\" + msg_type + \"' callback:\", e, e.stack, msg);\n",
       "            }\n",
       "        }\n",
       "    };\n",
       "}\n",
       "\n",
       "// from http://stackoverflow.com/questions/1114465/getting-mouse-location-in-canvas\n",
       "mpl.findpos = function(e) {\n",
       "    //this section is from http://www.quirksmode.org/js/events_properties.html\n",
       "    var targ;\n",
       "    if (!e)\n",
       "        e = window.event;\n",
       "    if (e.target)\n",
       "        targ = e.target;\n",
       "    else if (e.srcElement)\n",
       "        targ = e.srcElement;\n",
       "    if (targ.nodeType == 3) // defeat Safari bug\n",
       "        targ = targ.parentNode;\n",
       "\n",
       "    // jQuery normalizes the pageX and pageY\n",
       "    // pageX,Y are the mouse positions relative to the document\n",
       "    // offset() returns the position of the element relative to the document\n",
       "    var x = e.pageX - $(targ).offset().left;\n",
       "    var y = e.pageY - $(targ).offset().top;\n",
       "\n",
       "    return {\"x\": x, \"y\": y};\n",
       "};\n",
       "\n",
       "/*\n",
       " * return a copy of an object with only non-object keys\n",
       " * we need this to avoid circular references\n",
       " * http://stackoverflow.com/a/24161582/3208463\n",
       " */\n",
       "function simpleKeys (original) {\n",
       "  return Object.keys(original).reduce(function (obj, key) {\n",
       "    if (typeof original[key] !== 'object')\n",
       "        obj[key] = original[key]\n",
       "    return obj;\n",
       "  }, {});\n",
       "}\n",
       "\n",
       "mpl.figure.prototype.mouse_event = function(event, name) {\n",
       "    var canvas_pos = mpl.findpos(event)\n",
       "\n",
       "    if (name === 'button_press')\n",
       "    {\n",
       "        this.canvas.focus();\n",
       "        this.canvas_div.focus();\n",
       "    }\n",
       "\n",
       "    var x = canvas_pos.x * mpl.ratio;\n",
       "    var y = canvas_pos.y * mpl.ratio;\n",
       "\n",
       "    this.send_message(name, {x: x, y: y, button: event.button,\n",
       "                             step: event.step,\n",
       "                             guiEvent: simpleKeys(event)});\n",
       "\n",
       "    /* This prevents the web browser from automatically changing to\n",
       "     * the text insertion cursor when the button is pressed.  We want\n",
       "     * to control all of the cursor setting manually through the\n",
       "     * 'cursor' event from matplotlib */\n",
       "    event.preventDefault();\n",
       "    return false;\n",
       "}\n",
       "\n",
       "mpl.figure.prototype._key_event_extra = function(event, name) {\n",
       "    // Handle any extra behaviour associated with a key event\n",
       "}\n",
       "\n",
       "mpl.figure.prototype.key_event = function(event, name) {\n",
       "\n",
       "    // Prevent repeat events\n",
       "    if (name == 'key_press')\n",
       "    {\n",
       "        if (event.which === this._key)\n",
       "            return;\n",
       "        else\n",
       "            this._key = event.which;\n",
       "    }\n",
       "    if (name == 'key_release')\n",
       "        this._key = null;\n",
       "\n",
       "    var value = '';\n",
       "    if (event.ctrlKey && event.which != 17)\n",
       "        value += \"ctrl+\";\n",
       "    if (event.altKey && event.which != 18)\n",
       "        value += \"alt+\";\n",
       "    if (event.shiftKey && event.which != 16)\n",
       "        value += \"shift+\";\n",
       "\n",
       "    value += 'k';\n",
       "    value += event.which.toString();\n",
       "\n",
       "    this._key_event_extra(event, name);\n",
       "\n",
       "    this.send_message(name, {key: value,\n",
       "                             guiEvent: simpleKeys(event)});\n",
       "    return false;\n",
       "}\n",
       "\n",
       "mpl.figure.prototype.toolbar_button_onclick = function(name) {\n",
       "    if (name == 'download') {\n",
       "        this.handle_save(this, null);\n",
       "    } else {\n",
       "        this.send_message(\"toolbar_button\", {name: name});\n",
       "    }\n",
       "};\n",
       "\n",
       "mpl.figure.prototype.toolbar_button_onmouseover = function(tooltip) {\n",
       "    this.message.textContent = tooltip;\n",
       "};\n",
       "mpl.toolbar_items = [[\"Home\", \"Reset original view\", \"fa fa-home icon-home\", \"home\"], [\"Back\", \"Back to  previous view\", \"fa fa-arrow-left icon-arrow-left\", \"back\"], [\"Forward\", \"Forward to next view\", \"fa fa-arrow-right icon-arrow-right\", \"forward\"], [\"\", \"\", \"\", \"\"], [\"Pan\", \"Pan axes with left mouse, zoom with right\", \"fa fa-arrows icon-move\", \"pan\"], [\"Zoom\", \"Zoom to rectangle\", \"fa fa-square-o icon-check-empty\", \"zoom\"], [\"\", \"\", \"\", \"\"], [\"Download\", \"Download plot\", \"fa fa-floppy-o icon-save\", \"download\"]];\n",
       "\n",
       "mpl.extensions = [\"eps\", \"jpeg\", \"pdf\", \"png\", \"ps\", \"raw\", \"svg\", \"tif\"];\n",
       "\n",
       "mpl.default_extension = \"png\";var comm_websocket_adapter = function(comm) {\n",
       "    // Create a \"websocket\"-like object which calls the given IPython comm\n",
       "    // object with the appropriate methods. Currently this is a non binary\n",
       "    // socket, so there is still some room for performance tuning.\n",
       "    var ws = {};\n",
       "\n",
       "    ws.close = function() {\n",
       "        comm.close()\n",
       "    };\n",
       "    ws.send = function(m) {\n",
       "        //console.log('sending', m);\n",
       "        comm.send(m);\n",
       "    };\n",
       "    // Register the callback with on_msg.\n",
       "    comm.on_msg(function(msg) {\n",
       "        //console.log('receiving', msg['content']['data'], msg);\n",
       "        // Pass the mpl event to the overriden (by mpl) onmessage function.\n",
       "        ws.onmessage(msg['content']['data'])\n",
       "    });\n",
       "    return ws;\n",
       "}\n",
       "\n",
       "mpl.mpl_figure_comm = function(comm, msg) {\n",
       "    // This is the function which gets called when the mpl process\n",
       "    // starts-up an IPython Comm through the \"matplotlib\" channel.\n",
       "\n",
       "    var id = msg.content.data.id;\n",
       "    // Get hold of the div created by the display call when the Comm\n",
       "    // socket was opened in Python.\n",
       "    var element = $(\"#\" + id);\n",
       "    var ws_proxy = comm_websocket_adapter(comm)\n",
       "\n",
       "    function ondownload(figure, format) {\n",
       "        window.open(figure.imageObj.src);\n",
       "    }\n",
       "\n",
       "    var fig = new mpl.figure(id, ws_proxy,\n",
       "                           ondownload,\n",
       "                           element.get(0));\n",
       "\n",
       "    // Call onopen now - mpl needs it, as it is assuming we've passed it a real\n",
       "    // web socket which is closed, not our websocket->open comm proxy.\n",
       "    ws_proxy.onopen();\n",
       "\n",
       "    fig.parent_element = element.get(0);\n",
       "    fig.cell_info = mpl.find_output_cell(\"<div id='\" + id + \"'></div>\");\n",
       "    if (!fig.cell_info) {\n",
       "        console.error(\"Failed to find cell for figure\", id, fig);\n",
       "        return;\n",
       "    }\n",
       "\n",
       "    var output_index = fig.cell_info[2]\n",
       "    var cell = fig.cell_info[0];\n",
       "\n",
       "};\n",
       "\n",
       "mpl.figure.prototype.handle_close = function(fig, msg) {\n",
       "    var width = fig.canvas.width/mpl.ratio\n",
       "    fig.root.unbind('remove')\n",
       "\n",
       "    // Update the output cell to use the data from the current canvas.\n",
       "    fig.push_to_output();\n",
       "    var dataURL = fig.canvas.toDataURL();\n",
       "    // Re-enable the keyboard manager in IPython - without this line, in FF,\n",
       "    // the notebook keyboard shortcuts fail.\n",
       "    IPython.keyboard_manager.enable()\n",
       "    $(fig.parent_element).html('<img src=\"' + dataURL + '\" width=\"' + width + '\">');\n",
       "    fig.close_ws(fig, msg);\n",
       "}\n",
       "\n",
       "mpl.figure.prototype.close_ws = function(fig, msg){\n",
       "    fig.send_message('closing', msg);\n",
       "    // fig.ws.close()\n",
       "}\n",
       "\n",
       "mpl.figure.prototype.push_to_output = function(remove_interactive) {\n",
       "    // Turn the data on the canvas into data in the output cell.\n",
       "    var width = this.canvas.width/mpl.ratio\n",
       "    var dataURL = this.canvas.toDataURL();\n",
       "    this.cell_info[1]['text/html'] = '<img src=\"' + dataURL + '\" width=\"' + width + '\">';\n",
       "}\n",
       "\n",
       "mpl.figure.prototype.updated_canvas_event = function() {\n",
       "    // Tell IPython that the notebook contents must change.\n",
       "    IPython.notebook.set_dirty(true);\n",
       "    this.send_message(\"ack\", {});\n",
       "    var fig = this;\n",
       "    // Wait a second, then push the new image to the DOM so\n",
       "    // that it is saved nicely (might be nice to debounce this).\n",
       "    setTimeout(function () { fig.push_to_output() }, 1000);\n",
       "}\n",
       "\n",
       "mpl.figure.prototype._init_toolbar = function() {\n",
       "    var fig = this;\n",
       "\n",
       "    var nav_element = $('<div/>')\n",
       "    nav_element.attr('style', 'width: 100%');\n",
       "    this.root.append(nav_element);\n",
       "\n",
       "    // Define a callback function for later on.\n",
       "    function toolbar_event(event) {\n",
       "        return fig.toolbar_button_onclick(event['data']);\n",
       "    }\n",
       "    function toolbar_mouse_event(event) {\n",
       "        return fig.toolbar_button_onmouseover(event['data']);\n",
       "    }\n",
       "\n",
       "    for(var toolbar_ind in mpl.toolbar_items){\n",
       "        var name = mpl.toolbar_items[toolbar_ind][0];\n",
       "        var tooltip = mpl.toolbar_items[toolbar_ind][1];\n",
       "        var image = mpl.toolbar_items[toolbar_ind][2];\n",
       "        var method_name = mpl.toolbar_items[toolbar_ind][3];\n",
       "\n",
       "        if (!name) { continue; };\n",
       "\n",
       "        var button = $('<button class=\"btn btn-default\" href=\"#\" title=\"' + name + '\"><i class=\"fa ' + image + ' fa-lg\"></i></button>');\n",
       "        button.click(method_name, toolbar_event);\n",
       "        button.mouseover(tooltip, toolbar_mouse_event);\n",
       "        nav_element.append(button);\n",
       "    }\n",
       "\n",
       "    // Add the status bar.\n",
       "    var status_bar = $('<span class=\"mpl-message\" style=\"text-align:right; float: right;\"/>');\n",
       "    nav_element.append(status_bar);\n",
       "    this.message = status_bar[0];\n",
       "\n",
       "    // Add the close button to the window.\n",
       "    var buttongrp = $('<div class=\"btn-group inline pull-right\"></div>');\n",
       "    var button = $('<button class=\"btn btn-mini btn-primary\" href=\"#\" title=\"Stop Interaction\"><i class=\"fa fa-power-off icon-remove icon-large\"></i></button>');\n",
       "    button.click(function (evt) { fig.handle_close(fig, {}); } );\n",
       "    button.mouseover('Stop Interaction', toolbar_mouse_event);\n",
       "    buttongrp.append(button);\n",
       "    var titlebar = this.root.find($('.ui-dialog-titlebar'));\n",
       "    titlebar.prepend(buttongrp);\n",
       "}\n",
       "\n",
       "mpl.figure.prototype._root_extra_style = function(el){\n",
       "    var fig = this\n",
       "    el.on(\"remove\", function(){\n",
       "\tfig.close_ws(fig, {});\n",
       "    });\n",
       "}\n",
       "\n",
       "mpl.figure.prototype._canvas_extra_style = function(el){\n",
       "    // this is important to make the div 'focusable\n",
       "    el.attr('tabindex', 0)\n",
       "    // reach out to IPython and tell the keyboard manager to turn it's self\n",
       "    // off when our div gets focus\n",
       "\n",
       "    // location in version 3\n",
       "    if (IPython.notebook.keyboard_manager) {\n",
       "        IPython.notebook.keyboard_manager.register_events(el);\n",
       "    }\n",
       "    else {\n",
       "        // location in version 2\n",
       "        IPython.keyboard_manager.register_events(el);\n",
       "    }\n",
       "\n",
       "}\n",
       "\n",
       "mpl.figure.prototype._key_event_extra = function(event, name) {\n",
       "    var manager = IPython.notebook.keyboard_manager;\n",
       "    if (!manager)\n",
       "        manager = IPython.keyboard_manager;\n",
       "\n",
       "    // Check for shift+enter\n",
       "    if (event.shiftKey && event.which == 13) {\n",
       "        this.canvas_div.blur();\n",
       "        event.shiftKey = false;\n",
       "        // Send a \"J\" for go to next cell\n",
       "        event.which = 74;\n",
       "        event.keyCode = 74;\n",
       "        manager.command_mode();\n",
       "        manager.handle_keydown(event);\n",
       "    }\n",
       "}\n",
       "\n",
       "mpl.figure.prototype.handle_save = function(fig, msg) {\n",
       "    fig.ondownload(fig, null);\n",
       "}\n",
       "\n",
       "\n",
       "mpl.find_output_cell = function(html_output) {\n",
       "    // Return the cell and output element which can be found *uniquely* in the notebook.\n",
       "    // Note - this is a bit hacky, but it is done because the \"notebook_saving.Notebook\"\n",
       "    // IPython event is triggered only after the cells have been serialised, which for\n",
       "    // our purposes (turning an active figure into a static one), is too late.\n",
       "    var cells = IPython.notebook.get_cells();\n",
       "    var ncells = cells.length;\n",
       "    for (var i=0; i<ncells; i++) {\n",
       "        var cell = cells[i];\n",
       "        if (cell.cell_type === 'code'){\n",
       "            for (var j=0; j<cell.output_area.outputs.length; j++) {\n",
       "                var data = cell.output_area.outputs[j];\n",
       "                if (data.data) {\n",
       "                    // IPython >= 3 moved mimebundle to data attribute of output\n",
       "                    data = data.data;\n",
       "                }\n",
       "                if (data['text/html'] == html_output) {\n",
       "                    return [cell, data, j];\n",
       "                }\n",
       "            }\n",
       "        }\n",
       "    }\n",
       "}\n",
       "\n",
       "// Register the function which deals with the matplotlib target/channel.\n",
       "// The kernel may be null if the page has been refreshed.\n",
       "if (IPython.notebook.kernel != null) {\n",
       "    IPython.notebook.kernel.comm_manager.register_target('matplotlib', mpl.mpl_figure_comm);\n",
       "}\n"
      ],
      "text/plain": [
       "<IPython.core.display.Javascript object>"
      ]
     },
     "metadata": {},
     "output_type": "display_data"
    },
    {
     "data": {
      "text/html": [
       "<img src=\"data:image/png;base64,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\" width=\"640\">"
      ],
      "text/plain": [
       "<IPython.core.display.HTML object>"
      ]
     },
     "metadata": {},
     "output_type": "display_data"
    }
   ],
   "source": [
    "ax = plt.subplot(111)"
   ]
  },
  {
   "cell_type": "code",
   "execution_count": 405,
   "metadata": {
    "collapsed": true
   },
   "outputs": [],
   "source": [
    "im = ax.imshow(gauss2d, origin='lower', cmap= plt.cm.rainbow)"
   ]
  },
  {
   "cell_type": "code",
   "execution_count": 406,
   "metadata": {
    "collapsed": true
   },
   "outputs": [],
   "source": [
    "divider = make_axes_locatable(ax)"
   ]
  },
  {
   "cell_type": "code",
   "execution_count": 407,
   "metadata": {
    "collapsed": true
   },
   "outputs": [],
   "source": [
    "cax = divider.append_axes('right', size='5%', pad=0)"
   ]
  },
  {
   "cell_type": "code",
   "execution_count": 408,
   "metadata": {
    "collapsed": true
   },
   "outputs": [],
   "source": [
    "cbar = plt.colorbar(im, cax=cax)"
   ]
  },
  {
   "cell_type": "code",
   "execution_count": 409,
   "metadata": {
    "collapsed": true
   },
   "outputs": [],
   "source": [
    "cbar.set_label('Colorbar', fontweight='bold', fontsize=12)"
   ]
  },
  {
   "cell_type": "markdown",
   "metadata": {},
   "source": [
    "# 4. Scientific Tools (SciPy Package)"
   ]
  },
  {
   "cell_type": "markdown",
   "metadata": {},
   "source": [
    "## 4.1. FFT"
   ]
  },
  {
   "cell_type": "markdown",
   "metadata": {},
   "source": [
    "## 4.2. Convolution"
   ]
  },
  {
   "cell_type": "markdown",
   "metadata": {},
   "source": [
    "## 4.3. Fitting"
   ]
  },
  {
   "cell_type": "markdown",
   "metadata": {},
   "source": [
    "## 4.4. Interpolation"
   ]
  },
  {
   "cell_type": "markdown",
   "metadata": {},
   "source": [
    "## 4.5. Optimization"
   ]
  },
  {
   "cell_type": "markdown",
   "metadata": {},
   "source": [
    "## 4.6. Noise suppresion (Savitzky-Golay Filter)"
   ]
  },
  {
   "cell_type": "markdown",
   "metadata": {},
   "source": [
    "# 5. Fits file handling (AstroPy Package)"
   ]
  },
  {
   "cell_type": "markdown",
   "metadata": {},
   "source": [
    "# 6. Solar software for python (SunPy)"
   ]
  },
  {
   "cell_type": "code",
   "execution_count": null,
   "metadata": {
    "collapsed": true
   },
   "outputs": [],
   "source": []
  }
 ],
 "metadata": {
  "kernelspec": {
   "display_name": "Python 3",
   "language": "python",
   "name": "python3"
  },
  "language_info": {
   "codemirror_mode": {
    "name": "ipython",
    "version": 3
   },
   "file_extension": ".py",
   "mimetype": "text/x-python",
   "name": "python",
   "nbconvert_exporter": "python",
   "pygments_lexer": "ipython3",
   "version": "3.6.3"
  },
  "widgets": {
   "application/vnd.jupyter.widget-state+json": {
    "state": {},
    "version_major": 2,
    "version_minor": 0
   }
  }
 },
 "nbformat": 4,
 "nbformat_minor": 2
}
